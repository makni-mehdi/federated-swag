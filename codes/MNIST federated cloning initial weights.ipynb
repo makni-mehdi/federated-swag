{
 "cells": [
  {
   "cell_type": "code",
   "execution_count": null,
   "metadata": {},
   "outputs": [],
   "source": [
    "from helper import *"
   ]
  },
  {
   "cell_type": "code",
   "execution_count": null,
   "metadata": {},
   "outputs": [],
   "source": [
    "dataset_name = \"MNIST\"\n",
    "model_cfg = models.reducedLeNet5\n",
    "title = model_cfg.__name__ + \"_\" + dataset_name + \"_federated\"\n",
    "pretrained_init = False\n",
    "pretrained_clients = False\n",
    "n_clients = 10\n",
    "n_classes = 10"
   ]
  },
  {
   "cell_type": "code",
   "execution_count": null,
   "metadata": {},
   "outputs": [],
   "source": [
    "seed = 42\n",
    "torch.backends.cudnn.benchmark = True\n",
    "torch.manual_seed(seed)\n",
    "torch.cuda.manual_seed(seed)\n",
    "np.random.seed(seed)"
   ]
  },
  {
   "cell_type": "code",
   "execution_count": null,
   "metadata": {},
   "outputs": [],
   "source": [
    "dataset = getattr(torchvision.datasets, dataset_name)\n",
    "\n",
    "batch_size = 256\n",
    "train_dataset = dataset(root='./data', train=True, download=True, transform=ToTensor())\n",
    "test_dataset = dataset(root='./data', train=False, download=True, transform=ToTensor())\n",
    "train_loader = torch.utils.data.DataLoader(train_dataset, batch_size=batch_size)\n",
    "test_loader = torch.utils.data.DataLoader(test_dataset, batch_size=batch_size)"
   ]
  },
  {
   "cell_type": "code",
   "execution_count": null,
   "metadata": {},
   "outputs": [],
   "source": [
    "pretrained_init = False"
   ]
  },
  {
   "cell_type": "code",
   "execution_count": null,
   "metadata": {
    "scrolled": true
   },
   "outputs": [],
   "source": [
    "general_model = model_cfg.base(*model_cfg.args, **model_cfg.kwargs)\n",
    "title_pretrained_init = \"pretrained_init\" + title\n",
    "\n",
    "if not pretrained_init:\n",
    "    criterion = nn.CrossEntropyLoss()\n",
    "    optimizer = torch.optim.SGD(general_model.parameters(), lr=1e-1)\n",
    "    wd = 0.0\n",
    "    lr_init = 1e-1\n",
    "    train(general_model, train_loader, test_loader, optimizer, criterion, lr_init, title=title_pretrained_init, epochs=20)\n",
    "else:\n",
    "    general_model.load_state_dict(torch.load(\"ckpts/\" + title_pretrained_init + \".pt\"))"
   ]
  },
  {
   "cell_type": "code",
   "execution_count": null,
   "metadata": {},
   "outputs": [],
   "source": [
    "client_loaders = noniid_datasets(train_loader, n_clients=10, n_classes=10)\n",
    "visualizing_client_loader(client_loaders, n_clients, n_classes, path_figures=\"./figures/\"+title)"
   ]
  },
  {
   "cell_type": "code",
   "execution_count": null,
   "metadata": {},
   "outputs": [],
   "source": [
    "pretrained_clients = False"
   ]
  },
  {
   "cell_type": "code",
   "execution_count": null,
   "metadata": {
    "scrolled": true
   },
   "outputs": [],
   "source": [
    "if not pretrained_clients:\n",
    "    s = sum(1 for _ in general_model.parameters())\n",
    "    for i in range(n_clients):\n",
    "        loader_i = client_loaders[i]\n",
    "        model = model_cfg.base(*model_cfg.args, **model_cfg.kwargs)\n",
    "        criterion = nn.CrossEntropyLoss()\n",
    "        optimizer = torch.optim.SGD(model.parameters(), lr=1e-2)\n",
    "        for j, (param, param_client) in enumerate(zip(model.parameters(), general_model.parameters())):\n",
    "            if j <= s - 2: #we do not wish to copy/clone the weights of the last layer (logistic regression layer in the report)\n",
    "                param.data = param_client.data.clone()\n",
    "        title_i = \"parametrized_preclient_\" + title + str(i)\n",
    "        wd = 0.0\n",
    "        lr_init = 1e-1\n",
    "        train(model, loader_i, test_loader, optimizer, criterion, lr_init, title=title_i, epochs=10)"
   ]
  },
  {
   "cell_type": "code",
   "execution_count": null,
   "metadata": {},
   "outputs": [],
   "source": [
    "clients = [SWAG(model_cfg.base, subspace_type=\"pca\", *model_cfg.args, **model_cfg.kwargs, \n",
    "                  subspace_kwargs={\"max_rank\": 2, \"pca_rank\": 2}) for i in range(n_clients)]\n",
    "probs = []"
   ]
  },
  {
   "cell_type": "code",
   "execution_count": null,
   "metadata": {
    "scrolled": true
   },
   "outputs": [],
   "source": [
    "for i in range(n_clients):\n",
    "    lr_init = 1e-2\n",
    "    wd = 0.0\n",
    "    epochs=20\n",
    "    title_i = \"parametrized_preclient_\" + title + str(i)\n",
    "    new_title_i = \"swag_\" + title_i\n",
    "    \n",
    "    swag_model_i = clients[i]\n",
    "    loader_i = client_loaders[i]\n",
    "    model = model_cfg.base(*model_cfg.args, **model_cfg.kwargs)\n",
    "\n",
    "    model.load_state_dict(torch.load(\"ckpts/\" + title_i + \".pt\"))\n",
    "    optimizer = torch.optim.SGD(model.parameters(), lr=lr_init, weight_decay=wd)\n",
    "    \n",
    "    #test_loader is only included to display accuracy\n",
    "    train(model, loader_i, test_loader, optimizer, criterion, lr_init, epochs, title=new_title_i, print_freq=5, \n",
    "          swag=True, swag_model=swag_model_i, swag_start=5, swag_freq=5, swag_lr=1e-2)\n",
    "    all_probs = model_averaging(swag_model_i, model=model_cfg.base(*model_cfg.args, **model_cfg.kwargs), loader=test_loader)\n",
    "    probs.append(all_probs)"
   ]
  },
  {
   "cell_type": "code",
   "execution_count": null,
   "metadata": {},
   "outputs": [],
   "source": [
    "Mu_s, Sigma_s = np.vstack([np.array(swag_model._get_mean_and_variance()[0]) for swag_model in clients]), np.vstack([np.array(swag_model._get_mean_and_variance()[1]) for swag_model in clients])"
   ]
  },
  {
   "cell_type": "code",
   "execution_count": null,
   "metadata": {},
   "outputs": [],
   "source": [
    "Sigma_server = np.reciprocal(np.sum(np.reciprocal(Sigma_s), axis=0))"
   ]
  },
  {
   "cell_type": "code",
   "execution_count": null,
   "metadata": {},
   "outputs": [],
   "source": [
    "Mu_server = np.multiply(Sigma_server, np.sum(np.multiply(Mu_s, np.reciprocal(Sigma_s)), axis=0))"
   ]
  },
  {
   "cell_type": "code",
   "execution_count": null,
   "metadata": {},
   "outputs": [],
   "source": [
    "model = model_cfg.base(*model_cfg.args, **model_cfg.kwargs)\n",
    "set_weights(model, torch.tensor(Mu_server))\n",
    "accuracy_model(model, test_loader, 'cpu')"
   ]
  },
  {
   "cell_type": "code",
   "execution_count": null,
   "metadata": {},
   "outputs": [],
   "source": [
    "swag_model = SWAG(model_cfg.base, subspace_type=\"pca\", *model_cfg.args, **model_cfg.kwargs, \n",
    "                  subspace_kwargs={\"max_rank\": 2, \"pca_rank\": 2})\n",
    "swag_model.mean = torch.tensor(Mu_server, dtype=torch.float32)\n",
    "swag_model.sq_mean = torch.tensor(Sigma_server, dtype=torch.float32) + swag_model.mean ** 2\n",
    "swag_model.cov_factor = torch.eye(swag_model.mean.shape[0], dtype=torch.float32) * swag_model.sq_mean\n"
   ]
  },
  {
   "cell_type": "code",
   "execution_count": null,
   "metadata": {},
   "outputs": [],
   "source": [
    "accuracies = {}"
   ]
  },
  {
   "cell_type": "code",
   "execution_count": null,
   "metadata": {},
   "outputs": [],
   "source": [
    "swag_all_probs = model_averaging(swag_model, model, test_loader, S=10)\n",
    "ytest = np.array(test_loader.dataset.targets)\n",
    "acc_swag = accuracy_all_probs(swag_all_probs, ytest)\n",
    "accuracies['swag'] = acc_swag\n",
    "acc_swag"
   ]
  },
  {
   "cell_type": "code",
   "execution_count": null,
   "metadata": {
    "scrolled": true
   },
   "outputs": [],
   "source": [
    "model = model_cfg.base(*model_cfg.args, **model_cfg.kwargs)\n",
    "for i in range(10):\n",
    "    set_weights(model, torch.tensor(Mu_s[i]))\n",
    "    print(f\"Mu {i}:\" , accuracy_model(model, test_loader, 'cpu'))"
   ]
  },
  {
   "cell_type": "code",
   "execution_count": null,
   "metadata": {},
   "outputs": [],
   "source": [
    "new_mu_server = np.average(Mu_s, weights=[len(client_loader.dataset) for client_loader in client_loaders.values()], axis=0)\n",
    "model = model_cfg.base(*model_cfg.args, **model_cfg.kwargs)\n",
    "set_weights(model, torch.tensor(new_mu_server))\n",
    "accuracy_model(model, test_loader, 'cpu')"
   ]
  },
  {
   "cell_type": "code",
   "execution_count": null,
   "metadata": {},
   "outputs": [],
   "source": [
    "new_mu_server = np.mean(Mu_s, axis=0)\n",
    "model = model_cfg.base(*model_cfg.args, **model_cfg.kwargs)\n",
    "set_weights(model, torch.tensor(new_mu_server))\n",
    "accuracy_model(model, test_loader, 'cpu')"
   ]
  },
  {
   "cell_type": "code",
   "execution_count": null,
   "metadata": {},
   "outputs": [],
   "source": [
    "all_probs = np.average(probs, weights=[len(client_loader.dataset) for client_loader in client_loaders.values()], axis=0)\n",
    "ytest = np.array(test_loader.dataset.targets)\n",
    "accuracy_all_probs(all_probs, ytest)"
   ]
  },
  {
   "cell_type": "code",
   "execution_count": null,
   "metadata": {},
   "outputs": [],
   "source": [
    "all_probs = np.mean(probs, axis=0)\n",
    "ytest = np.array(test_loader.dataset.targets)\n",
    "accuracy_all_probs(all_probs, ytest)"
   ]
  },
  {
   "cell_type": "code",
   "execution_count": null,
   "metadata": {},
   "outputs": [],
   "source": [
    "accuracy_model(general_model, test_loader, 'cpu')"
   ]
  },
  {
   "cell_type": "code",
   "execution_count": null,
   "metadata": {
    "scrolled": true
   },
   "outputs": [],
   "source": [
    "sgld = Sgld(model_cfg.base(*model_cfg.args, **model_cfg.kwargs))\n",
    "sgld_path = \"./ckpts/sgld_\" + title + \".pt\"\n",
    "state_dict, save_dict = sgld.run(train_loader, test_loader, 20, params_optimizer={'lr' : 1e-2}, weight_decay=0.0, t_burn_in=5, path_save_samples=sgld_path)\n",
    "sgld_all_probs = np.array(sgld_tools.predictions(test_loader, model, path=sgld_path, device='cpu'))"
   ]
  },
  {
   "cell_type": "code",
   "execution_count": null,
   "metadata": {},
   "outputs": [],
   "source": [
    "psgld = Sgld(model_cfg.base(*model_cfg.args, **model_cfg.kwargs))\n",
    "psgld_path = \"./ckpts/psgld_\" + title + \".pt\"\n",
    "pstate_dict, psave_dict = sgld.run(train_loader, test_loader, T20, params_optimizer={'lr' : 1e-2, 'precondition_decay_rate' : 0.95}, weight_decay=0.0, t_burn_in=5, path_save_samples=psgld_path)\n",
    "psgld_all_probs = np.array(sgld_tools.predictions(test_loader, model, path=psgld_path, device='cpu'))"
   ]
  },
  {
   "cell_type": "code",
   "execution_count": null,
   "metadata": {
    "scrolled": true
   },
   "outputs": [],
   "source": [
    "save_calibration_scores(swag_all_probs, ytest, title=\"swag\")\n",
    "save_calibration_scores(sgld_all_probs, ytest, title=\"SGLD\")\n",
    "save_calibration_scores(psgld_all_probs, ytest, title=\"pSGLD\")"
   ]
  },
  {
   "cell_type": "code",
   "execution_count": null,
   "metadata": {},
   "outputs": [],
   "source": [
    "def compute_nll(all_probs, ytest):\n",
    "    log_it = - np.log(np.take_along_axis(all_probs, np.expand_dims(ytest, axis=1), axis=1)).squeeze()\n",
    "    nll = log_it.mean()\n",
    "    return nll"
   ]
  },
  {
   "cell_type": "code",
   "execution_count": null,
   "metadata": {},
   "outputs": [],
   "source": [
    "compute_nll(swag_all_probs, ytest)"
   ]
  },
  {
   "cell_type": "code",
   "execution_count": null,
   "metadata": {},
   "outputs": [],
   "source": [
    "compute_nll(sgld_all_probs, ytest)"
   ]
  },
  {
   "cell_type": "code",
   "execution_count": null,
   "metadata": {},
   "outputs": [],
   "source": [
    "compute_nll(psgld_all_probs, ytest)"
   ]
  },
  {
   "cell_type": "code",
   "execution_count": null,
   "metadata": {},
   "outputs": [],
   "source": [
    "swag_all_probs"
   ]
  },
  {
   "cell_type": "code",
   "execution_count": null,
   "metadata": {},
   "outputs": [],
   "source": [
    "tau_list = np.linspace(0, 1, num=100)"
   ]
  },
  {
   "cell_type": "code",
   "execution_count": null,
   "metadata": {},
   "outputs": [],
   "source": [
    "sns.set(rc={\"figure.dpi\":600, 'savefig.dpi':600})\n",
    "sns.set_style(\"darkgrid\")\n",
    "path_figures = path + \"/figures\"\n",
    "tau_list = np.linspace(0, 1, num=100)\n",
    "for name, all_probs in [('swag', swag_all_probs), ('sgld', sgld_all_probs), ('psgld', psgld_all_probs)]:\n",
    "  acc_conf = accuracy_confidence(all_probs, ytest, tau_list, num_bins = 20)\n",
    "  plt.plot(tau_list, acc_conf, label=name)\n",
    "plt.xlabel(r\"$\\tau$\", fontsize=18)\n",
    "plt.ylabel(r\"accuracy - confidence | confidence $\\geq \\tau$\", fontsize=12)\n",
    "plt.legend()\n",
    "plt.savefig(path_figures + '/acc_conf-' + title + '.pdf', bbox_inches='tight')\n",
    "plt.show()\n",
    "\n",
    "for name, all_probs in [('swag', swag_all_probs), ('sgld', sgld_all_probs), ('psgld', psgld_all_probs)]:\n",
    "  cal_curve = calibration_curve(all_probs, ytest, num_bins = 20)\n",
    "  plt.plot(cal_curve[1], cal_curve[0] - cal_curve[1], label=name)\n",
    "plt.xlabel(\"confidence\", fontsize=16)\n",
    "plt.ylabel(\"accuracy - confidence\", fontsize=12)\n",
    "plt.legend()\n",
    "plt.savefig(path_figures + '/cal_curve-' + title + '.pdf', bbox_inches='tight')\n",
    "plt.show()"
   ]
  }
 ],
 "metadata": {
  "kernelspec": {
   "display_name": "Python 3",
   "language": "python",
   "name": "python3"
  },
  "language_info": {
   "codemirror_mode": {
    "name": "ipython",
    "version": 3
   },
   "file_extension": ".py",
   "mimetype": "text/x-python",
   "name": "python",
   "nbconvert_exporter": "python",
   "pygments_lexer": "ipython3",
   "version": "3.8.5"
  }
 },
 "nbformat": 4,
 "nbformat_minor": 4
}
