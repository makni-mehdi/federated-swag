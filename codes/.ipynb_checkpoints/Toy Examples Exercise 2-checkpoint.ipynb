{
 "cells": [
  {
   "cell_type": "code",
   "execution_count": 105,
   "metadata": {},
   "outputs": [],
   "source": [
    "import numpy as np\n",
    "import numpy.random\n",
    "from numpy.random import multivariate_normal, uniform\n",
    "from operator import mul\n",
    "from functools import reduce\n",
    "import matplotlib.pyplot as plt"
   ]
  },
  {
   "cell_type": "markdown",
   "metadata": {},
   "source": [
    "# Exercise 1\n",
    "### Initialization"
   ]
  },
  {
   "cell_type": "code",
   "execution_count": 79,
   "metadata": {},
   "outputs": [],
   "source": [
    "N = 10    #Nb clients\n",
    "m = 100   #Nb data points\n",
    "mala_samples = 10**6\n",
    "nb_thetas = 5 * 10**5\n",
    "eta = 0.1\n",
    "seed = 42\n",
    "mean = np.array([0, 0])\n",
    "I_2 = np.array([[1, 0], [0, 1]])\n",
    "numpy.random.seed(seed=seed)"
   ]
  },
  {
   "cell_type": "markdown",
   "metadata": {},
   "source": [
    "### Data Generation"
   ]
  },
  {
   "cell_type": "code",
   "execution_count": 58,
   "metadata": {},
   "outputs": [],
   "source": [
    "mu = np.array([multivariate_normal(mean, I_2) for i in range(N)])\n",
    "X = np.array([[multivariate_normal(2 * mu[i], I_2 / 3) for j in range(m)] for i in range(N)])"
   ]
  },
  {
   "cell_type": "code",
   "execution_count": 59,
   "metadata": {},
   "outputs": [
    {
     "name": "stdout",
     "output_type": "stream",
     "text": [
      "(10, 2)\n",
      "(10, 100, 2)\n"
     ]
    }
   ],
   "source": [
    "print(mu.shape)\n",
    "print(X.shape)"
   ]
  },
  {
   "cell_type": "code",
   "execution_count": 32,
   "metadata": {},
   "outputs": [
    {
     "data": {
      "text/plain": [
       "array([-0.35146004, -0.28497184])"
      ]
     },
     "execution_count": 32,
     "metadata": {},
     "output_type": "execute_result"
    }
   ],
   "source": [
    "X.mean(axis=(0, 1))"
   ]
  },
  {
   "cell_type": "markdown",
   "metadata": {},
   "source": [
    "### Parameters sampling"
   ]
  },
  {
   "cell_type": "code",
   "execution_count": 88,
   "metadata": {},
   "outputs": [],
   "source": [
    "theta = np.array([reduce(mul, [multivariate_normal(X[i, j], I_2) for i, j in zip(range(N), range(m))], 1) for _ in range(nb_thetas)])"
   ]
  },
  {
   "cell_type": "markdown",
   "metadata": {},
   "source": [
    "### Computing Expectiation using MALA\n",
    "<!-- #### In what follows we use the fact that $f(\\theta) = ||\\theta||$ -->"
   ]
  },
  {
   "cell_type": "code",
   "execution_count": 61,
   "metadata": {},
   "outputs": [],
   "source": [
    "def f(theta):\n",
    "    return np.linalg.norm(theta)\n",
    "\n",
    "def grad_f(theta):\n",
    "    return theta / np.linalg.norm(theta)"
   ]
  },
  {
   "cell_type": "code",
   "execution_count": 62,
   "metadata": {},
   "outputs": [],
   "source": [
    "def q(x, y, eta):\n",
    "    return - f(y) - np.linalg.norm(x - y + eta * grad_f(y))**2 / (4 * eta)\n",
    "def mala_sample(current, eta):\n",
    "    return current - eta * grad_f(current) + np.sqrt(2 * eta) * multivariate_normal(mean, I_2) #2 * current is grad f(current)"
   ]
  },
  {
   "cell_type": "code",
   "execution_count": 78,
   "metadata": {},
   "outputs": [],
   "source": [
    "def mala_algo(theta_star, mala_samples, eta):\n",
    "    current = theta_star\n",
    "    accepted = []\n",
    "    count = 0\n",
    "    for _ in range(mala_samples):\n",
    "        new = mala_sample(current, eta)\n",
    "        alpha = min(1, np.exp(q(current, new, eta) - q(new, current, eta)))\n",
    "        u = uniform(0, 1)\n",
    "        if u <= alpha:\n",
    "            accepted.append(new)\n",
    "            current = new\n",
    "            count += 1\n",
    "        else:\n",
    "            accepted.append(current)\n",
    "        print(f\"Acceptance rate: {count / mala_samples}\")\n",
    "    return accepted"
   ]
  },
  {
   "cell_type": "code",
   "execution_count": 64,
   "metadata": {},
   "outputs": [],
   "source": [
    "theta_star = X.mean(axis=(0, 1))"
   ]
  },
  {
   "cell_type": "code",
   "execution_count": 65,
   "metadata": {},
   "outputs": [],
   "source": [
    "accepted = np.array(mala_algo(theta_star, mala_samples, eta))"
   ]
  },
  {
   "cell_type": "code",
   "execution_count": 66,
   "metadata": {},
   "outputs": [
    {
     "data": {
      "text/plain": [
       "array([-0.00758595, -0.0013403 ])"
      ]
     },
     "execution_count": 66,
     "metadata": {},
     "output_type": "execute_result"
    }
   ],
   "source": [
    "accepted.mean(axis=0)"
   ]
  },
  {
   "cell_type": "code",
   "execution_count": 98,
   "metadata": {},
   "outputs": [],
   "source": [
    "average = np.linalg.norm(accepted[200000:], axis=1).mean()"
   ]
  },
  {
   "cell_type": "code",
   "execution_count": 99,
   "metadata": {},
   "outputs": [
    {
     "data": {
      "text/plain": [
       "1.9789547005626582"
      ]
     },
     "execution_count": 99,
     "metadata": {},
     "output_type": "execute_result"
    }
   ],
   "source": [
    "average"
   ]
  },
  {
   "cell_type": "markdown",
   "metadata": {},
   "source": [
    "### MSE loss plot"
   ]
  },
  {
   "cell_type": "code",
   "execution_count": 103,
   "metadata": {},
   "outputs": [],
   "source": [
    "rolling_average = f(theta[0])\n",
    "loss = [(average - rolling_average)**2]\n",
    "\n",
    "# for n_iter in range(1, nb_thetas):\n",
    "for n_iter in range(1, 10**4):\n",
    "    rolling_average = (rolling_average * n_iter + f(theta[n_iter])) / (n_iter + 1)\n",
    "    loss.append((average - rolling_average)**2)\n",
    "    \n",
    "# print(loss)\n",
    "    "
   ]
  },
  {
   "cell_type": "code",
   "execution_count": 107,
   "metadata": {},
   "outputs": [
    {
     "data": {
      "text/plain": [
       "[<matplotlib.lines.Line2D at 0x263c79e3ac0>]"
      ]
     },
     "execution_count": 107,
     "metadata": {},
     "output_type": "execute_result"
    },
    {
     "data": {
      "image/png": "[encoded data removed]",
      "text/plain": [
       "<Figure size 432x288 with 1 Axes>"
      ]
     },
     "metadata": {
      "needs_background": "light"
     },
     "output_type": "display_data"
    }
   ],
   "source": [
    "plt.plot(loss[10:])"
   ]
  },
  {
   "cell_type": "code",
   "execution_count": 121,
   "metadata": {},
   "outputs": [
    {
     "data": {
      "text/plain": [
       "-636.4318779056741"
      ]
     },
     "execution_count": 121,
     "metadata": {},
     "output_type": "execute_result"
    }
   ],
   "source": [
    "X.sum()"
   ]
  },
  {
   "cell_type": "markdown",
   "metadata": {},
   "source": [
    "# Exercise 2"
   ]
  },
  {
   "cell_type": "code",
   "execution_count": null,
   "metadata": {},
   "outputs": [],
   "source": []
  }
 ],
 "metadata": {
  "kernelspec": {
   "display_name": "Python 3",
   "language": "python",
   "name": "python3"
  },
  "language_info": {
   "codemirror_mode": {
    "name": "ipython",
    "version": 3
   },
   "file_extension": ".py",
   "mimetype": "text/x-python",
   "name": "python",
   "nbconvert_exporter": "python",
   "pygments_lexer": "ipython3",
   "version": "3.8.5"
  }
 },
 "nbformat": 4,
 "nbformat_minor": 4
}
