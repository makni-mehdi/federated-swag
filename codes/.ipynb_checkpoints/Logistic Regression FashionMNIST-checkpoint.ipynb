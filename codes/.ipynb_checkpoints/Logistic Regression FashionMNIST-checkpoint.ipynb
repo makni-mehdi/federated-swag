{
 "cells": [
  {
   "cell_type": "code",
   "execution_count": 554,
   "metadata": {},
   "outputs": [],
   "source": [
    "import torch\n",
    "import torch.nn as nn\n",
    "import torch.functional as F\n",
    "from torch.distributions.normal import Normal\n",
    "from torch.distributions.multivariate_normal import MultivariateNormal\n",
    "import matplotlib.pyplot as plt\n",
    "import numpy as np\n",
    "import sklearn.datasets\n",
    "from sklearn.model_selection import train_test_split\n",
    "from sklearn.preprocessing import StandardScaler"
   ]
  },
  {
   "cell_type": "code",
   "execution_count": 555,
   "metadata": {},
   "outputs": [],
   "source": [
    "from torchvision import datasets\n",
    "from torchvision.transforms import ToTensor"
   ]
  },
  {
   "cell_type": "markdown",
   "metadata": {},
   "source": [
    "# Data Preprocessing"
   ]
  },
  {
   "cell_type": "code",
   "execution_count": 556,
   "metadata": {
    "scrolled": true
   },
   "outputs": [],
   "source": [
    "training_data = datasets.FashionMNIST(\n",
    "    root=\"data\",\n",
    "    train=True,\n",
    "    download=True,\n",
    "    transform=ToTensor()\n",
    ")"
   ]
  },
  {
   "cell_type": "code",
   "execution_count": 557,
   "metadata": {},
   "outputs": [],
   "source": [
    "test_data = datasets.FashionMNIST(\n",
    "    root=\"data\",\n",
    "    train=False,\n",
    "    download=True,\n",
    "    transform=ToTensor()\n",
    ")"
   ]
  },
  {
   "cell_type": "code",
   "execution_count": 558,
   "metadata": {},
   "outputs": [
    {
     "data": {
      "text/plain": [
       "Dataset FashionMNIST\n",
       "    Number of datapoints: 60000\n",
       "    Root location: data\n",
       "    Split: Train\n",
       "    StandardTransform\n",
       "Transform: ToTensor()"
      ]
     },
     "execution_count": 558,
     "metadata": {},
     "output_type": "execute_result"
    }
   ],
   "source": [
    "training_data"
   ]
  },
  {
   "cell_type": "code",
   "execution_count": 559,
   "metadata": {},
   "outputs": [
    {
     "data": {
      "image/png": "[encoded data removed]",
      "text/plain": [
       "<Figure size 576x576 with 9 Axes>"
      ]
     },
     "metadata": {
      "needs_background": "light"
     },
     "output_type": "display_data"
    }
   ],
   "source": [
    "labels_map = {\n",
    "    0: \"T-Shirt\",\n",
    "    1: \"Trouser\",\n",
    "    2: \"Pullover\",\n",
    "    3: \"Dress\",\n",
    "    4: \"Coat\",\n",
    "    5: \"Sandal\",\n",
    "    6: \"Shirt\",\n",
    "    7: \"Sneaker\",\n",
    "    8: \"Bag\",\n",
    "    9: \"Ankle Boot\",\n",
    "}\n",
    "figure = plt.figure(figsize=(8, 8))\n",
    "cols, rows = 3, 3\n",
    "for i in range(1, cols * rows + 1):\n",
    "    sample_idx = torch.randint(len(training_data), size=(1,)).item()\n",
    "    img, label = training_data[sample_idx]\n",
    "    figure.add_subplot(rows, cols, i)\n",
    "    plt.title(labels_map[label])\n",
    "    plt.axis(\"off\")\n",
    "    plt.imshow(img.squeeze(), cmap=\"gray\")\n",
    "plt.show()\n"
   ]
  },
  {
   "cell_type": "code",
   "execution_count": 560,
   "metadata": {},
   "outputs": [],
   "source": [
    "X_train = torch.cat([data[0] for data in training_data])"
   ]
  },
  {
   "cell_type": "code",
   "execution_count": 561,
   "metadata": {},
   "outputs": [
    {
     "data": {
      "text/plain": [
       "torch.Size([60000, 28, 28])"
      ]
     },
     "execution_count": 561,
     "metadata": {},
     "output_type": "execute_result"
    }
   ],
   "source": [
    "X_train.shape"
   ]
  },
  {
   "cell_type": "code",
   "execution_count": 562,
   "metadata": {},
   "outputs": [],
   "source": [
    "y_train = torch.cat([torch.tensor([data[1]]) for data in training_data])"
   ]
  },
  {
   "cell_type": "code",
   "execution_count": 563,
   "metadata": {},
   "outputs": [
    {
     "data": {
      "text/plain": [
       "torch.Size([60000])"
      ]
     },
     "execution_count": 563,
     "metadata": {},
     "output_type": "execute_result"
    }
   ],
   "source": [
    "y_train.shape"
   ]
  },
  {
   "cell_type": "code",
   "execution_count": 564,
   "metadata": {},
   "outputs": [],
   "source": [
    "X_test = torch.cat([data[0] for data in test_data])"
   ]
  },
  {
   "cell_type": "code",
   "execution_count": 565,
   "metadata": {},
   "outputs": [
    {
     "data": {
      "text/plain": [
       "torch.Size([10000, 28, 28])"
      ]
     },
     "execution_count": 565,
     "metadata": {},
     "output_type": "execute_result"
    }
   ],
   "source": [
    "X_test.shape"
   ]
  },
  {
   "cell_type": "code",
   "execution_count": 566,
   "metadata": {},
   "outputs": [],
   "source": [
    "y_test = torch.cat([torch.tensor([data[1]]) for data in test_data])"
   ]
  },
  {
   "cell_type": "code",
   "execution_count": 567,
   "metadata": {},
   "outputs": [
    {
     "data": {
      "text/plain": [
       "torch.Size([10000])"
      ]
     },
     "execution_count": 567,
     "metadata": {},
     "output_type": "execute_result"
    }
   ],
   "source": [
    "y_test.shape"
   ]
  },
  {
   "cell_type": "code",
   "execution_count": 568,
   "metadata": {},
   "outputs": [],
   "source": [
    "y_test_init = np.array([data[1] for data in test_data])"
   ]
  },
  {
   "cell_type": "code",
   "execution_count": 569,
   "metadata": {},
   "outputs": [],
   "source": [
    "y_train = torch.nn.functional.one_hot(y_train, 10)"
   ]
  },
  {
   "cell_type": "code",
   "execution_count": 570,
   "metadata": {},
   "outputs": [],
   "source": [
    "y_test = torch.nn.functional.one_hot(y_test, 10)"
   ]
  },
  {
   "cell_type": "code",
   "execution_count": 571,
   "metadata": {},
   "outputs": [],
   "source": [
    "X_train = X_train.view(X_train.shape[0], -1)\n",
    "X_test = X_test.view(X_test.shape[0], -1)\n",
    "y_train = y_train.type(torch.float32)\n",
    "y_test = y_test.type(torch.float32)"
   ]
  },
  {
   "cell_type": "markdown",
   "metadata": {},
   "source": [
    "# Model Creation"
   ]
  },
  {
   "cell_type": "code",
   "execution_count": 572,
   "metadata": {},
   "outputs": [],
   "source": [
    "n_samples, n_features = X_train.shape"
   ]
  },
  {
   "cell_type": "code",
   "execution_count": 573,
   "metadata": {},
   "outputs": [],
   "source": [
    "input_size, output_size = n_features, 10"
   ]
  },
  {
   "cell_type": "code",
   "execution_count": 574,
   "metadata": {},
   "outputs": [],
   "source": [
    "class LogisticRegression(nn.Module):\n",
    "    def __init__(self, input_size, output_size):\n",
    "        super(LogisticRegression, self).__init__()\n",
    "        self.lin = nn.Linear(input_size, output_size)\n",
    "        self.soft = nn.Softmax(dim=0)\n",
    "    \n",
    "    def forward(self, x):\n",
    "        return self.soft(self.lin(x))"
   ]
  },
  {
   "cell_type": "code",
   "execution_count": 575,
   "metadata": {},
   "outputs": [],
   "source": [
    "model = LogisticRegression(input_size, output_size)"
   ]
  },
  {
   "cell_type": "code",
   "execution_count": 576,
   "metadata": {},
   "outputs": [],
   "source": [
    "criterion = nn.CrossEntropyLoss()\n",
    "optimizer = torch.optim.SGD(model.parameters(), lr=learning_rate)"
   ]
  },
  {
   "cell_type": "markdown",
   "metadata": {},
   "source": [
    "# Training Phase"
   ]
  },
  {
   "cell_type": "code",
   "execution_count": 636,
   "metadata": {},
   "outputs": [],
   "source": [
    "learning_rate = 0.1\n",
    "n_iters = 1000"
   ]
  },
  {
   "cell_type": "code",
   "execution_count": 637,
   "metadata": {},
   "outputs": [],
   "source": [
    "torch.manual_seed(0);"
   ]
  },
  {
   "cell_type": "code",
   "execution_count": 638,
   "metadata": {},
   "outputs": [
    {
     "data": {
      "text/plain": [
       "torch.Size([60000, 10])"
      ]
     },
     "execution_count": 638,
     "metadata": {},
     "output_type": "execute_result"
    }
   ],
   "source": [
    "y_pred.shape"
   ]
  },
  {
   "cell_type": "code",
   "execution_count": 639,
   "metadata": {},
   "outputs": [
    {
     "data": {
      "text/plain": [
       "torch.Size([60000, 10])"
      ]
     },
     "execution_count": 639,
     "metadata": {},
     "output_type": "execute_result"
    }
   ],
   "source": [
    "y_train.shape"
   ]
  },
  {
   "cell_type": "code",
   "execution_count": 640,
   "metadata": {
    "scrolled": true
   },
   "outputs": [
    {
     "name": "stdout",
     "output_type": "stream",
     "text": [
      "epoch 10, loss = 0.1849, accuracy = 95.563\n",
      "epoch 20, loss = 0.1849, accuracy = 95.563\n",
      "epoch 30, loss = 0.1849, accuracy = 95.563\n",
      "epoch 40, loss = 0.1849, accuracy = 95.563\n",
      "epoch 50, loss = 0.1849, accuracy = 95.563\n",
      "epoch 60, loss = 0.1849, accuracy = 95.563\n",
      "epoch 70, loss = 0.1849, accuracy = 95.563\n",
      "epoch 80, loss = 0.1849, accuracy = 95.563\n",
      "epoch 90, loss = 0.1849, accuracy = 95.563\n",
      "epoch 100, loss = 0.1849, accuracy = 95.563\n",
      "epoch 110, loss = 0.1849, accuracy = 95.563\n",
      "epoch 120, loss = 0.1849, accuracy = 95.563\n",
      "epoch 130, loss = 0.1849, accuracy = 95.563\n",
      "epoch 140, loss = 0.1849, accuracy = 95.563\n",
      "epoch 150, loss = 0.1849, accuracy = 95.563\n",
      "epoch 160, loss = 0.1849, accuracy = 95.563\n",
      "epoch 170, loss = 0.1849, accuracy = 95.563\n",
      "epoch 180, loss = 0.1849, accuracy = 95.563\n",
      "epoch 190, loss = 0.1849, accuracy = 95.563\n",
      "epoch 200, loss = 0.1849, accuracy = 95.563\n",
      "epoch 210, loss = 0.1849, accuracy = 95.563\n",
      "epoch 220, loss = 0.1849, accuracy = 95.563\n",
      "epoch 230, loss = 0.1849, accuracy = 95.563\n",
      "epoch 240, loss = 0.1849, accuracy = 95.563\n",
      "epoch 250, loss = 0.1849, accuracy = 95.563\n",
      "epoch 260, loss = 0.1849, accuracy = 95.563\n",
      "epoch 270, loss = 0.1849, accuracy = 95.563\n",
      "epoch 280, loss = 0.1849, accuracy = 95.563\n",
      "epoch 290, loss = 0.1849, accuracy = 95.563\n",
      "epoch 300, loss = 0.1849, accuracy = 95.563\n",
      "epoch 310, loss = 0.1849, accuracy = 95.563\n",
      "epoch 320, loss = 0.1849, accuracy = 95.563\n",
      "epoch 330, loss = 0.1849, accuracy = 95.563\n",
      "epoch 340, loss = 0.1849, accuracy = 95.563\n",
      "epoch 350, loss = 0.1849, accuracy = 95.563\n",
      "epoch 360, loss = 0.1849, accuracy = 95.563\n",
      "epoch 370, loss = 0.1849, accuracy = 95.563\n",
      "epoch 380, loss = 0.1849, accuracy = 95.563\n",
      "epoch 390, loss = 0.1849, accuracy = 95.563\n",
      "epoch 400, loss = 0.1849, accuracy = 95.563\n",
      "epoch 410, loss = 0.1849, accuracy = 95.563\n",
      "epoch 420, loss = 0.1849, accuracy = 95.563\n",
      "epoch 430, loss = 0.1849, accuracy = 95.563\n",
      "epoch 440, loss = 0.1849, accuracy = 95.563\n",
      "epoch 450, loss = 0.1849, accuracy = 95.563\n",
      "epoch 460, loss = 0.1849, accuracy = 95.563\n",
      "epoch 470, loss = 0.1849, accuracy = 95.563\n",
      "epoch 480, loss = 0.1849, accuracy = 95.563\n",
      "epoch 490, loss = 0.1849, accuracy = 95.563\n",
      "epoch 500, loss = 0.1849, accuracy = 95.563\n",
      "epoch 510, loss = 0.1849, accuracy = 95.563\n",
      "epoch 520, loss = 0.1849, accuracy = 95.563\n",
      "epoch 530, loss = 0.1849, accuracy = 95.563\n",
      "epoch 540, loss = 0.1849, accuracy = 95.563\n",
      "epoch 550, loss = 0.1849, accuracy = 95.563\n",
      "epoch 560, loss = 0.1849, accuracy = 95.563\n",
      "epoch 570, loss = 0.1849, accuracy = 95.563\n",
      "epoch 580, loss = 0.1849, accuracy = 95.563\n",
      "epoch 590, loss = 0.1849, accuracy = 95.563\n",
      "epoch 600, loss = 0.1849, accuracy = 95.563\n",
      "epoch 610, loss = 0.1849, accuracy = 95.563\n",
      "epoch 620, loss = 0.1849, accuracy = 95.563\n",
      "epoch 630, loss = 0.1849, accuracy = 95.563\n",
      "epoch 640, loss = 0.1849, accuracy = 95.563\n",
      "epoch 650, loss = 0.1849, accuracy = 95.563\n",
      "epoch 660, loss = 0.1849, accuracy = 95.563\n",
      "epoch 670, loss = 0.1849, accuracy = 95.563\n",
      "epoch 680, loss = 0.1849, accuracy = 95.563\n",
      "epoch 690, loss = 0.1849, accuracy = 95.563\n",
      "epoch 700, loss = 0.1849, accuracy = 95.563\n",
      "epoch 710, loss = 0.1849, accuracy = 95.563\n",
      "epoch 720, loss = 0.1849, accuracy = 95.563\n",
      "epoch 730, loss = 0.1849, accuracy = 95.563\n",
      "epoch 740, loss = 0.1849, accuracy = 95.563\n",
      "epoch 750, loss = 0.1849, accuracy = 95.563\n",
      "epoch 760, loss = 0.1849, accuracy = 95.563\n",
      "epoch 770, loss = 0.1849, accuracy = 95.563\n",
      "epoch 780, loss = 0.1849, accuracy = 95.563\n",
      "epoch 790, loss = 0.1849, accuracy = 95.563\n",
      "epoch 800, loss = 0.1849, accuracy = 95.563\n",
      "epoch 810, loss = 0.1849, accuracy = 95.563\n",
      "epoch 820, loss = 0.1849, accuracy = 95.563\n",
      "epoch 830, loss = 0.1849, accuracy = 95.563\n",
      "epoch 840, loss = 0.1849, accuracy = 95.563\n",
      "epoch 850, loss = 0.1849, accuracy = 95.563\n",
      "epoch 860, loss = 0.1849, accuracy = 95.563\n",
      "epoch 870, loss = 0.1849, accuracy = 95.563\n",
      "epoch 880, loss = 0.1849, accuracy = 95.563\n",
      "epoch 890, loss = 0.1849, accuracy = 95.563\n",
      "epoch 900, loss = 0.1849, accuracy = 95.563\n",
      "epoch 910, loss = 0.1849, accuracy = 95.563\n",
      "epoch 920, loss = 0.1849, accuracy = 95.563\n",
      "epoch 930, loss = 0.1849, accuracy = 95.563\n",
      "epoch 940, loss = 0.1849, accuracy = 95.563\n",
      "epoch 950, loss = 0.1849, accuracy = 95.563\n",
      "epoch 960, loss = 0.1849, accuracy = 95.563\n",
      "epoch 970, loss = 0.1849, accuracy = 95.563\n",
      "epoch 980, loss = 0.1849, accuracy = 95.563\n",
      "epoch 990, loss = 0.1849, accuracy = 95.563\n",
      "epoch 1000, loss = 0.1849, accuracy = 95.563\n"
     ]
    }
   ],
   "source": [
    "for epoch in range(n_iters):\n",
    "    optimizer.zero_grad()\n",
    "    y_pred = model(X_train)\n",
    "    loss = criterion(y_pred, y_train)\n",
    "    loss.backward()\n",
    "    optimizer.step()\n",
    "    \n",
    "    if (epoch + 1) % 10 == 0:\n",
    "        accuracy = ((y_pred > 0.5) == y_train).sum() / float(y_train.shape[0] * y_train.shape[1]) * 100\n",
    "        print(f'epoch {epoch + 1}, loss = {loss.item():.4f}, accuracy = {accuracy:.3f}')"
   ]
  },
  {
   "cell_type": "markdown",
   "metadata": {},
   "source": [
    "# Baseline Accuracy and loss using standard SGD"
   ]
  },
  {
   "cell_type": "code",
   "execution_count": 642,
   "metadata": {},
   "outputs": [
    {
     "name": "stdout",
     "output_type": "stream",
     "text": [
      "loss = 0.18804188072681427\n",
      "accuracy = 95.36399841308594\n"
     ]
    }
   ],
   "source": [
    "with torch.no_grad():\n",
    "    y_hat_test = model(X_test)\n",
    "    loss = criterion(y_hat_test, y_test)\n",
    "    print(f'loss = {loss.item()}')\n",
    "    y_hat_cls = (y_hat_test > 0.5)\n",
    "    accuracy = (y_hat_cls == y_test).sum() / float(y_test.shape[0] * y_test.shape[1]) * 100\n",
    "    print(f'accuracy = {accuracy}')"
   ]
  },
  {
   "cell_type": "markdown",
   "metadata": {},
   "source": [
    "# SWA Implementation\n",
    "- Now that the model is trained and we have a decent starting point for the weights. We run Stochastic Weight Averaging."
   ]
  },
  {
   "cell_type": "markdown",
   "metadata": {},
   "source": [
    "### Save old_model so that we do not write the obtained results"
   ]
  },
  {
   "cell_type": "code",
   "execution_count": 643,
   "metadata": {},
   "outputs": [],
   "source": [
    "old_model = LogisticRegression(input_size, output_size)"
   ]
  },
  {
   "cell_type": "code",
   "execution_count": 644,
   "metadata": {},
   "outputs": [],
   "source": [
    "for param_old, param_model in zip(old_model.parameters(), model.parameters()):\n",
    "    param_old.data = param_model.data.clone()"
   ]
  },
  {
   "cell_type": "markdown",
   "metadata": {},
   "source": [
    "### New swa_model with "
   ]
  },
  {
   "cell_type": "code",
   "execution_count": 645,
   "metadata": {},
   "outputs": [],
   "source": [
    "swa_model = LogisticRegression(input_size, output_size)"
   ]
  },
  {
   "cell_type": "code",
   "execution_count": 646,
   "metadata": {},
   "outputs": [],
   "source": [
    "for param_swa, param_model in zip(swa_model.parameters(), model.parameters()):\n",
    "    param_swa.data = param_model.data.clone()"
   ]
  },
  {
   "cell_type": "code",
   "execution_count": 647,
   "metadata": {},
   "outputs": [],
   "source": [
    "# deepcopy the weights so they do not change when we udpate model"
   ]
  },
  {
   "cell_type": "code",
   "execution_count": 648,
   "metadata": {},
   "outputs": [],
   "source": [
    "swa_iters = 300\n",
    "swa_lr = 0.05\n",
    "c_update = 10 # update weights every c_update epochs.\n",
    "swa_n = 100 # used for moving average"
   ]
  },
  {
   "cell_type": "markdown",
   "metadata": {},
   "source": [
    "### Following the definition of schedule in the swa implementation"
   ]
  },
  {
   "cell_type": "code",
   "execution_count": 649,
   "metadata": {},
   "outputs": [],
   "source": [
    "learning_rate_list = []\n",
    "\n",
    "def schedule(epoch):\n",
    "    t = epoch / swa_iters\n",
    "    lr_ratio = swa_lr / learning_rate\n",
    "    if t <= 0.5:\n",
    "        factor = 1.0\n",
    "    elif t <= 0.9:\n",
    "        factor = 1.0 - (1.0 - lr_ratio) * (t - 0.5) / 0.4\n",
    "    else:\n",
    "        factor = lr_ratio\n",
    "    lr = learning_rate * factor \n",
    "    # print('lr = ', lr)\n",
    "    learning_rate_list.append(lr)\n",
    "    return lr"
   ]
  },
  {
   "cell_type": "code",
   "execution_count": 650,
   "metadata": {},
   "outputs": [],
   "source": [
    "def adjust_learning_rate(optimizer, lr):\n",
    "    for param_group in optimizer.param_groups:\n",
    "        param_group['lr'] = lr\n",
    "    return lr"
   ]
  },
  {
   "cell_type": "code",
   "execution_count": 651,
   "metadata": {},
   "outputs": [],
   "source": [
    "# update parameters of net1 with input from net2\n",
    "def moving_average(net1, net2, alpha=1):\n",
    "    for param1, param2 in zip(net1.parameters(), net2.parameters()):\n",
    "        param1.data = param1.data * (1 - alpha) + param2.data * alpha"
   ]
  },
  {
   "cell_type": "code",
   "execution_count": 652,
   "metadata": {
    "scrolled": true
   },
   "outputs": [
    {
     "name": "stdout",
     "output_type": "stream",
     "text": [
      "Updating the weights for epoch = 1009\n",
      "Updating the weights for epoch = 1019\n",
      "Updating the weights for epoch = 1029\n",
      "Updating the weights for epoch = 1039\n",
      "Updating the weights for epoch = 1049\n",
      "Updating the weights for epoch = 1059\n",
      "Updating the weights for epoch = 1069\n",
      "Updating the weights for epoch = 1079\n",
      "Updating the weights for epoch = 1089\n",
      "Updating the weights for epoch = 1099\n",
      "Updating the weights for epoch = 1109\n",
      "Updating the weights for epoch = 1119\n",
      "Updating the weights for epoch = 1129\n",
      "Updating the weights for epoch = 1139\n",
      "Updating the weights for epoch = 1149\n",
      "Updating the weights for epoch = 1159\n",
      "Updating the weights for epoch = 1169\n",
      "Updating the weights for epoch = 1179\n",
      "Updating the weights for epoch = 1189\n",
      "Updating the weights for epoch = 1199\n",
      "Updating the weights for epoch = 1209\n",
      "Updating the weights for epoch = 1219\n",
      "Updating the weights for epoch = 1229\n",
      "Updating the weights for epoch = 1239\n",
      "Updating the weights for epoch = 1249\n",
      "Updating the weights for epoch = 1259\n",
      "Updating the weights for epoch = 1269\n",
      "Updating the weights for epoch = 1279\n",
      "Updating the weights for epoch = 1289\n",
      "Updating the weights for epoch = 1299\n"
     ]
    }
   ],
   "source": [
    "for epoch in range(n_iters, n_iters + swa_iters):\n",
    "    # swa lr schedule config\n",
    "    lr = schedule(epoch - n_iters)\n",
    "    adjust_learning_rate(optimizer, lr)\n",
    "    \n",
    "    # training model\n",
    "    optimizer.zero_grad()  # même si ça ne change rien, j'aime bien mettre à 0 le gradient juste avant de commencer les calculs :-)\n",
    "    y_pred = model(X_train)\n",
    "    loss = criterion(y_pred, y_train)\n",
    "    loss.backward()\n",
    "    optimizer.step()\n",
    "\n",
    "    # updating swa_weight with moving_average\n",
    "    if (epoch - n_iters + 1) % c_update == 0:\n",
    "        print(f\"Updating the weights for epoch = {epoch}\")\n",
    "        moving_average(swa_model, model, 1 / (swa_n + 1))\n",
    "        swa_n += 1"
   ]
  },
  {
   "cell_type": "code",
   "execution_count": 653,
   "metadata": {},
   "outputs": [
    {
     "data": {
      "text/plain": [
       "<matplotlib.legend.Legend at 0x189c33eebe0>"
      ]
     },
     "execution_count": 653,
     "metadata": {},
     "output_type": "execute_result"
    },
    {
     "data": {
      "image/png": "[encoded data removed]",
      "text/plain": [
       "<Figure size 432x288 with 1 Axes>"
      ]
     },
     "metadata": {
      "needs_background": "light"
     },
     "output_type": "display_data"
    }
   ],
   "source": [
    "plt.plot(learning_rate_list, label='Learning rate')\n",
    "plt.legend()"
   ]
  },
  {
   "cell_type": "code",
   "execution_count": 654,
   "metadata": {},
   "outputs": [],
   "source": [
    "# old_model results"
   ]
  },
  {
   "cell_type": "code",
   "execution_count": 655,
   "metadata": {},
   "outputs": [
    {
     "name": "stdout",
     "output_type": "stream",
     "text": [
      "loss = 0.18804188072681427\n",
      "accuracy = 95.36399841308594\n"
     ]
    }
   ],
   "source": [
    "with torch.no_grad():\n",
    "    y_hat_test = old_model(X_test)\n",
    "    loss = criterion(y_hat_test, y_test)\n",
    "    print(f'loss = {loss.item()}')\n",
    "    y_hat_cls = (y_hat_test > 0.5)\n",
    "    accuracy = (y_hat_cls == y_test).sum() / float(y_test.shape[0] * y_test.shape[1]) * 100\n",
    "    print(f'accuracy = {accuracy}')"
   ]
  },
  {
   "cell_type": "code",
   "execution_count": 656,
   "metadata": {},
   "outputs": [],
   "source": [
    "# swa_model results thanks to averaging"
   ]
  },
  {
   "cell_type": "code",
   "execution_count": 657,
   "metadata": {},
   "outputs": [
    {
     "name": "stdout",
     "output_type": "stream",
     "text": [
      "loss = 0.18804185092449188\n",
      "accuracy = 95.36399841308594\n"
     ]
    }
   ],
   "source": [
    "with torch.no_grad():\n",
    "    y_hat_test = swa_model(X_test)\n",
    "    loss = criterion(y_hat_test, y_test)\n",
    "    print(f'loss = {loss.item()}')\n",
    "    y_hat_cls = (y_hat_test > 0.5) * 1\n",
    "    accuracy = (y_hat_cls == y_test).sum() / float(y_test.shape[0] * y_test.shape[1]) * 100\n",
    "    print(f'accuracy = {accuracy}')"
   ]
  },
  {
   "cell_type": "code",
   "execution_count": 658,
   "metadata": {},
   "outputs": [],
   "source": [
    "# current model obtained with running more SGD updates on old_model"
   ]
  },
  {
   "cell_type": "code",
   "execution_count": 659,
   "metadata": {},
   "outputs": [
    {
     "name": "stdout",
     "output_type": "stream",
     "text": [
      "loss = 0.18804188072681427\n",
      "accuracy = 95.36399841308594\n"
     ]
    }
   ],
   "source": [
    "with torch.no_grad():\n",
    "    y_hat_test = model(X_test)\n",
    "    loss = criterion(y_hat_test, y_test)\n",
    "    print(f'loss = {loss.item()}')\n",
    "    y_hat_cls = (y_hat_test > 0.5) * 1\n",
    "    accuracy = (y_hat_cls == y_test).sum() / float(y_test.shape[0] * y_test.shape[1]) * 100\n",
    "    print(f'accuracy = {accuracy}')"
   ]
  },
  {
   "cell_type": "markdown",
   "metadata": {},
   "source": [
    "# Rk about SWA: \n",
    "- Usually the loss of SWA is between the latest and oldest models but with these parameters of learning_rate, it is very slightly better. \n",
    "Maybe it can perform even better when it is is not a strongly convex problem"
   ]
  },
  {
   "cell_type": "code",
   "execution_count": null,
   "metadata": {},
   "outputs": [],
   "source": []
  },
  {
   "cell_type": "code",
   "execution_count": null,
   "metadata": {},
   "outputs": [],
   "source": []
  },
  {
   "cell_type": "markdown",
   "metadata": {},
   "source": [
    "# SWAG implementation"
   ]
  },
  {
   "cell_type": "code",
   "execution_count": 660,
   "metadata": {},
   "outputs": [],
   "source": [
    "# copy the old_model parameters here"
   ]
  },
  {
   "cell_type": "code",
   "execution_count": 661,
   "metadata": {},
   "outputs": [],
   "source": [
    "swag_model = LogisticRegression(input_size, output_size)"
   ]
  },
  {
   "cell_type": "code",
   "execution_count": 662,
   "metadata": {},
   "outputs": [],
   "source": [
    "for swag_param, param in zip(swag_model.parameters(), old_model.parameters()):\n",
    "    swag_param.data = param.data.clone()"
   ]
  },
  {
   "cell_type": "code",
   "execution_count": 663,
   "metadata": {},
   "outputs": [
    {
     "data": {
      "text/plain": [
       "0.1"
      ]
     },
     "execution_count": 663,
     "metadata": {},
     "output_type": "execute_result"
    }
   ],
   "source": [
    "learning_rate"
   ]
  },
  {
   "cell_type": "code",
   "execution_count": 664,
   "metadata": {},
   "outputs": [],
   "source": [
    "criterion = nn.BCELoss()\n",
    "optimizer = torch.optim.SGD(swag_model.parameters(), lr=learning_rate*10000)"
   ]
  },
  {
   "cell_type": "code",
   "execution_count": 665,
   "metadata": {},
   "outputs": [],
   "source": [
    "# Initialize the thetas as described in the algorithm"
   ]
  },
  {
   "cell_type": "code",
   "execution_count": 666,
   "metadata": {},
   "outputs": [],
   "source": [
    "theta = torch.cat([param.data.view(-1) for param in swag_model.parameters()])"
   ]
  },
  {
   "cell_type": "code",
   "execution_count": 667,
   "metadata": {},
   "outputs": [],
   "source": [
    "sq2theta = torch.cat([param.data.view(-1)**2 for param in swag_model.parameters()])"
   ]
  },
  {
   "cell_type": "code",
   "execution_count": 668,
   "metadata": {},
   "outputs": [
    {
     "data": {
      "text/plain": [
       "tensor([-0.0244, -0.0212, -0.0248,  ..., -0.0107, -0.1307, -0.3136])"
      ]
     },
     "execution_count": 668,
     "metadata": {},
     "output_type": "execute_result"
    }
   ],
   "source": [
    "theta # example of theta"
   ]
  },
  {
   "cell_type": "code",
   "execution_count": 669,
   "metadata": {},
   "outputs": [
    {
     "data": {
      "text/plain": [
       "tensor([0.0006, 0.0004, 0.0006,  ..., 0.0001, 0.0171, 0.0983])"
      ]
     },
     "execution_count": 669,
     "metadata": {},
     "output_type": "execute_result"
    }
   ],
   "source": [
    "sq2theta"
   ]
  },
  {
   "cell_type": "code",
   "execution_count": 670,
   "metadata": {},
   "outputs": [],
   "source": [
    "# Input of Swag as described in pseudocode\n",
    "T = 300\n",
    "c = 10\n",
    "K = 20\n",
    "D = torch.empty((theta.shape[0], K))"
   ]
  },
  {
   "cell_type": "code",
   "execution_count": 671,
   "metadata": {},
   "outputs": [],
   "source": [
    "# the SWAG loop"
   ]
  },
  {
   "cell_type": "code",
   "execution_count": 672,
   "metadata": {
    "scrolled": true
   },
   "outputs": [
    {
     "name": "stdout",
     "output_type": "stream",
     "text": [
      "n = 0.0\n",
      "n = 1.0\n",
      "n = 2.0\n",
      "n = 3.0\n",
      "n = 4.0\n",
      "n = 5.0\n",
      "n = 6.0\n",
      "n = 7.0\n",
      "n = 8.0\n",
      "n = 9.0\n",
      "n = 10.0\n",
      "n = 11.0\n",
      "n = 12.0\n",
      "n = 13.0\n",
      "n = 14.0\n",
      "n = 15.0\n",
      "n = 16.0\n",
      "n = 17.0\n",
      "n = 18.0\n",
      "n = 19.0\n",
      "n = 20.0\n",
      "n = 21.0\n",
      "n = 22.0\n",
      "n = 23.0\n",
      "n = 24.0\n",
      "n = 25.0\n",
      "n = 26.0\n",
      "n = 27.0\n",
      "n = 28.0\n",
      "n = 29.0\n"
     ]
    }
   ],
   "source": [
    "for i in range(T):\n",
    "    \n",
    "    y_pred = model(X_train)\n",
    "    loss = criterion(y_pred, y_train)\n",
    "    loss.backward()\n",
    "    optimizer.step()\n",
    "    optimizer.zero_grad()\n",
    "    \n",
    "    theta_i = torch.cat([param.data.view(-1) for param in swag_model.parameters()])\n",
    "    if i % c == 0:\n",
    "        n = i / c\n",
    "        print(f\"n = {n}\")\n",
    "\n",
    "        theta = (n * theta + theta_i) / (n + 1)\n",
    "        sq2theta = (n * sq2theta + theta_i**2) / (n + 1)\n",
    "                    \n",
    "        D = torch.cat((D[:, 1:], (theta_i - theta).view(-1, 1)), dim=1)\n",
    "        \n",
    "theta_swa = theta\n",
    "sigma_diag = torch.clamp(sq2theta - theta**2, 1e-16)\n",
    "D_hat = D"
   ]
  },
  {
   "cell_type": "code",
   "execution_count": 673,
   "metadata": {},
   "outputs": [],
   "source": [
    "# Output examples"
   ]
  },
  {
   "cell_type": "code",
   "execution_count": 677,
   "metadata": {},
   "outputs": [
    {
     "data": {
      "text/plain": [
       "tensor([-0.0244, -0.0212, -0.0248,  ..., -0.0107, -0.1307, -0.3136])"
      ]
     },
     "execution_count": 677,
     "metadata": {},
     "output_type": "execute_result"
    }
   ],
   "source": [
    "theta_swa"
   ]
  },
  {
   "cell_type": "code",
   "execution_count": 678,
   "metadata": {},
   "outputs": [
    {
     "data": {
      "text/plain": [
       "torch.Size([7850])"
      ]
     },
     "execution_count": 678,
     "metadata": {},
     "output_type": "execute_result"
    }
   ],
   "source": [
    "sigma_diag.shape"
   ]
  },
  {
   "cell_type": "code",
   "execution_count": 679,
   "metadata": {},
   "outputs": [
    {
     "data": {
      "text/plain": [
       "torch.Size([7850, 20])"
      ]
     },
     "execution_count": 679,
     "metadata": {},
     "output_type": "execute_result"
    }
   ],
   "source": [
    "D_hat.shape"
   ]
  },
  {
   "cell_type": "markdown",
   "metadata": {},
   "source": [
    "# Testing SWAG"
   ]
  },
  {
   "cell_type": "code",
   "execution_count": 680,
   "metadata": {},
   "outputs": [],
   "source": [
    "S = 10\n",
    "d = sigma_diag.shape[0]\n",
    "mean_d = np.zeros(d)\n",
    "cov_d = np.eye(d)\n",
    "mean_K = np.zeros(K)\n",
    "cov_K = np.eye(K)\n",
    "# for i in range(S):\n",
    "#     theta_hat_i = theta_swa + 1 / np.sqrt(2) * (sigma_diag ** 0.5) * np.random.normal(mean_d, cov_d) + \\\n",
    "#         1 / np.sqrt(2 * (K - 1)) * np.random.normal(mean_K, cov_K)"
   ]
  },
  {
   "cell_type": "markdown",
   "metadata": {},
   "source": [
    "# Calculate Probability\n",
    "- There is a small problem here in the variance of Normal but I will fix it today."
   ]
  },
  {
   "cell_type": "code",
   "execution_count": 825,
   "metadata": {},
   "outputs": [],
   "source": [
    "dist = MultivariateNormal(theta_swa, 1/2 * torch.eye(sigma_diag.shape[0]) * sigma_diag * 10**5 + torch.matmul(D_hat, D_hat.transpose(0, 1)) / (2 * (K - 1)))"
   ]
  },
  {
   "cell_type": "code",
   "execution_count": 682,
   "metadata": {},
   "outputs": [
    {
     "name": "stdout",
     "output_type": "stream",
     "text": [
      "tensor([-0.0244, -0.0212, -0.0248,  ..., -0.0107, -0.1307, -0.3136])\n"
     ]
    }
   ],
   "source": [
    "print(theta)"
   ]
  },
  {
   "cell_type": "code",
   "execution_count": 683,
   "metadata": {},
   "outputs": [
    {
     "data": {
      "text/plain": [
       "torch.Size([7850])"
      ]
     },
     "execution_count": 683,
     "metadata": {},
     "output_type": "execute_result"
    }
   ],
   "source": [
    "dist.sample().shape"
   ]
  },
  {
   "cell_type": "code",
   "execution_count": 684,
   "metadata": {},
   "outputs": [
    {
     "data": {
      "text/plain": [
       "tensor([0.0983, 0.0893, 0.0186, 0.0868, 0.0382, 0.3453, 0.0519, 0.1330, 0.0533,\n",
       "        0.0853])"
      ]
     },
     "execution_count": 684,
     "metadata": {},
     "output_type": "execute_result"
    }
   ],
   "source": [
    " "
   ]
  },
  {
   "cell_type": "code",
   "execution_count": 686,
   "metadata": {},
   "outputs": [
    {
     "data": {
      "text/plain": [
       "LogisticRegression(\n",
       "  (lin): Linear(in_features=784, out_features=10, bias=True)\n",
       "  (soft): Softmax(dim=1)\n",
       ")"
      ]
     },
     "execution_count": 686,
     "metadata": {},
     "output_type": "execute_result"
    }
   ],
   "source": [
    "old_model"
   ]
  },
  {
   "cell_type": "code",
   "execution_count": 795,
   "metadata": {},
   "outputs": [],
   "source": [
    "x = X_test[10]"
   ]
  },
  {
   "cell_type": "code",
   "execution_count": null,
   "metadata": {},
   "outputs": [],
   "source": []
  },
  {
   "cell_type": "code",
   "execution_count": 739,
   "metadata": {},
   "outputs": [],
   "source": [
    "y = y_test[10]"
   ]
  },
  {
   "cell_type": "code",
   "execution_count": 710,
   "metadata": {},
   "outputs": [
    {
     "data": {
      "text/plain": [
       "tensor([0., 0., 0., 0., 1., 0., 0., 0., 0., 0.])"
      ]
     },
     "execution_count": 710,
     "metadata": {},
     "output_type": "execute_result"
    }
   ],
   "source": [
    "y"
   ]
  },
  {
   "cell_type": "code",
   "execution_count": 706,
   "metadata": {},
   "outputs": [
    {
     "data": {
      "text/plain": [
       "torch.Size([10000, 784])"
      ]
     },
     "execution_count": 706,
     "metadata": {},
     "output_type": "execute_result"
    }
   ],
   "source": [
    "X_test.shape"
   ]
  },
  {
   "cell_type": "code",
   "execution_count": 722,
   "metadata": {},
   "outputs": [
    {
     "data": {
      "text/plain": [
       "[tensor([-2.4442e-02, -2.1150e-02, -2.4805e-02,  ...,  6.7910e-03,\n",
       "          3.3668e-02,  9.4152e-05]),\n",
       " tensor([ 0.0694, -0.0208,  0.0530,  0.0031, -0.2681,  0.6787, -0.0487, -0.0107,\n",
       "         -0.1307, -0.3136])]"
      ]
     },
     "execution_count": 722,
     "metadata": {},
     "output_type": "execute_result"
    }
   ],
   "source": [
    "[param.data.view(-1) for param in old_model.parameters()]"
   ]
  },
  {
   "cell_type": "code",
   "execution_count": 719,
   "metadata": {},
   "outputs": [
    {
     "data": {
      "text/plain": [
       "tensor([-0.0244, -0.0212, -0.0248,  ..., -0.0107, -0.1307, -0.3136])"
      ]
     },
     "execution_count": 719,
     "metadata": {},
     "output_type": "execute_result"
    }
   ],
   "source": [
    "theta_try"
   ]
  },
  {
   "cell_type": "code",
   "execution_count": 720,
   "metadata": {},
   "outputs": [
    {
     "data": {
      "text/plain": [
       "tensor([-0.0244, -0.0212, -0.0248,  ..., -0.0107, -0.1307, -0.3136])"
      ]
     },
     "execution_count": 720,
     "metadata": {},
     "output_type": "execute_result"
    }
   ],
   "source": [
    "theta_swa"
   ]
  },
  {
   "cell_type": "code",
   "execution_count": 763,
   "metadata": {},
   "outputs": [],
   "source": [
    "x = torch.cat([x, torch.tensor([1], dtype=torch.float32)])"
   ]
  },
  {
   "cell_type": "code",
   "execution_count": 728,
   "metadata": {},
   "outputs": [
    {
     "data": {
      "text/plain": [
       "torch.Size([785])"
      ]
     },
     "execution_count": 728,
     "metadata": {},
     "output_type": "execute_result"
    }
   ],
   "source": [
    "x.shape"
   ]
  },
  {
   "cell_type": "code",
   "execution_count": 753,
   "metadata": {},
   "outputs": [
    {
     "data": {
      "text/plain": [
       "tensor([[2.5643e-04, 1.2899e-03, 4.8833e-01, 2.6311e-04, 5.0889e-01, 3.3595e-04,\n",
       "         6.9875e-05, 5.0950e-05, 1.0394e-04, 4.0789e-04]],\n",
       "       grad_fn=<SoftmaxBackward0>)"
      ]
     },
     "execution_count": 753,
     "metadata": {},
     "output_type": "execute_result"
    }
   ],
   "source": [
    "old_model(x.view(1, -1))"
   ]
  },
  {
   "cell_type": "code",
   "execution_count": 747,
   "metadata": {},
   "outputs": [],
   "source": [
    "A, b = [param.data for param in old_model.parameters()]"
   ]
  },
  {
   "cell_type": "code",
   "execution_count": 759,
   "metadata": {},
   "outputs": [
    {
     "data": {
      "text/plain": [
       "tensor([[-2.4442e-02, -2.1150e-02, -2.4805e-02,  ..., -1.2753e-02,\n",
       "         -1.6300e-03, -2.2338e-02],\n",
       "        [-3.3467e-02,  6.2373e-03,  9.6911e-03,  ...,  6.9134e-03,\n",
       "          6.4690e-03,  1.0822e-02],\n",
       "        [-2.9209e-02,  1.5631e-02,  2.8057e-02,  ...,  5.0044e-02,\n",
       "          9.2678e-03,  2.7814e-02],\n",
       "        ...,\n",
       "        [ 2.6558e-02, -2.4496e-02,  2.2649e-02,  ...,  2.5561e-02,\n",
       "          7.2375e-03,  3.2656e-02],\n",
       "        [-1.8227e-02, -9.6465e-03, -7.7203e-03,  ...,  1.2843e-02,\n",
       "         -2.0393e-02,  8.6042e-03],\n",
       "        [ 2.0553e-02, -3.5610e-02, -1.0152e-02,  ...,  6.7910e-03,\n",
       "          3.3668e-02,  9.4152e-05]])"
      ]
     },
     "execution_count": 759,
     "metadata": {},
     "output_type": "execute_result"
    }
   ],
   "source": [
    "A"
   ]
  },
  {
   "cell_type": "code",
   "execution_count": 769,
   "metadata": {},
   "outputs": [
    {
     "ename": "IndexError",
     "evalue": "too many indices for tensor of dimension 1",
     "output_type": "error",
     "traceback": [
      "\u001b[1;31m---------------------------------------------------------------------------\u001b[0m",
      "\u001b[1;31mIndexError\u001b[0m                                Traceback (most recent call last)",
      "\u001b[1;32m<ipython-input-769-edf2ae417b79>\u001b[0m in \u001b[0;36m<module>\u001b[1;34m\u001b[0m\n\u001b[1;32m----> 1\u001b[1;33m \u001b[0mtheta_swa\u001b[0m\u001b[1;33m[\u001b[0m\u001b[1;33m:\u001b[0m\u001b[1;33m,\u001b[0m \u001b[1;33m:\u001b[0m\u001b[1;33m-\u001b[0m\u001b[1;36m10\u001b[0m\u001b[1;33m]\u001b[0m\u001b[1;33m\u001b[0m\u001b[1;33m\u001b[0m\u001b[0m\n\u001b[0m",
      "\u001b[1;31mIndexError\u001b[0m: too many indices for tensor of dimension 1"
     ]
    }
   ],
   "source": []
  },
  {
   "cell_type": "code",
   "execution_count": 755,
   "metadata": {},
   "outputs": [
    {
     "data": {
      "text/plain": [
       "tensor([2.5643e-04, 1.2899e-03, 4.8833e-01, 2.6311e-04, 5.0889e-01, 3.3595e-04,\n",
       "        6.9875e-05, 5.0950e-05, 1.0394e-04, 4.0789e-04])"
      ]
     },
     "execution_count": 755,
     "metadata": {},
     "output_type": "execute_result"
    }
   ],
   "source": [
    "nn.Softmax(dim=0)(torch.matmul(A, x) + b)"
   ]
  },
  {
   "cell_type": "code",
   "execution_count": 785,
   "metadata": {},
   "outputs": [
    {
     "data": {
      "text/plain": [
       "torch.Size([10, 785])"
      ]
     },
     "execution_count": 785,
     "metadata": {},
     "output_type": "execute_result"
    }
   ],
   "source": [
    "theta_try.shape"
   ]
  },
  {
   "cell_type": "code",
   "execution_count": 798,
   "metadata": {},
   "outputs": [
    {
     "data": {
      "text/plain": [
       "torch.Size([784])"
      ]
     },
     "execution_count": 798,
     "metadata": {},
     "output_type": "execute_result"
    }
   ],
   "source": [
    "x.shape"
   ]
  },
  {
   "cell_type": "code",
   "execution_count": 799,
   "metadata": {},
   "outputs": [
    {
     "data": {
      "text/plain": [
       "tensor([-1.4698, -0.3496,  0.1547, -2.0930, -1.3521,  1.0434, -3.5189,  2.3317,\n",
       "         0.8189,  6.9475])"
      ]
     },
     "execution_count": 799,
     "metadata": {},
     "output_type": "execute_result"
    }
   ],
   "source": [
    "torch.matmul(theta_try[:, :784], x)"
   ]
  },
  {
   "cell_type": "code",
   "execution_count": 808,
   "metadata": {},
   "outputs": [
    {
     "data": {
      "text/plain": [
       "torch.Size([9, 785])"
      ]
     },
     "execution_count": 808,
     "metadata": {},
     "output_type": "execute_result"
    }
   ],
   "source": [
    "theta_try[:-1].shape"
   ]
  },
  {
   "cell_type": "code",
   "execution_count": 816,
   "metadata": {},
   "outputs": [
    {
     "data": {
      "text/plain": [
       "tensor([0.1009, 0.1051, 0.0258, 0.0891, 0.0320, 0.2102, 0.0544, 0.1483, 0.1137,\n",
       "        0.1205])"
      ]
     },
     "execution_count": 816,
     "metadata": {},
     "output_type": "execute_result"
    }
   ],
   "source": [
    "nn.Softmax(dim=0)(torch.matmul(x, theta_try[:-1]) + theta_try[-1])"
   ]
  },
  {
   "cell_type": "code",
   "execution_count": 757,
   "metadata": {},
   "outputs": [
    {
     "data": {
      "text/plain": [
       "torch.Size([7850])"
      ]
     },
     "execution_count": 757,
     "metadata": {},
     "output_type": "execute_result"
    }
   ],
   "source": [
    "theta_swa.shape"
   ]
  },
  {
   "cell_type": "code",
   "execution_count": 814,
   "metadata": {},
   "outputs": [],
   "source": [
    "theta_try = theta_swa.view(-1, 10)"
   ]
  },
  {
   "cell_type": "code",
   "execution_count": 725,
   "metadata": {},
   "outputs": [
    {
     "data": {
      "text/plain": [
       "tensor([-1.0051, -0.8028, -2.4200, -1.6885, -2.0466, -0.3499, -1.2370, -0.4002,\n",
       "        -0.1596, -0.5596])"
      ]
     },
     "execution_count": 725,
     "metadata": {},
     "output_type": "execute_result"
    }
   ],
   "source": [
    "torch.matmul(x, theta_try.view(785, 10))"
   ]
  },
  {
   "cell_type": "code",
   "execution_count": 806,
   "metadata": {},
   "outputs": [
    {
     "data": {
      "text/plain": [
       "torch.Size([7850])"
      ]
     },
     "execution_count": 806,
     "metadata": {},
     "output_type": "execute_result"
    }
   ],
   "source": [
    "point.shape"
   ]
  },
  {
   "cell_type": "code",
   "execution_count": 844,
   "metadata": {},
   "outputs": [
    {
     "data": {
      "text/plain": [
       "tensor(8)"
      ]
     },
     "execution_count": 844,
     "metadata": {},
     "output_type": "execute_result"
    }
   ],
   "source": [
    "((res > 0.5) == y).sum()"
   ]
  },
  {
   "cell_type": "code",
   "execution_count": 845,
   "metadata": {},
   "outputs": [
    {
     "data": {
      "text/plain": [
       "tensor([1.8985e-03, 4.0197e-04, 5.9724e-02, 2.3272e-04, 1.9705e-03, 2.6807e-02,\n",
       "        1.2736e-04, 1.6731e-02, 1.4186e-02, 8.7792e-01])"
      ]
     },
     "execution_count": 845,
     "metadata": {},
     "output_type": "execute_result"
    }
   ],
   "source": [
    "res"
   ]
  },
  {
   "cell_type": "code",
   "execution_count": 843,
   "metadata": {},
   "outputs": [
    {
     "name": "stdout",
     "output_type": "stream",
     "text": [
      "For s = 0, the probability for the sample is 0.011095663265306123\n",
      "For s = 1, the probability for the sample is 0.01106326530612245\n",
      "For s = 2, the probability for the sample is 0.011064285714285714\n"
     ]
    },
    {
     "ename": "KeyboardInterrupt",
     "evalue": "",
     "output_type": "error",
     "traceback": [
      "\u001b[1;31m---------------------------------------------------------------------------\u001b[0m",
      "\u001b[1;31mKeyboardInterrupt\u001b[0m                         Traceback (most recent call last)",
      "\u001b[1;32m<ipython-input-843-a54671501d80>\u001b[0m in \u001b[0;36m<module>\u001b[1;34m\u001b[0m\n\u001b[0;32m      8\u001b[0m         \u001b[0mres\u001b[0m \u001b[1;33m=\u001b[0m \u001b[0mnn\u001b[0m\u001b[1;33m.\u001b[0m\u001b[0mSoftmax\u001b[0m\u001b[1;33m(\u001b[0m\u001b[0mdim\u001b[0m\u001b[1;33m=\u001b[0m\u001b[1;36m0\u001b[0m\u001b[1;33m)\u001b[0m\u001b[1;33m(\u001b[0m\u001b[0mtorch\u001b[0m\u001b[1;33m.\u001b[0m\u001b[0mmatmul\u001b[0m\u001b[1;33m(\u001b[0m\u001b[0mpoint\u001b[0m\u001b[1;33m[\u001b[0m\u001b[1;33m:\u001b[0m\u001b[1;33m,\u001b[0m \u001b[1;33m:\u001b[0m\u001b[1;33m-\u001b[0m\u001b[1;36m1\u001b[0m\u001b[1;33m]\u001b[0m\u001b[1;33m,\u001b[0m \u001b[0mx\u001b[0m\u001b[1;33m)\u001b[0m \u001b[1;33m+\u001b[0m \u001b[0mpoint\u001b[0m\u001b[1;33m[\u001b[0m\u001b[1;33m:\u001b[0m\u001b[1;33m,\u001b[0m \u001b[1;33m-\u001b[0m\u001b[1;36m1\u001b[0m\u001b[1;33m]\u001b[0m\u001b[1;33m)\u001b[0m\u001b[1;33m\u001b[0m\u001b[1;33m\u001b[0m\u001b[0m\n\u001b[0;32m      9\u001b[0m \u001b[1;31m#         print(f\"res = {res}\")\u001b[0m\u001b[1;33m\u001b[0m\u001b[1;33m\u001b[0m\u001b[1;33m\u001b[0m\u001b[0m\n\u001b[1;32m---> 10\u001b[1;33m         \u001b[0mcount\u001b[0m \u001b[1;33m+=\u001b[0m \u001b[1;33m(\u001b[0m\u001b[1;33m(\u001b[0m\u001b[0mres\u001b[0m \u001b[1;33m>\u001b[0m \u001b[1;36m0.5\u001b[0m\u001b[1;33m)\u001b[0m \u001b[1;33m==\u001b[0m \u001b[0my\u001b[0m\u001b[1;33m)\u001b[0m\u001b[1;33m.\u001b[0m\u001b[0msum\u001b[0m\u001b[1;33m(\u001b[0m\u001b[1;33m)\u001b[0m\u001b[1;33m\u001b[0m\u001b[1;33m\u001b[0m\u001b[0m\n\u001b[0m\u001b[0;32m     11\u001b[0m \u001b[1;33m\u001b[0m\u001b[0m\n\u001b[0;32m     12\u001b[0m     \u001b[0mprint\u001b[0m\u001b[1;33m(\u001b[0m\u001b[1;34mf\"For s = {s}, the probability for the sample is {count.item() / X_test.shape[0] / X_test.shape[1]}\"\u001b[0m\u001b[1;33m)\u001b[0m\u001b[1;33m\u001b[0m\u001b[1;33m\u001b[0m\u001b[0m\n",
      "\u001b[1;31mKeyboardInterrupt\u001b[0m: "
     ]
    }
   ],
   "source": [
    "prob = 0\n",
    "# dist = MultivariateNormal(theta_swa, 1/2 * sigma_diag + torch.matmul(D_hat, D_hat.transpose(0, 1)) / (2 * (K - 1)))\n",
    "for s in range(S):\n",
    "    count = 0\n",
    "    point = dist.sample().view(10, -1)\n",
    "    for i, (x, y) in enumerate(zip(X_test, y_test)):\n",
    "#         print(f\"y = {y}\")\n",
    "        res = nn.Softmax(dim=0)(torch.matmul(point[:, :-1], x) + point[:, -1])\n",
    "#         print(f\"res = {res}\")\n",
    "        count += ((res > 0.5) == y).sum()\n",
    "\n",
    "    print(f\"For s = {s}, the probability for the sample is {count.item() / X_test.shape[0] / X_test.shape[1]}\")\n",
    "    prob += count\n",
    "    \n",
    "prob = prob / float(X_test.shape[0])"
   ]
  },
  {
   "cell_type": "code",
   "execution_count": 821,
   "metadata": {},
   "outputs": [
    {
     "data": {
      "text/plain": [
       "tensor(3.0282)"
      ]
     },
     "execution_count": 821,
     "metadata": {},
     "output_type": "execute_result"
    }
   ],
   "source": [
    "prob"
   ]
  },
  {
   "cell_type": "code",
   "execution_count": 481,
   "metadata": {},
   "outputs": [
    {
     "data": {
      "text/plain": [
       "tensor([[ 8.7564e-16, -9.8520e-16,  1.3159e-11,  1.0619e-10,  1.7890e-09,\n",
       "          6.5624e-10,  3.3881e-10,  3.5607e-09,  5.7644e-16, -1.3931e-15],\n",
       "        [ 3.5260e-17, -2.8871e-17,  6.7674e-12,  9.9022e-12,  3.3041e-10,\n",
       "          2.8228e-10,  2.1958e-10,  7.6776e-10,  3.4056e-18, -6.8020e-17],\n",
       "        [-1.7609e-16,  3.5790e-16, -5.4380e-18,  5.5842e-10,  2.8436e-10,\n",
       "          1.3669e-10,  2.4291e-10,  7.5418e-10, -3.3985e-16,  5.3094e-16],\n",
       "        [ 9.7446e-17,  3.2137e-16,  3.1610e-13,  1.9783e-12,  7.1317e-11,\n",
       "          2.7767e-10,  1.9328e-10,  2.0123e-09, -6.9008e-16,  8.7179e-17],\n",
       "        [ 5.7221e-16, -6.5632e-16,  4.1574e-14,  1.2466e-09,  4.7736e-10,\n",
       "          2.4216e-10,  4.6076e-10,  5.8868e-10,  4.1270e-16, -9.5944e-16],\n",
       "        [ 2.1189e-16, -2.1754e-16,  1.3953e-16,  1.8090e-10,  8.0217e-10,\n",
       "          3.9935e-10,  5.7308e-10,  1.5008e-09,  1.9267e-16, -1.0881e-16],\n",
       "        [-3.8154e-16,  1.8602e-16,  2.7648e-13,  1.5095e-10,  1.2879e-09,\n",
       "          1.6726e-10,  1.0040e-10,  7.6622e-10, -1.2101e-17, -3.2344e-17],\n",
       "        [ 4.3637e-16, -5.9202e-16,  8.6220e-17,  9.7407e-13,  4.2844e-11,\n",
       "          5.1433e-10,  4.7226e-10,  2.5549e-09,  3.4781e-16, -1.0373e-15],\n",
       "        [-6.8977e-16,  3.3548e-16, -2.3231e-16,  5.4129e-11,  3.2837e-10,\n",
       "          1.8714e-10,  2.5157e-10,  1.0879e-09,  6.2200e-17,  1.8376e-16],\n",
       "        [-2.8424e-16,  3.5633e-16, -4.8829e-17,  4.0457e-11,  4.3831e-10,\n",
       "          3.6552e-10,  3.8856e-10,  4.0666e-09, -2.4932e-16,  8.7312e-10]])"
      ]
     },
     "execution_count": 481,
     "metadata": {},
     "output_type": "execute_result"
    }
   ],
   "source": [
    "1/2 * torch.matmul(x, torch.matmul(((torch.eye(sigma_diag.shape[0]) * sigma_diag + torch.matmul(D_hat, D_hat.transpose(0, 1)) / (K - 1)).view(785, -1, 785)), x)).view(10, 10)"
   ]
  },
  {
   "cell_type": "code",
   "execution_count": 119,
   "metadata": {},
   "outputs": [
    {
     "data": {
      "text/plain": [
       "tensor([0.9825])"
      ]
     },
     "execution_count": 119,
     "metadata": {},
     "output_type": "execute_result"
    }
   ],
   "source": [
    "prob"
   ]
  },
  {
   "cell_type": "code",
   "execution_count": 853,
   "metadata": {},
   "outputs": [
    {
     "data": {
      "text/plain": [
       "tensor([0., 1., 2.])"
      ]
     },
     "execution_count": 853,
     "metadata": {},
     "output_type": "execute_result"
    }
   ],
   "source": [
    "torch.arange(0, float(3))"
   ]
  },
  {
   "cell_type": "code",
   "execution_count": 857,
   "metadata": {},
   "outputs": [
    {
     "ename": "TypeError",
     "evalue": "arange() received an invalid combination of arguments - got (), but expected one of:\n * (Number end, *, Tensor out, torch.dtype dtype, torch.layout layout, torch.device device, bool pin_memory, bool requires_grad)\n * (Number start, Number end, Number step, *, Tensor out, torch.dtype dtype, torch.layout layout, torch.device device, bool pin_memory, bool requires_grad)\n",
     "output_type": "error",
     "traceback": [
      "\u001b[1;31m---------------------------------------------------------------------------\u001b[0m",
      "\u001b[1;31mTypeError\u001b[0m                                 Traceback (most recent call last)",
      "\u001b[1;32m<ipython-input-857-99e1a3693d0a>\u001b[0m in \u001b[0;36m<module>\u001b[1;34m\u001b[0m\n\u001b[1;32m----> 1\u001b[1;33m \u001b[0mtorch\u001b[0m\u001b[1;33m.\u001b[0m\u001b[0marange\u001b[0m\u001b[1;33m(\u001b[0m\u001b[1;33m)\u001b[0m\u001b[1;33m.\u001b[0m\u001b[0mnew\u001b[0m\u001b[1;33m(\u001b[0m\u001b[1;33m)\u001b[0m\u001b[1;33m\u001b[0m\u001b[1;33m\u001b[0m\u001b[0m\n\u001b[0m",
      "\u001b[1;31mTypeError\u001b[0m: arange() received an invalid combination of arguments - got (), but expected one of:\n * (Number end, *, Tensor out, torch.dtype dtype, torch.layout layout, torch.device device, bool pin_memory, bool requires_grad)\n * (Number start, Number end, Number step, *, Tensor out, torch.dtype dtype, torch.layout layout, torch.device device, bool pin_memory, bool requires_grad)\n"
     ]
    }
   ],
   "source": [
    "torch"
   ]
  },
  {
   "cell_type": "markdown",
   "metadata": {},
   "source": [
    "La cellule suivante sert à afficher la courbe de calibration : confidence - accuracy en fonction de la confidence. Par exemple on peut comparer les courbes obtenus avec les différentes méthodes."
   ]
  },
  {
   "cell_type": "code",
   "execution_count": 347,
   "metadata": {},
   "outputs": [],
   "source": [
    "all_probs = np.array(model(X_test).detach())"
   ]
  },
  {
   "cell_type": "code",
   "execution_count": 348,
   "metadata": {},
   "outputs": [],
   "source": [
    "def calibration_curve(all_probs, ytest, num_bins = 1):\n",
    "    prob_preds = np.max(all_probs, 1)\n",
    "    predictions = np.argmax(all_probs, 1)\n",
    "    ind_order = np.argsort(prob_preds)\n",
    "    ind_bins = np.array_split(ind_order, num_bins)\n",
    "    bins = np.array_split(prob_preds[ind_order], num_bins)\n",
    "    accuracies = (predictions == ytest)\n",
    "    accuracy_bin_array = np.zeros(num_bins)\n",
    "    confidence_bin_array = np.zeros(num_bins)\n",
    "    for it, bin_prob in enumerate(bins):\n",
    "        accuracy_bin = accuracies[ind_bins[it]].mean()\n",
    "        confidence_bin = bin_prob.mean()\n",
    "        accuracy_bin_array[it] = accuracy_bin\n",
    "        confidence_bin_array[it] = confidence_bin\n",
    "    return accuracy_bin_array, confidence_bin_array"
   ]
  },
  {
   "cell_type": "code",
   "execution_count": 358,
   "metadata": {},
   "outputs": [
    {
     "data": {
      "text/plain": [
       "[<matplotlib.lines.Line2D at 0x189ef772d60>]"
      ]
     },
     "execution_count": 358,
     "metadata": {},
     "output_type": "execute_result"
    },
    {
     "data": {
      "image/png": "[encoded data removed]",
      "text/plain": [
       "<Figure size 432x288 with 1 Axes>"
      ]
     },
     "metadata": {
      "needs_background": "light"
     },
     "output_type": "display_data"
    }
   ],
   "source": [
    "# all_probs = # on veut une matrice : (Nb_data, dim_output) contenant les probabilités de cahque classe\n",
    "ytest = np.squeeze(y_test_init)\n",
    "# Compute the calibration curve\n",
    "cal_curve = calibration_curve(all_probs, ytest, num_bins=20)\n",
    "# Display the result\n",
    "plt.plot(cal_curve[1], cal_curve[1] - cal_curve[0])"
   ]
  },
  {
   "cell_type": "markdown",
   "metadata": {},
   "source": [
    "## That means it is less confident than what it actually is?"
   ]
  }
 ],
 "metadata": {
  "kernelspec": {
   "display_name": "Python 3",
   "language": "python",
   "name": "python3"
  },
  "language_info": {
   "codemirror_mode": {
    "name": "ipython",
    "version": 3
   },
   "file_extension": ".py",
   "mimetype": "text/x-python",
   "name": "python",
   "nbconvert_exporter": "python",
   "pygments_lexer": "ipython3",
   "version": "3.8.5"
  }
 },
 "nbformat": 4,
 "nbformat_minor": 4
}
