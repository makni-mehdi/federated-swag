{
 "cells": [
  {
   "cell_type": "code",
   "execution_count": 2,
   "metadata": {},
   "outputs": [],
   "source": [
    "from helper import *"
   ]
  },
  {
   "cell_type": "code",
   "execution_count": 4,
   "metadata": {},
   "outputs": [],
   "source": [
    "dataset_name = \"CIFAR10\"\n",
    "model_cfg = models.LeNet5CIFAR\n",
    "title = model_cfg.__name__ + \"_\" + dataset_name + \"_federated\"\n",
    "pretrained_init = False\n",
    "pretrained_clients = False\n",
    "n_clients = 10\n",
    "n_classes = 10"
   ]
  },
  {
   "cell_type": "code",
   "execution_count": 5,
   "metadata": {},
   "outputs": [],
   "source": [
    "seed = 42\n",
    "torch.backends.cudnn.benchmark = True\n",
    "torch.manual_seed(seed)\n",
    "torch.cuda.manual_seed(seed)\n",
    "np.random.seed(seed)"
   ]
  },
  {
   "cell_type": "code",
   "execution_count": 6,
   "metadata": {},
   "outputs": [
    {
     "name": "stdout",
     "output_type": "stream",
     "text": [
      "Files already downloaded and verified\n",
      "Files already downloaded and verified\n"
     ]
    }
   ],
   "source": [
    "dataset = getattr(torchvision.datasets, dataset_name)\n",
    "\n",
    "batch_size = 256\n",
    "train_dataset = dataset(root='./data', train=True, download=True, transform=ToTensor())\n",
    "test_dataset = dataset(root='./data', train=False, download=True, transform=ToTensor())\n",
    "train_loader = torch.utils.data.DataLoader(train_dataset, batch_size=batch_size)\n",
    "test_loader = torch.utils.data.DataLoader(test_dataset, batch_size=batch_size)"
   ]
  },
  {
   "cell_type": "code",
   "execution_count": 7,
   "metadata": {},
   "outputs": [],
   "source": [
    "pretrained_init = False"
   ]
  },
  {
   "cell_type": "code",
   "execution_count": 10,
   "metadata": {
    "scrolled": true
   },
   "outputs": [
    {
     "name": "stdout",
     "output_type": "stream",
     "text": [
      "idx: 0, loss: 2.2983267307281494\n",
      "idx: 10, loss: 2.302321434020996\n",
      "idx: 20, loss: 2.298173427581787\n",
      "idx: 30, loss: 2.300368070602417\n",
      "idx: 40, loss: 2.297823429107666\n",
      "idx: 50, loss: 2.2920451164245605\n",
      "idx: 60, loss: 2.296782970428467\n",
      "idx: 70, loss: 2.2844386100769043\n",
      "idx: 80, loss: 2.2673325538635254\n",
      "idx: 90, loss: 2.231943130493164\n",
      "idx: 100, loss: 2.2233736515045166\n",
      "idx: 110, loss: 2.2230281829833984\n",
      "idx: 120, loss: 2.206540584564209\n",
      "idx: 130, loss: 2.2532718181610107\n",
      "idx: 140, loss: 2.1914708614349365\n",
      "idx: 150, loss: 2.1296679973602295\n",
      "idx: 160, loss: 2.329716920852661\n",
      "idx: 170, loss: 2.104318141937256\n",
      "idx: 180, loss: 2.120154857635498\n",
      "idx: 190, loss: 2.1734631061553955\n",
      "Epoch 0. LR: 0.1. Loss: 2.1212 Accuracy 0.2559\n",
      "idx: 0, loss: 2.008105993270874\n",
      "idx: 10, loss: 1.9851776361465454\n",
      "idx: 20, loss: 1.997780680656433\n",
      "idx: 30, loss: 2.033891439437866\n",
      "idx: 40, loss: 2.1968095302581787\n",
      "idx: 50, loss: 2.084439516067505\n",
      "idx: 60, loss: 2.0306594371795654\n",
      "idx: 70, loss: 1.9854953289031982\n",
      "idx: 80, loss: 2.0574004650115967\n",
      "idx: 90, loss: 2.134467124938965\n",
      "idx: 100, loss: 1.9593517780303955\n",
      "idx: 110, loss: 2.180891275405884\n",
      "idx: 120, loss: 1.883973479270935\n",
      "idx: 130, loss: 1.9529467821121216\n",
      "idx: 140, loss: 1.8953698873519897\n",
      "idx: 150, loss: 1.9108778238296509\n",
      "idx: 160, loss: 1.973764181137085\n",
      "idx: 170, loss: 1.7994276285171509\n",
      "idx: 180, loss: 2.0026140213012695\n",
      "idx: 190, loss: 1.981163501739502\n",
      "idx: 0, loss: 1.9034605026245117\n",
      "idx: 10, loss: 1.827866792678833\n",
      "idx: 20, loss: 2.042292356491089\n",
      "idx: 30, loss: 2.0158095359802246\n",
      "idx: 40, loss: 2.1073670387268066\n",
      "idx: 50, loss: 1.835327386856079\n",
      "idx: 60, loss: 1.8559739589691162\n",
      "idx: 70, loss: 1.7140132188796997\n",
      "idx: 80, loss: 1.75607168674469\n",
      "idx: 90, loss: 1.8512578010559082\n",
      "idx: 100, loss: 1.8989132642745972\n",
      "idx: 110, loss: 1.7270851135253906\n",
      "idx: 120, loss: 1.7369248867034912\n",
      "idx: 130, loss: 1.791244626045227\n",
      "idx: 140, loss: 1.776346206665039\n",
      "idx: 150, loss: 1.6365991830825806\n",
      "idx: 160, loss: 1.922487735748291\n",
      "idx: 170, loss: 1.6012526750564575\n",
      "idx: 180, loss: 1.6853493452072144\n",
      "idx: 190, loss: 1.7603915929794312\n",
      "idx: 0, loss: 1.6587039232254028\n",
      "idx: 10, loss: 1.6508231163024902\n",
      "idx: 20, loss: 1.6964399814605713\n",
      "idx: 30, loss: 1.6895370483398438\n",
      "idx: 40, loss: 1.9561405181884766\n",
      "idx: 50, loss: 1.880972981452942\n",
      "idx: 60, loss: 1.738921046257019\n",
      "idx: 70, loss: 1.5952030420303345\n",
      "idx: 80, loss: 1.6421332359313965\n",
      "idx: 90, loss: 1.7140017747879028\n",
      "idx: 100, loss: 1.5863089561462402\n",
      "idx: 110, loss: 1.5768239498138428\n",
      "idx: 120, loss: 1.6307547092437744\n",
      "idx: 130, loss: 1.6331130266189575\n",
      "idx: 140, loss: 1.584897518157959\n",
      "idx: 150, loss: 1.7351404428482056\n",
      "idx: 160, loss: 1.6533255577087402\n",
      "idx: 170, loss: 1.5070463418960571\n",
      "idx: 180, loss: 1.5583654642105103\n",
      "idx: 190, loss: 1.6028103828430176\n",
      "idx: 0, loss: 1.531712532043457\n",
      "idx: 10, loss: 1.543831706047058\n",
      "idx: 20, loss: 1.5116933584213257\n",
      "idx: 30, loss: 1.6012487411499023\n",
      "idx: 40, loss: 1.8356951475143433\n",
      "idx: 50, loss: 1.7436567544937134\n",
      "idx: 60, loss: 1.626980185508728\n",
      "idx: 70, loss: 1.4889522790908813\n",
      "idx: 80, loss: 1.5798728466033936\n",
      "idx: 90, loss: 1.622020959854126\n",
      "idx: 100, loss: 1.4961574077606201\n",
      "idx: 110, loss: 1.468088984489441\n",
      "idx: 120, loss: 1.546409249305725\n",
      "idx: 130, loss: 1.658674955368042\n",
      "idx: 140, loss: 1.4935460090637207\n",
      "idx: 150, loss: 1.474455714225769\n",
      "idx: 160, loss: 1.558842658996582\n",
      "idx: 170, loss: 1.4410483837127686\n",
      "idx: 180, loss: 1.475482702255249\n",
      "idx: 190, loss: 1.5434293746948242\n",
      "idx: 0, loss: 1.5437649488449097\n",
      "idx: 10, loss: 1.4770885705947876\n",
      "idx: 20, loss: 1.4679834842681885\n",
      "idx: 30, loss: 1.4979655742645264\n",
      "idx: 40, loss: 1.59452223777771\n",
      "idx: 50, loss: 1.8297032117843628\n",
      "idx: 60, loss: 1.57670259475708\n",
      "idx: 70, loss: 1.4187246561050415\n",
      "idx: 80, loss: 1.5059994459152222\n",
      "idx: 90, loss: 1.5635777711868286\n",
      "idx: 100, loss: 1.4711308479309082\n",
      "idx: 110, loss: 1.3577126264572144\n",
      "idx: 120, loss: 1.5067284107208252\n",
      "idx: 130, loss: 1.4995026588439941\n",
      "idx: 140, loss: 1.4459062814712524\n",
      "idx: 150, loss: 1.438789963722229\n",
      "idx: 160, loss: 1.5071285963058472\n",
      "idx: 170, loss: 1.389815330505371\n",
      "idx: 180, loss: 1.4295793771743774\n",
      "idx: 190, loss: 1.480532169342041\n",
      "idx: 0, loss: 1.4510022401809692\n",
      "idx: 10, loss: 1.3978861570358276\n",
      "idx: 20, loss: 1.4008185863494873\n",
      "idx: 30, loss: 1.485002875328064\n",
      "idx: 40, loss: 1.5457946062088013\n",
      "idx: 50, loss: 1.6600738763809204\n",
      "idx: 60, loss: 1.5063953399658203\n",
      "idx: 70, loss: 1.3652253150939941\n",
      "idx: 80, loss: 1.4395555257797241\n",
      "idx: 90, loss: 1.3826478719711304\n",
      "idx: 100, loss: 1.3516541719436646\n",
      "idx: 110, loss: 1.2990858554840088\n",
      "idx: 120, loss: 1.484249472618103\n",
      "idx: 130, loss: 1.466193437576294\n",
      "idx: 140, loss: 1.3737990856170654\n",
      "idx: 150, loss: 1.3685951232910156\n",
      "idx: 160, loss: 1.4210454225540161\n",
      "idx: 170, loss: 1.302793025970459\n",
      "idx: 180, loss: 1.429355502128601\n",
      "idx: 190, loss: 1.4116542339324951\n",
      "idx: 0, loss: 1.3379065990447998\n",
      "idx: 10, loss: 1.3422651290893555\n",
      "idx: 20, loss: 1.3393104076385498\n",
      "idx: 30, loss: 1.3726357221603394\n",
      "idx: 40, loss: 1.5741238594055176\n",
      "idx: 50, loss: 1.4093660116195679\n",
      "idx: 60, loss: 1.4700543880462646\n",
      "idx: 70, loss: 1.4039816856384277\n",
      "idx: 80, loss: 1.396986961364746\n",
      "idx: 90, loss: 1.3366690874099731\n",
      "idx: 100, loss: 1.295238971710205\n",
      "idx: 110, loss: 1.237829327583313\n",
      "idx: 120, loss: 1.453768014907837\n",
      "idx: 130, loss: 1.4637069702148438\n",
      "idx: 140, loss: 1.3263661861419678\n",
      "idx: 150, loss: 1.30043625831604\n",
      "idx: 160, loss: 1.3500059843063354\n",
      "idx: 170, loss: 1.2702370882034302\n",
      "idx: 180, loss: 1.3963172435760498\n",
      "idx: 190, loss: 1.3482187986373901\n",
      "idx: 0, loss: 1.423815131187439\n",
      "idx: 10, loss: 1.2883915901184082\n",
      "idx: 20, loss: 1.3013921976089478\n",
      "idx: 30, loss: 1.3442847728729248\n",
      "idx: 40, loss: 1.4533262252807617\n",
      "idx: 50, loss: 1.388254165649414\n",
      "idx: 60, loss: 1.368527889251709\n",
      "idx: 70, loss: 1.2181252241134644\n",
      "idx: 80, loss: 1.3470821380615234\n",
      "idx: 90, loss: 1.2916884422302246\n",
      "idx: 100, loss: 1.253853678703308\n",
      "idx: 110, loss: 1.1950033903121948\n",
      "idx: 120, loss: 1.4043095111846924\n",
      "idx: 130, loss: 1.3791471719741821\n",
      "idx: 140, loss: 1.2662910223007202\n",
      "idx: 150, loss: 1.2600595951080322\n",
      "idx: 160, loss: 1.3007471561431885\n",
      "idx: 170, loss: 1.231047511100769\n",
      "idx: 180, loss: 1.3050118684768677\n",
      "idx: 190, loss: 1.2965925931930542\n",
      "idx: 0, loss: 1.3168089389801025\n",
      "idx: 10, loss: 1.2438998222351074\n",
      "idx: 20, loss: 1.2849065065383911\n",
      "idx: 30, loss: 1.2792154550552368\n",
      "idx: 40, loss: 1.3914533853530884\n",
      "idx: 50, loss: 1.3226326704025269\n",
      "idx: 60, loss: 1.3141741752624512\n",
      "idx: 70, loss: 1.3160263299942017\n",
      "idx: 80, loss: 1.301208257675171\n",
      "idx: 90, loss: 1.245772361755371\n",
      "idx: 100, loss: 1.1923807859420776\n",
      "idx: 110, loss: 1.1635490655899048\n",
      "idx: 120, loss: 1.3554431200027466\n",
      "idx: 130, loss: 1.3959479331970215\n",
      "idx: 140, loss: 1.2234032154083252\n",
      "idx: 150, loss: 1.1931514739990234\n",
      "idx: 160, loss: 1.3198771476745605\n",
      "idx: 170, loss: 1.1837877035140991\n",
      "idx: 180, loss: 1.284440040588379\n",
      "idx: 190, loss: 1.2535443305969238\n",
      "idx: 0, loss: 1.2538434267044067\n",
      "idx: 10, loss: 1.1789913177490234\n",
      "idx: 20, loss: 1.293581247329712\n",
      "idx: 30, loss: 1.208880066871643\n",
      "idx: 40, loss: 1.3468574285507202\n",
      "idx: 50, loss: 1.2431403398513794\n",
      "idx: 60, loss: 1.2640029191970825\n",
      "idx: 70, loss: 1.2436792850494385\n",
      "idx: 80, loss: 1.2489920854568481\n",
      "idx: 90, loss: 1.187413215637207\n",
      "idx: 100, loss: 1.146951675415039\n",
      "idx: 110, loss: 1.1017661094665527\n",
      "idx: 120, loss: 1.3221490383148193\n",
      "idx: 130, loss: 1.3743306398391724\n",
      "idx: 140, loss: 1.1749950647354126\n",
      "idx: 150, loss: 1.1517236232757568\n",
      "idx: 160, loss: 1.2142826318740845\n",
      "idx: 170, loss: 1.1562138795852661\n",
      "idx: 180, loss: 1.2090938091278076\n",
      "idx: 190, loss: 1.1854766607284546\n",
      "Epoch 10. LR: 0.088125. Loss: 1.1157 Accuracy 0.5358\n",
      "idx: 0, loss: 1.1540852785110474\n",
      "idx: 10, loss: 1.1308878660202026\n",
      "idx: 20, loss: 1.2900190353393555\n",
      "idx: 30, loss: 1.1629905700683594\n",
      "idx: 40, loss: 1.321184515953064\n",
      "idx: 50, loss: 1.1714431047439575\n",
      "idx: 60, loss: 1.2295851707458496\n",
      "idx: 70, loss: 1.1612094640731812\n",
      "idx: 80, loss: 1.214537501335144\n",
      "idx: 90, loss: 1.1518524885177612\n",
      "idx: 100, loss: 1.131355881690979\n",
      "idx: 110, loss: 1.0615825653076172\n",
      "idx: 120, loss: 1.3058862686157227\n",
      "idx: 130, loss: 1.3263341188430786\n",
      "idx: 140, loss: 1.1243318319320679\n",
      "idx: 150, loss: 1.1190812587738037\n",
      "idx: 160, loss: 1.1765156984329224\n",
      "idx: 170, loss: 1.1048911809921265\n"
     ]
    },
    {
     "name": "stdout",
     "output_type": "stream",
     "text": [
      "idx: 180, loss: 1.1577163934707642\n",
      "idx: 190, loss: 1.135966181755066\n",
      "idx: 0, loss: 1.1027967929840088\n",
      "idx: 10, loss: 1.0910338163375854\n",
      "idx: 20, loss: 1.2144562005996704\n",
      "idx: 30, loss: 1.1291475296020508\n",
      "idx: 40, loss: 1.281105399131775\n",
      "idx: 50, loss: 1.137233018875122\n",
      "idx: 60, loss: 1.1934386491775513\n",
      "idx: 70, loss: 1.1079585552215576\n",
      "idx: 80, loss: 1.1727821826934814\n",
      "idx: 90, loss: 1.0997987985610962\n",
      "idx: 100, loss: 1.1043123006820679\n",
      "idx: 110, loss: 1.0190353393554688\n",
      "idx: 120, loss: 1.2051575183868408\n",
      "idx: 130, loss: 1.242087721824646\n",
      "idx: 140, loss: 1.0955946445465088\n",
      "idx: 150, loss: 1.0784777402877808\n",
      "idx: 160, loss: 1.1355819702148438\n",
      "idx: 170, loss: 1.0593883991241455\n",
      "idx: 180, loss: 1.1055535078048706\n",
      "idx: 190, loss: 1.0833122730255127\n",
      "idx: 0, loss: 1.05419921875\n",
      "idx: 10, loss: 1.0568597316741943\n",
      "idx: 20, loss: 1.1827857494354248\n",
      "idx: 30, loss: 1.0840541124343872\n",
      "idx: 40, loss: 1.2490646839141846\n",
      "idx: 50, loss: 1.093461513519287\n",
      "idx: 60, loss: 1.1592199802398682\n",
      "idx: 70, loss: 1.0733270645141602\n",
      "idx: 80, loss: 1.1314241886138916\n",
      "idx: 90, loss: 1.0584938526153564\n",
      "idx: 100, loss: 1.0566036701202393\n",
      "idx: 110, loss: 0.9790736436843872\n",
      "idx: 120, loss: 1.1559851169586182\n",
      "idx: 130, loss: 1.2003016471862793\n",
      "idx: 140, loss: 1.06667959690094\n",
      "idx: 150, loss: 1.0545594692230225\n",
      "idx: 160, loss: 1.0942095518112183\n",
      "idx: 170, loss: 1.0183520317077637\n",
      "idx: 180, loss: 1.05825936794281\n",
      "idx: 190, loss: 1.040676474571228\n",
      "idx: 0, loss: 1.016829490661621\n",
      "idx: 10, loss: 1.0319151878356934\n",
      "idx: 20, loss: 1.1489545106887817\n",
      "idx: 30, loss: 1.0459543466567993\n",
      "idx: 40, loss: 1.227819800376892\n",
      "idx: 50, loss: 1.0629534721374512\n",
      "idx: 60, loss: 1.132423758506775\n",
      "idx: 70, loss: 1.0377249717712402\n",
      "idx: 80, loss: 1.0990357398986816\n",
      "idx: 90, loss: 1.0205401182174683\n",
      "idx: 100, loss: 1.0163042545318604\n",
      "idx: 110, loss: 0.9526962637901306\n",
      "idx: 120, loss: 1.112770676612854\n",
      "idx: 130, loss: 1.155786156654358\n",
      "idx: 140, loss: 1.039832592010498\n",
      "idx: 150, loss: 1.0238919258117676\n",
      "idx: 160, loss: 1.0607385635375977\n",
      "idx: 170, loss: 0.9785255789756775\n",
      "idx: 180, loss: 1.0294065475463867\n",
      "idx: 190, loss: 1.0077179670333862\n",
      "idx: 0, loss: 0.9805635809898376\n",
      "idx: 10, loss: 1.0019989013671875\n",
      "idx: 20, loss: 1.1136751174926758\n",
      "idx: 30, loss: 1.0164951086044312\n",
      "idx: 40, loss: 1.2018626928329468\n",
      "idx: 50, loss: 1.037368655204773\n",
      "idx: 60, loss: 1.103378176689148\n",
      "idx: 70, loss: 1.0116387605667114\n",
      "idx: 80, loss: 1.0709840059280396\n",
      "idx: 90, loss: 0.9920966625213623\n",
      "idx: 100, loss: 0.9766560196876526\n",
      "idx: 110, loss: 0.9322134256362915\n",
      "idx: 120, loss: 1.0753369331359863\n",
      "idx: 130, loss: 1.1200505495071411\n",
      "idx: 140, loss: 1.0195165872573853\n",
      "idx: 150, loss: 0.997633695602417\n",
      "idx: 160, loss: 1.0386208295822144\n",
      "idx: 170, loss: 0.9484915733337402\n",
      "idx: 180, loss: 0.9983351230621338\n",
      "idx: 190, loss: 0.9937175512313843\n",
      "idx: 0, loss: 0.958622395992279\n",
      "idx: 10, loss: 0.9798240661621094\n",
      "idx: 20, loss: 1.0811971426010132\n",
      "idx: 30, loss: 0.9991231560707092\n",
      "idx: 40, loss: 1.184025526046753\n",
      "idx: 50, loss: 1.0130966901779175\n",
      "idx: 60, loss: 1.0848411321640015\n",
      "idx: 70, loss: 0.9976641535758972\n",
      "idx: 80, loss: 1.0524266958236694\n",
      "idx: 90, loss: 0.9686229228973389\n",
      "idx: 100, loss: 0.9504034519195557\n",
      "idx: 110, loss: 0.9162473678588867\n",
      "idx: 120, loss: 1.0476778745651245\n",
      "idx: 130, loss: 1.0903294086456299\n",
      "idx: 140, loss: 1.002255916595459\n",
      "idx: 150, loss: 0.974811851978302\n",
      "idx: 160, loss: 1.0187112092971802\n",
      "idx: 170, loss: 0.9227557182312012\n",
      "idx: 180, loss: 0.9817049503326416\n",
      "idx: 190, loss: 0.9869853258132935\n",
      "idx: 0, loss: 0.930535614490509\n",
      "idx: 10, loss: 0.9605761170387268\n",
      "idx: 20, loss: 1.0527303218841553\n",
      "idx: 30, loss: 0.9849376678466797\n",
      "idx: 40, loss: 1.1714098453521729\n",
      "idx: 50, loss: 0.9965599179267883\n",
      "idx: 60, loss: 1.0691375732421875\n",
      "idx: 70, loss: 0.9803199768066406\n",
      "idx: 80, loss: 1.038462519645691\n",
      "idx: 90, loss: 0.9538009166717529\n",
      "idx: 100, loss: 0.9348638653755188\n",
      "idx: 110, loss: 0.9072739481925964\n",
      "idx: 120, loss: 1.0229229927062988\n",
      "idx: 130, loss: 1.0688660144805908\n",
      "idx: 140, loss: 0.9799402356147766\n",
      "idx: 150, loss: 0.9591729044914246\n",
      "idx: 160, loss: 1.00182044506073\n",
      "idx: 170, loss: 0.9028258919715881\n",
      "idx: 180, loss: 0.9621921181678772\n",
      "idx: 190, loss: 0.9689344167709351\n",
      "idx: 0, loss: 0.9197133183479309\n",
      "idx: 10, loss: 0.9518003463745117\n",
      "idx: 20, loss: 1.0484970808029175\n",
      "idx: 30, loss: 0.9864075183868408\n",
      "idx: 40, loss: 1.1683636903762817\n",
      "idx: 50, loss: 0.9882076978683472\n",
      "idx: 60, loss: 1.0605881214141846\n",
      "idx: 70, loss: 0.9773421883583069\n",
      "idx: 80, loss: 1.0315996408462524\n",
      "idx: 90, loss: 0.9489745497703552\n",
      "idx: 100, loss: 0.9303820133209229\n",
      "idx: 110, loss: 0.9024900794029236\n",
      "idx: 120, loss: 1.0177109241485596\n",
      "idx: 130, loss: 1.0664793252944946\n",
      "idx: 140, loss: 0.9778013825416565\n",
      "idx: 150, loss: 0.9552261829376221\n",
      "idx: 160, loss: 1.0002461671829224\n",
      "idx: 170, loss: 0.8991135358810425\n",
      "idx: 180, loss: 0.9626302123069763\n",
      "idx: 190, loss: 0.9681441187858582\n",
      "idx: 0, loss: 0.9159137010574341\n",
      "idx: 10, loss: 0.9465973973274231\n",
      "idx: 20, loss: 1.0439684391021729\n",
      "idx: 30, loss: 0.9844928979873657\n",
      "idx: 40, loss: 1.1662919521331787\n",
      "idx: 50, loss: 0.9842050075531006\n",
      "idx: 60, loss: 1.0550944805145264\n",
      "idx: 70, loss: 0.9753135442733765\n",
      "idx: 80, loss: 1.027304768562317\n",
      "idx: 90, loss: 0.9456217885017395\n",
      "idx: 100, loss: 0.9263611435890198\n",
      "idx: 110, loss: 0.8987582921981812\n",
      "idx: 120, loss: 1.0137829780578613\n",
      "idx: 130, loss: 1.0634644031524658\n",
      "idx: 140, loss: 0.9750607013702393\n",
      "idx: 150, loss: 0.9518961906433105\n",
      "idx: 160, loss: 0.9981282949447632\n",
      "idx: 170, loss: 0.8953368067741394\n",
      "idx: 180, loss: 0.9612367749214172\n",
      "idx: 190, loss: 0.9669318199157715\n",
      "Epoch 19. LR: 0.005. Loss: 0.7499 Accuracy 0.5896\n"
     ]
    }
   ],
   "source": [
    "general_model = model_cfg.base(*model_cfg.args, **model_cfg.kwargs)\n",
    "title_pretrained_init = \"pretrained_init\" + title\n",
    "\n",
    "if not pretrained_init:\n",
    "    criterion = nn.CrossEntropyLoss()\n",
    "    optimizer = torch.optim.SGD(general_model.parameters(), lr=1e-1)\n",
    "    wd = 0.0\n",
    "    lr_init = 1e-1\n",
    "    train(general_model, train_loader, test_loader, optimizer, criterion, lr_init, title=title_pretrained_init, epochs=20)\n",
    "else:\n",
    "    general_model.load_state_dict(torch.load(\"ckpts/\" + title_pretrained_init + \".pt\"))"
   ]
  },
  {
   "cell_type": "code",
   "execution_count": 11,
   "metadata": {},
   "outputs": [
    {
     "data": {
      "image/png": "[encoded data removed]",
      "text/plain": [
       "<Figure size 1440x576 with 10 Axes>"
      ]
     },
     "metadata": {
      "needs_background": "light"
     },
     "output_type": "display_data"
    },
    {
     "data": {
      "image/png": "[encoded data removed]",
      "text/plain": [
       "<Figure size 288x144 with 1 Axes>"
      ]
     },
     "metadata": {
      "needs_background": "light"
     },
     "output_type": "display_data"
    }
   ],
   "source": [
    "client_loaders = noniid_datasets(train_loader, n_clients=10, n_classes=10)\n",
    "visualizing_client_loader(client_loaders, n_clients, n_classes, path_figures=\"./figures/\"+title)"
   ]
  },
  {
   "cell_type": "code",
   "execution_count": 12,
   "metadata": {},
   "outputs": [],
   "source": [
    "pretrained_clients = False"
   ]
  },
  {
   "cell_type": "code",
   "execution_count": 26,
   "metadata": {
    "scrolled": true
   },
   "outputs": [
    {
     "name": "stdout",
     "output_type": "stream",
     "text": [
      "idx: 0, loss: 1.0535824298858643\n",
      "Epoch 0. LR: 0.1. Loss: 2.1110 Accuracy 0.2183\n",
      "idx: 0, loss: 1.9471337795257568\n",
      "idx: 0, loss: 1.5498464107513428\n",
      "idx: 0, loss: 1.4049259424209595\n",
      "idx: 0, loss: 1.268739104270935\n",
      "idx: 0, loss: 1.221419095993042\n",
      "idx: 0, loss: 1.0159472227096558\n",
      "idx: 0, loss: 0.9276743531227112\n",
      "idx: 0, loss: 0.8537327647209167\n",
      "idx: 0, loss: 0.8344661593437195\n",
      "Epoch 9. LR: 0.005. Loss: 0.8224 Accuracy 0.3608\n",
      "idx: 0, loss: 1.122108817100525\n",
      "idx: 10, loss: 1.2149640321731567\n",
      "idx: 20, loss: 1.3815960884094238\n",
      "Epoch 0. LR: 0.1. Loss: 1.0630 Accuracy 0.3483\n",
      "idx: 0, loss: 1.3204907178878784\n",
      "idx: 10, loss: 1.081462025642395\n",
      "idx: 20, loss: 1.7334052324295044\n",
      "idx: 0, loss: 1.0537391901016235\n",
      "idx: 10, loss: 1.0780999660491943\n",
      "idx: 20, loss: 1.334381341934204\n",
      "idx: 0, loss: 0.7740751504898071\n",
      "idx: 10, loss: 0.8381165862083435\n",
      "idx: 20, loss: 2.1036624908447266\n",
      "idx: 0, loss: 0.8253253698348999\n",
      "idx: 10, loss: 0.7054605484008789\n",
      "idx: 20, loss: 2.1706037521362305\n",
      "idx: 0, loss: 0.5524744391441345\n",
      "idx: 10, loss: 0.5725398659706116\n",
      "idx: 20, loss: 0.8206893801689148\n",
      "idx: 0, loss: 0.41257211565971375\n",
      "idx: 10, loss: 0.42590659856796265\n",
      "idx: 20, loss: 0.4919555187225342\n",
      "idx: 0, loss: 0.2978837490081787\n",
      "idx: 10, loss: 0.33682140707969666\n",
      "idx: 20, loss: 0.34301698207855225\n",
      "idx: 0, loss: 0.22612154483795166\n",
      "idx: 10, loss: 0.305045485496521\n",
      "idx: 20, loss: 0.254489541053772\n",
      "idx: 0, loss: 0.21384070813655853\n",
      "idx: 10, loss: 0.2779465615749359\n",
      "idx: 20, loss: 0.25032663345336914\n",
      "Epoch 9. LR: 0.005. Loss: 0.0102 Accuracy 0.4977\n",
      "idx: 0, loss: 0.9687697887420654\n",
      "idx: 10, loss: 2.219391345977783\n",
      "idx: 20, loss: 2.1715550422668457\n",
      "Epoch 0. LR: 0.1. Loss: 2.0395 Accuracy 0.1144\n",
      "idx: 0, loss: 1.9515118598937988\n",
      "idx: 10, loss: 1.8030632734298706\n",
      "idx: 20, loss: 1.877591848373413\n",
      "idx: 0, loss: 1.7577651739120483\n",
      "idx: 10, loss: 1.6061207056045532\n",
      "idx: 20, loss: 1.7459431886672974\n",
      "idx: 0, loss: 1.6436073780059814\n",
      "idx: 10, loss: 1.5639065504074097\n",
      "idx: 20, loss: 1.702905535697937\n",
      "idx: 0, loss: 1.5165008306503296\n",
      "idx: 10, loss: 1.4704649448394775\n",
      "idx: 20, loss: 1.648462176322937\n",
      "idx: 0, loss: 1.3497016429901123\n",
      "idx: 10, loss: 1.3196241855621338\n",
      "idx: 20, loss: 1.4157421588897705\n",
      "idx: 0, loss: 1.2389389276504517\n",
      "idx: 10, loss: 1.1714541912078857\n",
      "idx: 20, loss: 1.265272855758667\n",
      "idx: 0, loss: 1.1137317419052124\n",
      "idx: 10, loss: 1.0838807821273804\n",
      "idx: 20, loss: 1.1568293571472168\n",
      "idx: 0, loss: 1.0303361415863037\n",
      "idx: 10, loss: 1.0506834983825684\n",
      "idx: 20, loss: 1.0861420631408691\n",
      "idx: 0, loss: 1.0114145278930664\n",
      "idx: 10, loss: 1.0347689390182495\n",
      "idx: 20, loss: 1.0729585886001587\n",
      "Epoch 9. LR: 0.005. Loss: 0.9294 Accuracy 0.3870\n",
      "idx: 0, loss: 1.0892409086227417\n",
      "idx: 10, loss: 1.9570711851119995\n",
      "idx: 20, loss: 1.8616842031478882\n",
      "idx: 30, loss: 1.9812811613082886\n",
      "idx: 40, loss: 1.8952549695968628\n",
      "idx: 50, loss: 1.8232911825180054\n",
      "Epoch 0. LR: 0.1. Loss: 1.3376 Accuracy 0.1826\n",
      "idx: 0, loss: 1.9874403476715088\n",
      "idx: 10, loss: 1.4926530122756958\n",
      "idx: 20, loss: 1.4664950370788574\n",
      "idx: 30, loss: 1.4131742715835571\n",
      "idx: 40, loss: 1.67905592918396\n",
      "idx: 50, loss: 1.5183758735656738\n",
      "idx: 0, loss: 2.7120189666748047\n",
      "idx: 10, loss: 1.5101412534713745\n",
      "idx: 20, loss: 1.3076616525650024\n",
      "idx: 30, loss: 1.3375519514083862\n",
      "idx: 40, loss: 1.534950852394104\n",
      "idx: 50, loss: 1.401548981666565\n",
      "idx: 0, loss: 1.557765245437622\n",
      "idx: 10, loss: 1.286061406135559\n",
      "idx: 20, loss: 1.2152594327926636\n",
      "idx: 30, loss: 1.2365113496780396\n",
      "idx: 40, loss: 1.3408393859863281\n",
      "idx: 50, loss: 1.3777612447738647\n",
      "idx: 0, loss: 1.3411839008331299\n",
      "idx: 10, loss: 1.1517555713653564\n",
      "idx: 20, loss: 1.1236118078231812\n",
      "idx: 30, loss: 1.1558557748794556\n",
      "idx: 40, loss: 1.2089142799377441\n",
      "idx: 50, loss: 1.2726651430130005\n",
      "idx: 0, loss: 1.3416659832000732\n",
      "idx: 10, loss: 1.0312106609344482\n",
      "idx: 20, loss: 1.025583267211914\n",
      "idx: 30, loss: 1.0209877490997314\n",
      "idx: 40, loss: 1.0867153406143188\n",
      "idx: 50, loss: 1.1633334159851074\n",
      "idx: 0, loss: 1.0175610780715942\n",
      "idx: 10, loss: 0.9441801905632019\n",
      "idx: 20, loss: 0.9270481467247009\n",
      "idx: 30, loss: 0.930790364742279\n",
      "idx: 40, loss: 1.0276222229003906\n",
      "idx: 50, loss: 1.0563732385635376\n",
      "idx: 0, loss: 0.9200311899185181\n",
      "idx: 10, loss: 0.8757132887840271\n",
      "idx: 20, loss: 0.8566957116127014\n",
      "idx: 30, loss: 0.8555780649185181\n",
      "idx: 40, loss: 0.9129619598388672\n",
      "idx: 50, loss: 0.9631435871124268\n",
      "idx: 0, loss: 0.8704521656036377\n",
      "idx: 10, loss: 0.8303730487823486\n",
      "idx: 20, loss: 0.7867631316184998\n",
      "idx: 30, loss: 0.8338587880134583\n",
      "idx: 40, loss: 0.7822468876838684\n",
      "idx: 50, loss: 0.888169527053833\n",
      "idx: 0, loss: 0.8422504663467407\n",
      "idx: 10, loss: 0.7890312671661377\n",
      "idx: 20, loss: 0.7649791240692139\n",
      "idx: 30, loss: 0.8199257850646973\n",
      "idx: 40, loss: 0.7669957280158997\n",
      "idx: 50, loss: 0.8955078721046448\n",
      "Epoch 9. LR: 0.005. Loss: 0.0565 Accuracy 0.4417\n",
      "idx: 0, loss: 0.9890354871749878\n",
      "idx: 10, loss: 1.8931115865707397\n",
      "idx: 20, loss: 2.027409076690674\n",
      "idx: 30, loss: 1.7253806591033936\n",
      "idx: 40, loss: 1.8736250400543213\n",
      "idx: 50, loss: 1.3908770084381104\n",
      "idx: 60, loss: 1.6628882884979248\n",
      "idx: 70, loss: 1.8461568355560303\n",
      "idx: 80, loss: 1.7471269369125366\n",
      "idx: 90, loss: 1.50297212600708\n",
      "Epoch 0. LR: 0.1. Loss: 1.5030 Accuracy 0.4165\n",
      "idx: 0, loss: 1.2309852838516235\n",
      "idx: 10, loss: 1.3754321336746216\n",
      "idx: 20, loss: 1.4851348400115967\n",
      "idx: 30, loss: 1.4500309228897095\n",
      "idx: 40, loss: 1.5662727355957031\n",
      "idx: 50, loss: 1.2635202407836914\n",
      "idx: 60, loss: 1.5742745399475098\n",
      "idx: 70, loss: 1.4336410760879517\n",
      "idx: 80, loss: 1.723059892654419\n",
      "idx: 90, loss: 1.47050142288208\n",
      "idx: 0, loss: 1.2815957069396973\n",
      "idx: 10, loss: 1.1219395399093628\n",
      "idx: 20, loss: 1.4884833097457886\n",
      "idx: 30, loss: 1.1508351564407349\n",
      "idx: 40, loss: 1.320615291595459\n",
      "idx: 50, loss: 1.0358860492706299\n",
      "idx: 60, loss: 1.432599663734436\n",
      "idx: 70, loss: 1.2486047744750977\n",
      "idx: 80, loss: 1.5145553350448608\n",
      "idx: 90, loss: 1.2503046989440918\n",
      "idx: 0, loss: 1.0692379474639893\n",
      "idx: 10, loss: 0.9901889562606812\n",
      "idx: 20, loss: 1.451399803161621\n",
      "idx: 30, loss: 1.1090679168701172\n",
      "idx: 40, loss: 1.2129806280136108\n",
      "idx: 50, loss: 0.9514191150665283\n",
      "idx: 60, loss: 1.2694393396377563\n",
      "idx: 70, loss: 1.086852788925171\n",
      "idx: 80, loss: 1.3818786144256592\n",
      "idx: 90, loss: 1.0852770805358887\n",
      "idx: 0, loss: 1.0023783445358276\n",
      "idx: 10, loss: 0.8995044231414795\n",
      "idx: 20, loss: 1.615416169166565\n",
      "idx: 30, loss: 1.0352460145950317\n",
      "idx: 40, loss: 1.078374981880188\n",
      "idx: 50, loss: 0.8658088445663452\n",
      "idx: 60, loss: 1.2187963724136353\n",
      "idx: 70, loss: 0.9990848302841187\n",
      "idx: 80, loss: 1.250096082687378\n",
      "idx: 90, loss: 0.9752190709114075\n",
      "idx: 0, loss: 0.8984544277191162\n",
      "idx: 10, loss: 1.0577342510223389\n",
      "idx: 20, loss: 1.2943620681762695\n",
      "idx: 30, loss: 0.8917394876480103\n",
      "idx: 40, loss: 0.9324096441268921\n",
      "idx: 50, loss: 0.7484572529792786\n",
      "idx: 60, loss: 1.0557726621627808\n",
      "idx: 70, loss: 0.824306309223175\n",
      "idx: 80, loss: 0.9574950337409973\n",
      "idx: 90, loss: 0.7216286659240723\n",
      "idx: 0, loss: 0.7969784736633301\n",
      "idx: 10, loss: 0.7016283869743347\n",
      "idx: 20, loss: 1.059367060661316\n",
      "idx: 30, loss: 0.7797157168388367\n",
      "idx: 40, loss: 0.785629391670227\n",
      "idx: 50, loss: 0.6041620373725891\n",
      "idx: 60, loss: 0.8453489542007446\n",
      "idx: 70, loss: 0.7470116019248962\n",
      "idx: 80, loss: 0.7580670714378357\n",
      "idx: 90, loss: 0.546269953250885\n",
      "idx: 0, loss: 0.6926094889640808\n",
      "idx: 10, loss: 0.5336719155311584\n",
      "idx: 20, loss: 0.8481795787811279\n",
      "idx: 30, loss: 0.6032491326332092\n",
      "idx: 40, loss: 0.6964271068572998\n",
      "idx: 50, loss: 0.49299266934394836\n",
      "idx: 60, loss: 0.6793272495269775\n",
      "idx: 70, loss: 0.6647841930389404\n",
      "idx: 80, loss: 0.5902097225189209\n",
      "idx: 90, loss: 0.4414137601852417\n",
      "idx: 0, loss: 0.6216185688972473\n",
      "idx: 10, loss: 0.5141255855560303\n",
      "idx: 20, loss: 0.7964876294136047\n",
      "idx: 30, loss: 0.5737513899803162\n",
      "idx: 40, loss: 0.6117842793464661\n",
      "idx: 50, loss: 0.43826931715011597\n",
      "idx: 60, loss: 0.6452866792678833\n",
      "idx: 70, loss: 0.540870726108551\n",
      "idx: 80, loss: 0.521183967590332\n",
      "idx: 90, loss: 0.35146453976631165\n",
      "idx: 0, loss: 0.5851244926452637\n",
      "idx: 10, loss: 0.47419604659080505\n",
      "idx: 20, loss: 0.7298232913017273\n",
      "idx: 30, loss: 0.5527255535125732\n",
      "idx: 40, loss: 0.5878557562828064\n",
      "idx: 50, loss: 0.42520174384117126\n",
      "idx: 60, loss: 0.6159275770187378\n",
      "idx: 70, loss: 0.542893648147583\n",
      "idx: 80, loss: 0.5135198831558228\n",
      "idx: 90, loss: 0.35526660084724426\n",
      "Epoch 9. LR: 0.005. Loss: 0.3553 Accuracy 0.5099\n",
      "idx: 0, loss: 1.0985817909240723\n",
      "idx: 10, loss: 1.9646544456481934\n",
      "idx: 20, loss: 1.7924909591674805\n"
     ]
    },
    {
     "name": "stdout",
     "output_type": "stream",
     "text": [
      "idx: 30, loss: 1.667216181755066\n",
      "idx: 40, loss: 1.4791033267974854\n",
      "idx: 50, loss: 1.6309397220611572\n",
      "idx: 60, loss: 1.5671765804290771\n",
      "idx: 70, loss: 1.4396001100540161\n",
      "idx: 80, loss: 1.4574655294418335\n",
      "idx: 90, loss: 1.4965851306915283\n",
      "Epoch 0. LR: 0.1. Loss: 2.0008 Accuracy 0.2779\n",
      "idx: 0, loss: 1.840539574623108\n",
      "idx: 10, loss: 1.244763731956482\n",
      "idx: 20, loss: 1.3836791515350342\n",
      "idx: 30, loss: 1.3415844440460205\n",
      "idx: 40, loss: 1.1862151622772217\n",
      "idx: 50, loss: 1.2897522449493408\n",
      "idx: 60, loss: 1.370041847229004\n",
      "idx: 70, loss: 1.3239562511444092\n",
      "idx: 80, loss: 1.2843530178070068\n",
      "idx: 90, loss: 1.1942065954208374\n",
      "idx: 0, loss: 2.7417283058166504\n",
      "idx: 10, loss: 1.2701680660247803\n",
      "idx: 20, loss: 1.2599228620529175\n",
      "idx: 30, loss: 1.1870954036712646\n",
      "idx: 40, loss: 1.1179481744766235\n",
      "idx: 50, loss: 1.2009656429290771\n",
      "idx: 60, loss: 1.2733567953109741\n",
      "idx: 70, loss: 1.2802672386169434\n",
      "idx: 80, loss: 1.1365500688552856\n",
      "idx: 90, loss: 1.1632025241851807\n",
      "idx: 0, loss: 1.5693072080612183\n",
      "idx: 10, loss: 1.114809274673462\n",
      "idx: 20, loss: 1.2410286664962769\n",
      "idx: 30, loss: 1.0882298946380615\n",
      "idx: 40, loss: 1.0634061098098755\n",
      "idx: 50, loss: 1.055722713470459\n",
      "idx: 60, loss: 1.1105997562408447\n",
      "idx: 70, loss: 1.187598466873169\n",
      "idx: 80, loss: 1.0136432647705078\n",
      "idx: 90, loss: 1.007338523864746\n",
      "idx: 0, loss: 1.300146460533142\n",
      "idx: 10, loss: 0.9904599189758301\n",
      "idx: 20, loss: 1.219096302986145\n",
      "idx: 30, loss: 0.9752464294433594\n",
      "idx: 40, loss: 1.033565640449524\n",
      "idx: 50, loss: 0.94411301612854\n",
      "idx: 60, loss: 1.005595326423645\n",
      "idx: 70, loss: 1.1894850730895996\n",
      "idx: 80, loss: 0.9998958110809326\n",
      "idx: 90, loss: 0.9058026671409607\n",
      "idx: 0, loss: 1.0731394290924072\n",
      "idx: 10, loss: 0.8936158418655396\n",
      "idx: 20, loss: 0.9548074007034302\n",
      "idx: 30, loss: 0.8486565351486206\n",
      "idx: 40, loss: 0.9113603830337524\n",
      "idx: 50, loss: 0.904072642326355\n",
      "idx: 60, loss: 0.8133925199508667\n",
      "idx: 70, loss: 1.075175404548645\n",
      "idx: 80, loss: 0.7698414921760559\n",
      "idx: 90, loss: 0.8339947462081909\n",
      "idx: 0, loss: 0.9981446266174316\n",
      "idx: 10, loss: 0.7864400744438171\n",
      "idx: 20, loss: 0.8745447993278503\n",
      "idx: 30, loss: 0.7069799304008484\n",
      "idx: 40, loss: 0.807757556438446\n",
      "idx: 50, loss: 0.7088257670402527\n",
      "idx: 60, loss: 0.6497718691825867\n",
      "idx: 70, loss: 0.9457364082336426\n",
      "idx: 80, loss: 0.6943618059158325\n",
      "idx: 90, loss: 0.649393618106842\n",
      "idx: 0, loss: 0.7992597222328186\n",
      "idx: 10, loss: 0.7019307613372803\n",
      "idx: 20, loss: 0.7630256414413452\n",
      "idx: 30, loss: 0.5854558348655701\n",
      "idx: 40, loss: 0.6924179792404175\n",
      "idx: 50, loss: 0.6102786660194397\n",
      "idx: 60, loss: 0.5563790202140808\n",
      "idx: 70, loss: 0.7605125904083252\n",
      "idx: 80, loss: 0.5485584735870361\n",
      "idx: 90, loss: 0.5348250269889832\n",
      "idx: 0, loss: 0.7244264483451843\n",
      "idx: 10, loss: 0.673840343952179\n",
      "idx: 20, loss: 0.7039610743522644\n",
      "idx: 30, loss: 0.5533846020698547\n",
      "idx: 40, loss: 0.6462680697441101\n",
      "idx: 50, loss: 0.5290543437004089\n",
      "idx: 60, loss: 0.5496341586112976\n",
      "idx: 70, loss: 0.5667712688446045\n",
      "idx: 80, loss: 0.4734167456626892\n",
      "idx: 90, loss: 0.4313284158706665\n",
      "idx: 0, loss: 0.6814283132553101\n",
      "idx: 10, loss: 0.6095647215843201\n",
      "idx: 20, loss: 0.675291121006012\n",
      "idx: 30, loss: 0.5333659052848816\n",
      "idx: 40, loss: 0.6235567331314087\n",
      "idx: 50, loss: 0.5077043175697327\n",
      "idx: 60, loss: 0.5287603735923767\n",
      "idx: 70, loss: 0.5590564012527466\n",
      "idx: 80, loss: 0.47743064165115356\n",
      "idx: 90, loss: 0.43043678998947144\n",
      "Epoch 9. LR: 0.005. Loss: 0.0555 Accuracy 0.5076\n",
      "idx: 0, loss: 1.126207947731018\n",
      "idx: 10, loss: 2.021289825439453\n",
      "idx: 20, loss: 1.7224773168563843\n",
      "idx: 30, loss: 1.928354263305664\n",
      "idx: 40, loss: 1.6772286891937256\n",
      "idx: 50, loss: 1.4074931144714355\n",
      "idx: 60, loss: 1.6858327388763428\n",
      "idx: 70, loss: 1.6812647581100464\n",
      "idx: 80, loss: 1.2689590454101562\n",
      "idx: 90, loss: 1.339377999305725\n",
      "idx: 100, loss: 1.3611055612564087\n",
      "Epoch 0. LR: 0.1. Loss: 1.8383 Accuracy 0.3008\n",
      "idx: 0, loss: 2.5039455890655518\n",
      "idx: 10, loss: 1.4480037689208984\n",
      "idx: 20, loss: 1.3049733638763428\n",
      "idx: 30, loss: 1.5090631246566772\n",
      "idx: 40, loss: 1.6202561855316162\n",
      "idx: 50, loss: 1.2782503366470337\n",
      "idx: 60, loss: 1.3824701309204102\n",
      "idx: 70, loss: 1.57425856590271\n",
      "idx: 80, loss: 1.1497842073440552\n",
      "idx: 90, loss: 1.2500197887420654\n",
      "idx: 100, loss: 1.1446044445037842\n",
      "idx: 0, loss: 2.099860429763794\n",
      "idx: 10, loss: 1.2612745761871338\n",
      "idx: 20, loss: 1.2622454166412354\n",
      "idx: 30, loss: 1.4007906913757324\n",
      "idx: 40, loss: 1.2693337202072144\n",
      "idx: 50, loss: 1.16421639919281\n",
      "idx: 60, loss: 1.261146903038025\n",
      "idx: 70, loss: 1.5260446071624756\n",
      "idx: 80, loss: 1.0320730209350586\n",
      "idx: 90, loss: 1.1150319576263428\n",
      "idx: 100, loss: 1.0055878162384033\n",
      "idx: 0, loss: 2.2359633445739746\n",
      "idx: 10, loss: 1.2182719707489014\n",
      "idx: 20, loss: 1.158408522605896\n",
      "idx: 30, loss: 1.3340789079666138\n",
      "idx: 40, loss: 1.1962323188781738\n",
      "idx: 50, loss: 1.0758931636810303\n",
      "idx: 60, loss: 1.2311813831329346\n",
      "idx: 70, loss: 1.4284696578979492\n",
      "idx: 80, loss: 0.9576472640037537\n",
      "idx: 90, loss: 0.9400646686553955\n",
      "idx: 100, loss: 0.8789066672325134\n",
      "idx: 0, loss: 2.448356866836548\n",
      "idx: 10, loss: 1.1912482976913452\n",
      "idx: 20, loss: 1.1409835815429688\n",
      "idx: 30, loss: 1.245991587638855\n",
      "idx: 40, loss: 1.1193310022354126\n",
      "idx: 50, loss: 0.967225968837738\n",
      "idx: 60, loss: 1.1473610401153564\n",
      "idx: 70, loss: 1.3624224662780762\n",
      "idx: 80, loss: 0.8939388990402222\n",
      "idx: 90, loss: 0.775895893573761\n",
      "idx: 100, loss: 0.7205609083175659\n",
      "idx: 0, loss: 1.1891775131225586\n",
      "idx: 10, loss: 1.1511365175247192\n",
      "idx: 20, loss: 1.0225521326065063\n",
      "idx: 30, loss: 1.1219550371170044\n",
      "idx: 40, loss: 0.9964067935943604\n",
      "idx: 50, loss: 0.829317569732666\n",
      "idx: 60, loss: 0.9963747262954712\n",
      "idx: 70, loss: 1.2537647485733032\n",
      "idx: 80, loss: 0.8169209957122803\n",
      "idx: 90, loss: 0.6897700428962708\n",
      "idx: 100, loss: 0.6482014656066895\n",
      "idx: 0, loss: 0.9458789825439453\n",
      "idx: 10, loss: 1.070246696472168\n",
      "idx: 20, loss: 0.9857271313667297\n",
      "idx: 30, loss: 1.0294642448425293\n",
      "idx: 40, loss: 0.9191545248031616\n",
      "idx: 50, loss: 0.7682808041572571\n",
      "idx: 60, loss: 0.8831834197044373\n",
      "idx: 70, loss: 1.1308574676513672\n",
      "idx: 80, loss: 0.7506646513938904\n",
      "idx: 90, loss: 0.596562385559082\n",
      "idx: 100, loss: 0.5453596711158752\n",
      "idx: 0, loss: 0.7753068208694458\n",
      "idx: 10, loss: 1.0412628650665283\n",
      "idx: 20, loss: 0.9138472676277161\n",
      "idx: 30, loss: 0.9185127019882202\n",
      "idx: 40, loss: 0.8534328937530518\n",
      "idx: 50, loss: 0.7203871011734009\n",
      "idx: 60, loss: 0.7798974514007568\n",
      "idx: 70, loss: 1.0433590412139893\n",
      "idx: 80, loss: 0.6804949641227722\n",
      "idx: 90, loss: 0.5424086451530457\n",
      "idx: 100, loss: 0.49106091260910034\n",
      "idx: 0, loss: 0.7070716619491577\n",
      "idx: 10, loss: 1.0104520320892334\n",
      "idx: 20, loss: 0.8715375661849976\n",
      "idx: 30, loss: 0.8705002665519714\n",
      "idx: 40, loss: 0.7694492936134338\n",
      "idx: 50, loss: 0.6901801824569702\n",
      "idx: 60, loss: 0.6434561610221863\n",
      "idx: 70, loss: 0.9214075803756714\n",
      "idx: 80, loss: 0.6047351360321045\n",
      "idx: 90, loss: 0.5162799954414368\n",
      "idx: 100, loss: 0.4210725724697113\n",
      "idx: 0, loss: 0.7048366665840149\n",
      "idx: 10, loss: 0.9967370629310608\n",
      "idx: 20, loss: 0.8596600294113159\n",
      "idx: 30, loss: 0.857966959476471\n",
      "idx: 40, loss: 0.7511551380157471\n",
      "idx: 50, loss: 0.6658192873001099\n",
      "idx: 60, loss: 0.6471940875053406\n",
      "idx: 70, loss: 0.9013631343841553\n",
      "idx: 80, loss: 0.6005664467811584\n",
      "idx: 90, loss: 0.5117352604866028\n",
      "idx: 100, loss: 0.4210072159767151\n",
      "Epoch 9. LR: 0.005. Loss: 0.2425 Accuracy 0.4973\n",
      "idx: 0, loss: 0.8472052216529846\n",
      "idx: 10, loss: 1.5163967609405518\n",
      "idx: 20, loss: 1.331799864768982\n",
      "idx: 30, loss: 1.3922818899154663\n",
      "idx: 40, loss: 1.4508790969848633\n",
      "idx: 50, loss: 1.2221674919128418\n",
      "idx: 60, loss: 1.1342475414276123\n",
      "idx: 70, loss: 1.6060794591903687\n",
      "idx: 80, loss: 1.2891981601715088\n",
      "idx: 90, loss: 1.16657292842865\n",
      "idx: 100, loss: 1.2496814727783203\n",
      "Epoch 0. LR: 0.1. Loss: 1.0395 Accuracy 0.4603\n",
      "idx: 0, loss: 1.0724730491638184\n",
      "idx: 10, loss: 1.2760491371154785\n",
      "idx: 20, loss: 0.931033194065094\n",
      "idx: 30, loss: 1.1534963846206665\n",
      "idx: 40, loss: 1.2742531299591064\n",
      "idx: 50, loss: 1.1108906269073486\n",
      "idx: 60, loss: 1.026779294013977\n",
      "idx: 70, loss: 1.3925471305847168\n",
      "idx: 80, loss: 1.130586862564087\n",
      "idx: 90, loss: 1.397091031074524\n",
      "idx: 100, loss: 1.0426703691482544\n",
      "idx: 0, loss: 0.9088683128356934\n",
      "idx: 10, loss: 1.0971182584762573\n",
      "idx: 20, loss: 0.9764103889465332\n",
      "idx: 30, loss: 1.0443274974822998\n",
      "idx: 40, loss: 1.1434091329574585\n",
      "idx: 50, loss: 1.0019068717956543\n",
      "idx: 60, loss: 0.9265039563179016\n",
      "idx: 70, loss: 1.1833163499832153\n",
      "idx: 80, loss: 0.9815624952316284\n"
     ]
    },
    {
     "name": "stdout",
     "output_type": "stream",
     "text": [
      "idx: 90, loss: 0.9500964879989624\n",
      "idx: 100, loss: 1.0031934976577759\n",
      "idx: 0, loss: 0.775942862033844\n",
      "idx: 10, loss: 1.0219191312789917\n",
      "idx: 20, loss: 0.8553063273429871\n",
      "idx: 30, loss: 0.9667776226997375\n",
      "idx: 40, loss: 1.0971323251724243\n",
      "idx: 50, loss: 0.8300703763961792\n",
      "idx: 60, loss: 0.820277750492096\n",
      "idx: 70, loss: 1.4354392290115356\n",
      "idx: 80, loss: 0.8817073702812195\n",
      "idx: 90, loss: 0.8238431811332703\n",
      "idx: 100, loss: 0.7578982710838318\n",
      "idx: 0, loss: 0.7523395419120789\n",
      "idx: 10, loss: 0.8460105657577515\n",
      "idx: 20, loss: 0.676371157169342\n",
      "idx: 30, loss: 0.8185899257659912\n",
      "idx: 40, loss: 0.8866395354270935\n",
      "idx: 50, loss: 0.7002138495445251\n",
      "idx: 60, loss: 0.7808576226234436\n",
      "idx: 70, loss: 1.4993335008621216\n",
      "idx: 80, loss: 0.7922071218490601\n",
      "idx: 90, loss: 1.050927758216858\n",
      "idx: 100, loss: 0.7942167520523071\n",
      "idx: 0, loss: 0.6838041543960571\n",
      "idx: 10, loss: 0.6342089176177979\n",
      "idx: 20, loss: 0.678122341632843\n",
      "idx: 30, loss: 0.7754499316215515\n",
      "idx: 40, loss: 0.7392284274101257\n",
      "idx: 50, loss: 0.6632929444313049\n",
      "idx: 60, loss: 0.6469798684120178\n",
      "idx: 70, loss: 0.8027684688568115\n",
      "idx: 80, loss: 0.6675348281860352\n",
      "idx: 90, loss: 0.8048076033592224\n",
      "idx: 100, loss: 0.6521821022033691\n",
      "idx: 0, loss: 0.576957643032074\n",
      "idx: 10, loss: 0.606587290763855\n",
      "idx: 20, loss: 0.48123109340667725\n",
      "idx: 30, loss: 0.707347571849823\n",
      "idx: 40, loss: 0.6485965847969055\n",
      "idx: 50, loss: 0.5023614168167114\n",
      "idx: 60, loss: 0.49991750717163086\n",
      "idx: 70, loss: 0.5956387519836426\n",
      "idx: 80, loss: 0.5138294696807861\n",
      "idx: 90, loss: 0.6959425806999207\n",
      "idx: 100, loss: 0.5705092549324036\n",
      "idx: 0, loss: 0.4484732151031494\n",
      "idx: 10, loss: 0.5651286244392395\n",
      "idx: 20, loss: 0.3761269450187683\n",
      "idx: 30, loss: 0.6362990736961365\n",
      "idx: 40, loss: 0.5365209579467773\n",
      "idx: 50, loss: 0.42657366394996643\n",
      "idx: 60, loss: 0.42439234256744385\n",
      "idx: 70, loss: 0.5567526817321777\n",
      "idx: 80, loss: 0.44648227095603943\n",
      "idx: 90, loss: 0.5277302265167236\n",
      "idx: 100, loss: 0.4878988564014435\n",
      "idx: 0, loss: 0.3905077576637268\n",
      "idx: 10, loss: 0.4715660512447357\n",
      "idx: 20, loss: 0.35188743472099304\n",
      "idx: 30, loss: 0.562178909778595\n",
      "idx: 40, loss: 0.5186893939971924\n",
      "idx: 50, loss: 0.37943416833877563\n",
      "idx: 60, loss: 0.36552149057388306\n",
      "idx: 70, loss: 0.60340815782547\n",
      "idx: 80, loss: 0.379642516374588\n",
      "idx: 90, loss: 0.39956918358802795\n",
      "idx: 100, loss: 0.39326050877571106\n",
      "idx: 0, loss: 0.41242069005966187\n",
      "idx: 10, loss: 0.4243341386318207\n",
      "idx: 20, loss: 0.3337099552154541\n",
      "idx: 30, loss: 0.5183695554733276\n",
      "idx: 40, loss: 0.467986136674881\n",
      "idx: 50, loss: 0.35679417848587036\n",
      "idx: 60, loss: 0.3418096601963043\n",
      "idx: 70, loss: 0.572160542011261\n",
      "idx: 80, loss: 0.37990230321884155\n",
      "idx: 90, loss: 0.39814847707748413\n",
      "idx: 100, loss: 0.39548519253730774\n",
      "Epoch 9. LR: 0.005. Loss: 0.0852 Accuracy 0.5353\n",
      "idx: 0, loss: 0.9529204368591309\n",
      "idx: 10, loss: 2.190751552581787\n",
      "idx: 20, loss: 2.063718557357788\n",
      "idx: 30, loss: 1.868813157081604\n",
      "idx: 40, loss: 1.9154208898544312\n",
      "idx: 50, loss: 1.8304998874664307\n",
      "idx: 60, loss: 1.6677013635635376\n",
      "idx: 70, loss: 1.6838473081588745\n",
      "idx: 80, loss: 1.4703516960144043\n",
      "idx: 90, loss: 1.6375447511672974\n",
      "idx: 100, loss: 1.4278866052627563\n",
      "idx: 110, loss: 1.6984789371490479\n",
      "idx: 120, loss: 1.6259229183197021\n",
      "Epoch 0. LR: 0.1. Loss: 1.6757 Accuracy 0.2052\n",
      "idx: 0, loss: 2.2500667572021484\n",
      "idx: 10, loss: 1.4979095458984375\n",
      "idx: 20, loss: 1.4560762643814087\n",
      "idx: 30, loss: 1.2973194122314453\n",
      "idx: 40, loss: 1.4506291151046753\n",
      "idx: 50, loss: 1.554357647895813\n",
      "idx: 60, loss: 1.3092241287231445\n",
      "idx: 70, loss: 1.9763896465301514\n",
      "idx: 80, loss: 1.3351606130599976\n",
      "idx: 90, loss: 1.4936493635177612\n",
      "idx: 100, loss: 1.2116622924804688\n",
      "idx: 110, loss: 1.6094377040863037\n",
      "idx: 120, loss: 1.5533816814422607\n",
      "idx: 0, loss: 1.3157035112380981\n",
      "idx: 10, loss: 1.3170421123504639\n",
      "idx: 20, loss: 1.323387861251831\n",
      "idx: 30, loss: 1.1526567935943604\n",
      "idx: 40, loss: 1.2479286193847656\n",
      "idx: 50, loss: 1.4925540685653687\n",
      "idx: 60, loss: 1.245440125465393\n",
      "idx: 70, loss: 1.4678676128387451\n",
      "idx: 80, loss: 1.139274001121521\n",
      "idx: 90, loss: 1.4562844038009644\n",
      "idx: 100, loss: 1.0393600463867188\n",
      "idx: 110, loss: 1.5695948600769043\n",
      "idx: 120, loss: 1.5731879472732544\n",
      "idx: 0, loss: 1.1810716390609741\n",
      "idx: 10, loss: 1.262481689453125\n",
      "idx: 20, loss: 1.158961534500122\n",
      "idx: 30, loss: 1.0274593830108643\n",
      "idx: 40, loss: 1.2440640926361084\n",
      "idx: 50, loss: 1.4445970058441162\n",
      "idx: 60, loss: 1.1672146320343018\n",
      "idx: 70, loss: 1.4971468448638916\n",
      "idx: 80, loss: 1.0392121076583862\n",
      "idx: 90, loss: 1.3470230102539062\n",
      "idx: 100, loss: 1.0179632902145386\n",
      "idx: 110, loss: 1.577404260635376\n",
      "idx: 120, loss: 1.423565149307251\n",
      "idx: 0, loss: 1.0407226085662842\n",
      "idx: 10, loss: 1.2306580543518066\n",
      "idx: 20, loss: 1.2642583847045898\n",
      "idx: 30, loss: 1.0796229839324951\n",
      "idx: 40, loss: 1.160220742225647\n",
      "idx: 50, loss: 1.4277020692825317\n",
      "idx: 60, loss: 1.4005086421966553\n",
      "idx: 70, loss: 1.1930118799209595\n",
      "idx: 80, loss: 1.007367491722107\n",
      "idx: 90, loss: 1.3073135614395142\n",
      "idx: 100, loss: 0.8903834819793701\n",
      "idx: 110, loss: 1.6621543169021606\n",
      "idx: 120, loss: 1.4762372970581055\n",
      "idx: 0, loss: 0.835716724395752\n",
      "idx: 10, loss: 1.0914608240127563\n",
      "idx: 20, loss: 0.8676827549934387\n",
      "idx: 30, loss: 0.9713797569274902\n",
      "idx: 40, loss: 1.1049444675445557\n",
      "idx: 50, loss: 1.3210729360580444\n",
      "idx: 60, loss: 1.1300745010375977\n",
      "idx: 70, loss: 1.1355774402618408\n",
      "idx: 80, loss: 0.8823690414428711\n",
      "idx: 90, loss: 1.1142386198043823\n",
      "idx: 100, loss: 0.8578435182571411\n",
      "idx: 110, loss: 1.2284964323043823\n",
      "idx: 120, loss: 1.4115794897079468\n",
      "idx: 0, loss: 0.7514944076538086\n",
      "idx: 10, loss: 0.9911560416221619\n",
      "idx: 20, loss: 0.7789903879165649\n",
      "idx: 30, loss: 0.958897054195404\n",
      "idx: 40, loss: 0.9789294004440308\n",
      "idx: 50, loss: 1.2149059772491455\n",
      "idx: 60, loss: 1.0318180322647095\n",
      "idx: 70, loss: 0.8973071575164795\n",
      "idx: 80, loss: 0.8115179538726807\n",
      "idx: 90, loss: 0.9649126529693604\n",
      "idx: 100, loss: 0.6853541135787964\n",
      "idx: 110, loss: 1.0895469188690186\n",
      "idx: 120, loss: 0.8864856958389282\n",
      "idx: 0, loss: 0.6898841857910156\n",
      "idx: 10, loss: 0.9236471056938171\n",
      "idx: 20, loss: 0.689183235168457\n",
      "idx: 30, loss: 0.8452175259590149\n",
      "idx: 40, loss: 0.840192437171936\n",
      "idx: 50, loss: 1.0393786430358887\n",
      "idx: 60, loss: 0.959241509437561\n",
      "idx: 70, loss: 0.7121449708938599\n",
      "idx: 80, loss: 0.6954419612884521\n",
      "idx: 90, loss: 0.8467657566070557\n",
      "idx: 100, loss: 0.569092333316803\n",
      "idx: 110, loss: 0.9039011001586914\n",
      "idx: 120, loss: 0.7505763173103333\n",
      "idx: 0, loss: 0.6458362340927124\n",
      "idx: 10, loss: 0.8653203845024109\n",
      "idx: 20, loss: 0.6583064198493958\n",
      "idx: 30, loss: 0.7739909887313843\n",
      "idx: 40, loss: 0.7265791296958923\n",
      "idx: 50, loss: 0.969083845615387\n",
      "idx: 60, loss: 0.8881168961524963\n",
      "idx: 70, loss: 0.6644056439399719\n",
      "idx: 80, loss: 0.6163759231567383\n",
      "idx: 90, loss: 0.7617918252944946\n",
      "idx: 100, loss: 0.4911409616470337\n",
      "idx: 110, loss: 0.820976972579956\n",
      "idx: 120, loss: 0.6407944560050964\n",
      "idx: 0, loss: 0.6439275145530701\n",
      "idx: 10, loss: 0.8298258781433105\n",
      "idx: 20, loss: 0.6040269136428833\n",
      "idx: 30, loss: 0.7365480065345764\n",
      "idx: 40, loss: 0.6967886686325073\n",
      "idx: 50, loss: 0.9579520225524902\n",
      "idx: 60, loss: 0.8682382106781006\n",
      "idx: 70, loss: 0.6460869908332825\n",
      "idx: 80, loss: 0.5921884179115295\n",
      "idx: 90, loss: 0.7459577322006226\n",
      "idx: 100, loss: 0.4870900809764862\n",
      "idx: 110, loss: 0.8229421973228455\n",
      "idx: 120, loss: 0.6385249495506287\n",
      "Epoch 9. LR: 0.005. Loss: 0.2489 Accuracy 0.5065\n",
      "idx: 0, loss: 0.7888145446777344\n",
      "idx: 10, loss: 1.5528218746185303\n",
      "idx: 20, loss: 1.2891252040863037\n",
      "idx: 30, loss: 1.282209873199463\n",
      "idx: 40, loss: 1.377344012260437\n",
      "idx: 50, loss: 1.4006357192993164\n",
      "idx: 60, loss: 1.1353634595870972\n",
      "idx: 70, loss: 1.5017322301864624\n",
      "idx: 80, loss: 1.595030426979065\n",
      "idx: 90, loss: 1.2723010778427124\n",
      "idx: 100, loss: 1.3173892498016357\n",
      "idx: 110, loss: 1.0622411966323853\n",
      "idx: 120, loss: 1.325282096862793\n",
      "idx: 130, loss: 0.9963675141334534\n",
      "Epoch 0. LR: 0.1. Loss: 1.4024 Accuracy 0.4333\n",
      "idx: 0, loss: 1.3517969846725464\n",
      "idx: 10, loss: 1.061984896659851\n",
      "idx: 20, loss: 1.0347641706466675\n",
      "idx: 30, loss: 1.1277226209640503\n",
      "idx: 40, loss: 1.1202927827835083\n",
      "idx: 50, loss: 1.2825586795806885\n",
      "idx: 60, loss: 1.039332628250122\n",
      "idx: 70, loss: 1.2954434156417847\n",
      "idx: 80, loss: 1.3197081089019775\n",
      "idx: 90, loss: 1.1211885213851929\n",
      "idx: 100, loss: 1.3641830682754517\n",
      "idx: 110, loss: 0.9434818029403687\n",
      "idx: 120, loss: 1.2892426252365112\n"
     ]
    },
    {
     "name": "stdout",
     "output_type": "stream",
     "text": [
      "idx: 130, loss: 0.9356392025947571\n",
      "idx: 0, loss: 1.2483857870101929\n",
      "idx: 10, loss: 1.035723328590393\n",
      "idx: 20, loss: 0.9618673920631409\n",
      "idx: 30, loss: 1.0080251693725586\n",
      "idx: 40, loss: 0.9677816033363342\n",
      "idx: 50, loss: 1.1702501773834229\n",
      "idx: 60, loss: 0.9925801157951355\n",
      "idx: 70, loss: 1.224686622619629\n",
      "idx: 80, loss: 1.287841558456421\n",
      "idx: 90, loss: 1.0804623365402222\n",
      "idx: 100, loss: 1.1592475175857544\n",
      "idx: 110, loss: 0.8765838742256165\n",
      "idx: 120, loss: 1.3079520463943481\n",
      "idx: 130, loss: 0.9324391484260559\n",
      "idx: 0, loss: 0.904832661151886\n",
      "idx: 10, loss: 0.8268502354621887\n",
      "idx: 20, loss: 0.8917683959007263\n",
      "idx: 30, loss: 0.9751784205436707\n",
      "idx: 40, loss: 0.8490034937858582\n",
      "idx: 50, loss: 1.0967971086502075\n",
      "idx: 60, loss: 0.9806839227676392\n",
      "idx: 70, loss: 1.1487693786621094\n",
      "idx: 80, loss: 1.2272217273712158\n",
      "idx: 90, loss: 1.0498191118240356\n",
      "idx: 100, loss: 1.0527517795562744\n",
      "idx: 110, loss: 0.7934918403625488\n",
      "idx: 120, loss: 0.9459670782089233\n",
      "idx: 130, loss: 0.7750368118286133\n",
      "idx: 0, loss: 0.7538776397705078\n",
      "idx: 10, loss: 0.7928774952888489\n",
      "idx: 20, loss: 0.9570507407188416\n",
      "idx: 30, loss: 0.9601160287857056\n",
      "idx: 40, loss: 0.9710187315940857\n",
      "idx: 50, loss: 1.0955983400344849\n",
      "idx: 60, loss: 0.9115164279937744\n",
      "idx: 70, loss: 1.0671435594558716\n",
      "idx: 80, loss: 1.1693812608718872\n",
      "idx: 90, loss: 0.8977530002593994\n",
      "idx: 100, loss: 0.9931300282478333\n",
      "idx: 110, loss: 0.6225321292877197\n",
      "idx: 120, loss: 0.9676157832145691\n",
      "idx: 130, loss: 0.6960725784301758\n",
      "idx: 0, loss: 0.9157420992851257\n",
      "idx: 10, loss: 0.7900241017341614\n",
      "idx: 20, loss: 0.6564548015594482\n",
      "idx: 30, loss: 0.8383113145828247\n",
      "idx: 40, loss: 0.7091086506843567\n",
      "idx: 50, loss: 0.9279621243476868\n",
      "idx: 60, loss: 0.8198884725570679\n",
      "idx: 70, loss: 0.949091911315918\n",
      "idx: 80, loss: 0.8453155755996704\n",
      "idx: 90, loss: 0.823214590549469\n",
      "idx: 100, loss: 0.8599353432655334\n",
      "idx: 110, loss: 0.49979567527770996\n",
      "idx: 120, loss: 0.734702467918396\n",
      "idx: 130, loss: 0.6214608550071716\n",
      "idx: 0, loss: 0.5626146197319031\n",
      "idx: 10, loss: 0.6408770084381104\n",
      "idx: 20, loss: 0.5577841997146606\n",
      "idx: 30, loss: 0.6988885998725891\n",
      "idx: 40, loss: 0.5616000890731812\n",
      "idx: 50, loss: 0.8096884489059448\n",
      "idx: 60, loss: 0.6828787922859192\n",
      "idx: 70, loss: 0.8185593485832214\n",
      "idx: 80, loss: 0.6743749976158142\n",
      "idx: 90, loss: 0.6615653038024902\n",
      "idx: 100, loss: 0.746845006942749\n",
      "idx: 110, loss: 0.4156184494495392\n",
      "idx: 120, loss: 0.5761993527412415\n",
      "idx: 130, loss: 0.597739040851593\n",
      "idx: 0, loss: 0.4923383891582489\n",
      "idx: 10, loss: 0.6004046201705933\n",
      "idx: 20, loss: 0.46165791153907776\n",
      "idx: 30, loss: 0.614851713180542\n",
      "idx: 40, loss: 0.537388265132904\n",
      "idx: 50, loss: 0.6857109069824219\n",
      "idx: 60, loss: 0.532985508441925\n",
      "idx: 70, loss: 0.6875243782997131\n",
      "idx: 80, loss: 0.6096681952476501\n",
      "idx: 90, loss: 0.5762534141540527\n",
      "idx: 100, loss: 0.7241645455360413\n",
      "idx: 110, loss: 0.33031323552131653\n",
      "idx: 120, loss: 0.4446888267993927\n",
      "idx: 130, loss: 0.5286263823509216\n",
      "idx: 0, loss: 0.4170716404914856\n",
      "idx: 10, loss: 0.5797626376152039\n",
      "idx: 20, loss: 0.4191953241825104\n",
      "idx: 30, loss: 0.5523358583450317\n",
      "idx: 40, loss: 0.5204903483390808\n",
      "idx: 50, loss: 0.6072644591331482\n",
      "idx: 60, loss: 0.5098112225532532\n",
      "idx: 70, loss: 0.5310453176498413\n",
      "idx: 80, loss: 0.49289944767951965\n",
      "idx: 90, loss: 0.5539987087249756\n",
      "idx: 100, loss: 0.6483314633369446\n",
      "idx: 110, loss: 0.25233492255210876\n",
      "idx: 120, loss: 0.33952802419662476\n",
      "idx: 130, loss: 0.3924047350883484\n",
      "idx: 0, loss: 0.4039560854434967\n",
      "idx: 10, loss: 0.49261999130249023\n",
      "idx: 20, loss: 0.40972575545310974\n",
      "idx: 30, loss: 0.5004017353057861\n",
      "idx: 40, loss: 0.4843808114528656\n",
      "idx: 50, loss: 0.5719665288925171\n",
      "idx: 60, loss: 0.47933322191238403\n",
      "idx: 70, loss: 0.5113348960876465\n",
      "idx: 80, loss: 0.47813063859939575\n",
      "idx: 90, loss: 0.5255820751190186\n",
      "idx: 100, loss: 0.6289479732513428\n",
      "idx: 110, loss: 0.24947841465473175\n",
      "idx: 120, loss: 0.33921584486961365\n",
      "idx: 130, loss: 0.39484959840774536\n",
      "Epoch 9. LR: 0.005. Loss: 0.1116 Accuracy 0.5454\n"
     ]
    }
   ],
   "source": [
    "if not pretrained_clients:\n",
    "    s = sum(1 for _ in general_model.parameters())\n",
    "    for i in range(n_clients):\n",
    "        loader_i = client_loaders[i]\n",
    "        model = model_cfg.base(*model_cfg.args, **model_cfg.kwargs)\n",
    "        criterion = nn.CrossEntropyLoss()\n",
    "        optimizer = torch.optim.SGD(model.parameters(), lr=1e-2)\n",
    "        for j, (param, param_client) in enumerate(zip(model.parameters(), general_model.parameters())):\n",
    "            if j <= s - 2: #we do not wish to copy/clone the weights of the last layer (logistic regression layer in the report)\n",
    "                param.data = param_client.data.clone()\n",
    "        title_i = \"parametrized_preclient_\" + title + str(i)\n",
    "        wd = 0.0\n",
    "        lr_init = 1e-1\n",
    "        train(model, loader_i, test_loader, optimizer, criterion, lr_init, title=title_i, epochs=10)"
   ]
  },
  {
   "cell_type": "code",
   "execution_count": 49,
   "metadata": {},
   "outputs": [],
   "source": [
    "clients = [SWAG(model_cfg.base, subspace_type=\"pca\", *model_cfg.args, **model_cfg.kwargs, \n",
    "                  subspace_kwargs={\"max_rank\": 2, \"pca_rank\": 2}) for i in range(n_clients)]\n",
    "probs = []"
   ]
  },
  {
   "cell_type": "code",
   "execution_count": 35,
   "metadata": {
    "scrolled": true
   },
   "outputs": [
    {
     "name": "stdout",
     "output_type": "stream",
     "text": [
      "idx: 0, loss: 0.8231602907180786\n",
      "Epoch 0. LR: 0.01. Loss: 0.8292 Accuracy 0.3643\n",
      "idx: 0, loss: 0.8111387491226196\n",
      "idx: 0, loss: 0.7960250973701477\n",
      "idx: 0, loss: 0.780892014503479\n",
      "idx: 0, loss: 0.7676553726196289\n",
      "idx: 0, loss: 0.7540876269340515\n",
      "idx: 0, loss: 0.7418341040611267\n",
      "idx: 0, loss: 0.7292932271957397\n",
      "idx: 0, loss: 0.7173717021942139\n",
      "idx: 0, loss: 0.7054067850112915\n",
      "Epoch 9. LR: 0.01. Loss: 0.7014 Accuracy 0.3690\n",
      "idx: 0, loss: 0.20655947923660278\n",
      "idx: 10, loss: 0.26263126730918884\n",
      "idx: 20, loss: 0.2537453770637512\n",
      "Epoch 0. LR: 0.01. Loss: 0.0095 Accuracy 0.4964\n",
      "idx: 0, loss: 0.1940150409936905\n",
      "idx: 10, loss: 0.2464907467365265\n",
      "idx: 20, loss: 0.24293778836727142\n",
      "idx: 0, loss: 0.18172450363636017\n",
      "idx: 10, loss: 0.2341068834066391\n",
      "idx: 20, loss: 0.23401044309139252\n",
      "idx: 0, loss: 0.17211401462554932\n",
      "idx: 10, loss: 0.22277949750423431\n",
      "idx: 20, loss: 0.22443988919258118\n",
      "idx: 0, loss: 0.16195064783096313\n",
      "idx: 10, loss: 0.21292202174663544\n",
      "idx: 20, loss: 0.21470941603183746\n",
      "idx: 0, loss: 0.15353144705295563\n",
      "idx: 10, loss: 0.2024632841348648\n",
      "idx: 20, loss: 0.20705090463161469\n",
      "idx: 0, loss: 0.1458262801170349\n",
      "idx: 10, loss: 0.19357480108737946\n",
      "idx: 20, loss: 0.19811411201953888\n",
      "idx: 0, loss: 0.13821303844451904\n",
      "idx: 10, loss: 0.18685173988342285\n",
      "idx: 20, loss: 0.19027744233608246\n",
      "idx: 0, loss: 0.13194401562213898\n",
      "idx: 10, loss: 0.17854991555213928\n",
      "idx: 20, loss: 0.18268367648124695\n",
      "idx: 0, loss: 0.12512491643428802\n",
      "idx: 10, loss: 0.17133508622646332\n",
      "idx: 20, loss: 0.17480717599391937\n",
      "Epoch 9. LR: 0.01. Loss: 0.0056 Accuracy 0.4971\n",
      "idx: 0, loss: 0.9978325963020325\n",
      "idx: 10, loss: 1.0269194841384888\n",
      "idx: 20, loss: 1.073177695274353\n",
      "Epoch 0. LR: 0.01. Loss: 0.9436 Accuracy 0.3947\n",
      "idx: 0, loss: 0.9777883887290955\n",
      "idx: 10, loss: 1.012466311454773\n",
      "idx: 20, loss: 1.0623637437820435\n",
      "idx: 0, loss: 0.9591630697250366\n",
      "idx: 10, loss: 0.9972302317619324\n",
      "idx: 20, loss: 1.0525106191635132\n",
      "idx: 0, loss: 0.9423741102218628\n",
      "idx: 10, loss: 0.9831916093826294\n",
      "idx: 20, loss: 1.0422463417053223\n",
      "idx: 0, loss: 0.9268919825553894\n",
      "idx: 10, loss: 0.967552900314331\n",
      "idx: 20, loss: 1.0325032472610474\n",
      "idx: 0, loss: 0.9099908471107483\n",
      "idx: 10, loss: 0.9535870552062988\n",
      "idx: 20, loss: 1.0212161540985107\n",
      "idx: 0, loss: 0.8942695260047913\n",
      "idx: 10, loss: 0.9388906955718994\n",
      "idx: 20, loss: 1.0100157260894775\n",
      "idx: 0, loss: 0.8791114091873169\n",
      "idx: 10, loss: 0.9254470467567444\n",
      "idx: 20, loss: 0.9989520311355591\n",
      "idx: 0, loss: 0.8641756176948547\n",
      "idx: 10, loss: 0.9131677150726318\n",
      "idx: 20, loss: 0.9893983602523804\n",
      "idx: 0, loss: 0.8487705588340759\n",
      "idx: 10, loss: 0.8995991945266724\n",
      "idx: 20, loss: 0.974973201751709\n",
      "Epoch 9. LR: 0.01. Loss: 0.8526 Accuracy 0.4077\n",
      "idx: 0, loss: 0.8283825516700745\n",
      "idx: 10, loss: 0.7784013748168945\n",
      "idx: 20, loss: 0.7607608437538147\n",
      "idx: 30, loss: 0.8029723763465881\n",
      "idx: 40, loss: 0.7800383567810059\n",
      "idx: 50, loss: 0.9094112515449524\n",
      "Epoch 0. LR: 0.01. Loss: 0.0523 Accuracy 0.4347\n",
      "idx: 0, loss: 0.8189264535903931\n",
      "idx: 10, loss: 0.7632654905319214\n",
      "idx: 20, loss: 0.7398803234100342\n",
      "idx: 30, loss: 0.7879819869995117\n",
      "idx: 40, loss: 0.7650212049484253\n",
      "idx: 50, loss: 0.9031897187232971\n",
      "idx: 0, loss: 0.801006555557251\n",
      "idx: 10, loss: 0.7421514391899109\n",
      "idx: 20, loss: 0.7200583219528198\n",
      "idx: 30, loss: 0.7714208364486694\n",
      "idx: 40, loss: 0.7501569390296936\n",
      "idx: 50, loss: 0.8926869630813599\n",
      "idx: 0, loss: 0.785525918006897\n",
      "idx: 10, loss: 0.7235294580459595\n",
      "idx: 20, loss: 0.701907217502594\n",
      "idx: 30, loss: 0.7529107928276062\n",
      "idx: 40, loss: 0.7366728782653809\n",
      "idx: 50, loss: 0.8847065567970276\n",
      "idx: 0, loss: 0.7695186138153076\n",
      "idx: 10, loss: 0.7031286954879761\n",
      "idx: 20, loss: 0.6860409379005432\n",
      "idx: 30, loss: 0.7349603176116943\n",
      "idx: 40, loss: 0.7227550148963928\n",
      "idx: 50, loss: 0.870202362537384\n",
      "idx: 0, loss: 0.7544931769371033\n",
      "idx: 10, loss: 0.686988890171051\n",
      "idx: 20, loss: 0.669593870639801\n",
      "idx: 30, loss: 0.7201794385910034\n",
      "idx: 40, loss: 0.709043562412262\n",
      "idx: 50, loss: 0.8553639054298401\n",
      "idx: 0, loss: 0.7376730442047119\n",
      "idx: 10, loss: 0.6707457304000854\n",
      "idx: 20, loss: 0.655018150806427\n",
      "idx: 30, loss: 0.7045858502388\n",
      "idx: 40, loss: 0.695244550704956\n",
      "idx: 50, loss: 0.8451000452041626\n",
      "idx: 0, loss: 0.7240282893180847\n",
      "idx: 10, loss: 0.6542184352874756\n",
      "idx: 20, loss: 0.6389694809913635\n",
      "idx: 30, loss: 0.6875253915786743\n",
      "idx: 40, loss: 0.6775877475738525\n",
      "idx: 50, loss: 0.8299378156661987\n",
      "idx: 0, loss: 0.7087720632553101\n",
      "idx: 10, loss: 0.6384668946266174\n",
      "idx: 20, loss: 0.6259268522262573\n",
      "idx: 30, loss: 0.6707326769828796\n",
      "idx: 40, loss: 0.6625750064849854\n",
      "idx: 50, loss: 0.8172381520271301\n",
      "idx: 0, loss: 0.6938238143920898\n",
      "idx: 10, loss: 0.6232283115386963\n",
      "idx: 20, loss: 0.6111147999763489\n",
      "idx: 30, loss: 0.65644770860672\n",
      "idx: 40, loss: 0.6461420059204102\n",
      "idx: 50, loss: 0.8004863262176514\n",
      "Epoch 9. LR: 0.01. Loss: 0.0349 Accuracy 0.4407\n",
      "idx: 0, loss: 0.5687896609306335\n",
      "idx: 10, loss: 0.4567948281764984\n",
      "idx: 20, loss: 0.6969770789146423\n",
      "idx: 30, loss: 0.5318371653556824\n",
      "idx: 40, loss: 0.5663481950759888\n",
      "idx: 50, loss: 0.41449040174484253\n",
      "idx: 60, loss: 0.5755224823951721\n",
      "idx: 70, loss: 0.5575509071350098\n",
      "idx: 80, loss: 0.5044316649436951\n",
      "idx: 90, loss: 0.3641950488090515\n",
      "Epoch 0. LR: 0.01. Loss: 0.3642 Accuracy 0.5100\n",
      "idx: 0, loss: 0.5482213497161865\n",
      "idx: 10, loss: 0.4389570951461792\n",
      "idx: 20, loss: 0.6728907823562622\n",
      "idx: 30, loss: 0.5144820809364319\n",
      "idx: 40, loss: 0.5360847115516663\n",
      "idx: 50, loss: 0.4038817286491394\n",
      "idx: 60, loss: 0.5469949841499329\n",
      "idx: 70, loss: 0.5432642698287964\n",
      "idx: 80, loss: 0.49367254972457886\n",
      "idx: 90, loss: 0.35446697473526\n",
      "idx: 0, loss: 0.5280175805091858\n",
      "idx: 10, loss: 0.41957566142082214\n",
      "idx: 20, loss: 0.648405134677887\n",
      "idx: 30, loss: 0.4987448751926422\n",
      "idx: 40, loss: 0.5137727856636047\n",
      "idx: 50, loss: 0.3919239044189453\n",
      "idx: 60, loss: 0.5214643478393555\n",
      "idx: 70, loss: 0.5310413837432861\n",
      "idx: 80, loss: 0.48007437586784363\n",
      "idx: 90, loss: 0.34200677275657654\n",
      "idx: 0, loss: 0.5058645009994507\n",
      "idx: 10, loss: 0.4050454795360565\n",
      "idx: 20, loss: 0.6234292387962341\n",
      "idx: 30, loss: 0.4850107729434967\n",
      "idx: 40, loss: 0.49475646018981934\n",
      "idx: 50, loss: 0.38239189982414246\n",
      "idx: 60, loss: 0.4998369812965393\n",
      "idx: 70, loss: 0.5152282118797302\n",
      "idx: 80, loss: 0.4675978124141693\n",
      "idx: 90, loss: 0.33016568422317505\n",
      "idx: 0, loss: 0.4880843460559845\n",
      "idx: 10, loss: 0.39044249057769775\n",
      "idx: 20, loss: 0.5967878103256226\n",
      "idx: 30, loss: 0.4722231924533844\n",
      "idx: 40, loss: 0.4739251136779785\n",
      "idx: 50, loss: 0.37405601143836975\n",
      "idx: 60, loss: 0.47688940167427063\n",
      "idx: 70, loss: 0.5037722587585449\n",
      "idx: 80, loss: 0.45332595705986023\n",
      "idx: 90, loss: 0.3216334283351898\n",
      "idx: 0, loss: 0.4687332510948181\n",
      "idx: 10, loss: 0.3777434825897217\n",
      "idx: 20, loss: 0.5680089592933655\n",
      "idx: 30, loss: 0.45956850051879883\n",
      "idx: 40, loss: 0.454797625541687\n",
      "idx: 50, loss: 0.3645903766155243\n",
      "idx: 60, loss: 0.4557744562625885\n",
      "idx: 70, loss: 0.4881698489189148\n",
      "idx: 80, loss: 0.44299399852752686\n",
      "idx: 90, loss: 0.3110891878604889\n",
      "idx: 0, loss: 0.45186829566955566\n",
      "idx: 10, loss: 0.3635399341583252\n",
      "idx: 20, loss: 0.545428991317749\n",
      "idx: 30, loss: 0.44562026858329773\n",
      "idx: 40, loss: 0.43983086943626404\n",
      "idx: 50, loss: 0.3543282151222229\n",
      "idx: 60, loss: 0.43932485580444336\n",
      "idx: 70, loss: 0.474558025598526\n",
      "idx: 80, loss: 0.4271191656589508\n",
      "idx: 90, loss: 0.30188998579978943\n",
      "idx: 0, loss: 0.43445447087287903\n",
      "idx: 10, loss: 0.35306888818740845\n",
      "idx: 20, loss: 0.5211880803108215\n",
      "idx: 30, loss: 0.4318743646144867\n",
      "idx: 40, loss: 0.4233086109161377\n",
      "idx: 50, loss: 0.3443264067173004\n",
      "idx: 60, loss: 0.419684499502182\n",
      "idx: 70, loss: 0.46041980385780334\n",
      "idx: 80, loss: 0.41505950689315796\n",
      "idx: 90, loss: 0.29113706946372986\n",
      "idx: 0, loss: 0.41733869910240173\n",
      "idx: 10, loss: 0.34092414379119873\n",
      "idx: 20, loss: 0.4999680817127228\n",
      "idx: 30, loss: 0.41654732823371887\n",
      "idx: 40, loss: 0.4084640145301819\n",
      "idx: 50, loss: 0.33631566166877747\n",
      "idx: 60, loss: 0.4059557020664215\n",
      "idx: 70, loss: 0.4465986490249634\n",
      "idx: 80, loss: 0.4006824493408203\n",
      "idx: 90, loss: 0.2811485826969147\n",
      "idx: 0, loss: 0.4024757444858551\n",
      "idx: 10, loss: 0.33108294010162354\n",
      "idx: 20, loss: 0.4768749475479126\n",
      "idx: 30, loss: 0.40122056007385254\n",
      "idx: 40, loss: 0.393636018037796\n",
      "idx: 50, loss: 0.3257299065589905\n",
      "idx: 60, loss: 0.38695529103279114\n",
      "idx: 70, loss: 0.4307885468006134\n",
      "idx: 80, loss: 0.3844062089920044\n"
     ]
    },
    {
     "name": "stdout",
     "output_type": "stream",
     "text": [
      "idx: 90, loss: 0.2691536843776703\n",
      "Epoch 9. LR: 0.01. Loss: 0.2692 Accuracy 0.5061\n",
      "idx: 0, loss: 0.6639665961265564\n",
      "idx: 10, loss: 0.5975630879402161\n",
      "idx: 20, loss: 0.6605189442634583\n",
      "idx: 30, loss: 0.5184037089347839\n",
      "idx: 40, loss: 0.611833393573761\n",
      "idx: 50, loss: 0.5057381987571716\n",
      "idx: 60, loss: 0.5095316171646118\n",
      "idx: 70, loss: 0.5788160562515259\n",
      "idx: 80, loss: 0.4808846116065979\n",
      "idx: 90, loss: 0.4296436309814453\n",
      "Epoch 0. LR: 0.01. Loss: 0.0407 Accuracy 0.5001\n",
      "idx: 0, loss: 0.6427310705184937\n",
      "idx: 10, loss: 0.5892300009727478\n",
      "idx: 20, loss: 0.6394675374031067\n",
      "idx: 30, loss: 0.5001548528671265\n",
      "idx: 40, loss: 0.5895577669143677\n",
      "idx: 50, loss: 0.4886220693588257\n",
      "idx: 60, loss: 0.4956795573234558\n",
      "idx: 70, loss: 0.5584624409675598\n",
      "idx: 80, loss: 0.4749327003955841\n",
      "idx: 90, loss: 0.41574835777282715\n",
      "idx: 0, loss: 0.6108229160308838\n",
      "idx: 10, loss: 0.5724958777427673\n",
      "idx: 20, loss: 0.6199097633361816\n",
      "idx: 30, loss: 0.4840222895145416\n",
      "idx: 40, loss: 0.569527804851532\n",
      "idx: 50, loss: 0.4727484881877899\n",
      "idx: 60, loss: 0.4818207323551178\n",
      "idx: 70, loss: 0.5399478673934937\n",
      "idx: 80, loss: 0.46793627738952637\n",
      "idx: 90, loss: 0.4010024666786194\n",
      "idx: 0, loss: 0.5772046446800232\n",
      "idx: 10, loss: 0.558409571647644\n",
      "idx: 20, loss: 0.5985202193260193\n",
      "idx: 30, loss: 0.46793389320373535\n",
      "idx: 40, loss: 0.5518021583557129\n",
      "idx: 50, loss: 0.45640331506729126\n",
      "idx: 60, loss: 0.46741506457328796\n",
      "idx: 70, loss: 0.5227400064468384\n",
      "idx: 80, loss: 0.45972850918769836\n",
      "idx: 90, loss: 0.385921448469162\n",
      "idx: 0, loss: 0.5508862137794495\n",
      "idx: 10, loss: 0.5451925992965698\n",
      "idx: 20, loss: 0.581261157989502\n",
      "idx: 30, loss: 0.45173001289367676\n",
      "idx: 40, loss: 0.5296190977096558\n",
      "idx: 50, loss: 0.44241228699684143\n",
      "idx: 60, loss: 0.45698922872543335\n",
      "idx: 70, loss: 0.5045453310012817\n",
      "idx: 80, loss: 0.44969362020492554\n",
      "idx: 90, loss: 0.3727802038192749\n",
      "idx: 0, loss: 0.5261233448982239\n",
      "idx: 10, loss: 0.5289895534515381\n",
      "idx: 20, loss: 0.5625879168510437\n",
      "idx: 30, loss: 0.43567705154418945\n",
      "idx: 40, loss: 0.5126749277114868\n",
      "idx: 50, loss: 0.42569589614868164\n",
      "idx: 60, loss: 0.44517725706100464\n",
      "idx: 70, loss: 0.48468899726867676\n",
      "idx: 80, loss: 0.4405500888824463\n",
      "idx: 90, loss: 0.35820895433425903\n",
      "idx: 0, loss: 0.5019447207450867\n",
      "idx: 10, loss: 0.510506808757782\n",
      "idx: 20, loss: 0.5484947562217712\n",
      "idx: 30, loss: 0.420064240694046\n",
      "idx: 40, loss: 0.4916737973690033\n",
      "idx: 50, loss: 0.4125967025756836\n",
      "idx: 60, loss: 0.4384658932685852\n",
      "idx: 70, loss: 0.4681946635246277\n",
      "idx: 80, loss: 0.4298785924911499\n",
      "idx: 90, loss: 0.34729817509651184\n",
      "idx: 0, loss: 0.4788397252559662\n",
      "idx: 10, loss: 0.4951077401638031\n",
      "idx: 20, loss: 0.529564619064331\n",
      "idx: 30, loss: 0.40591639280319214\n",
      "idx: 40, loss: 0.4731232821941376\n",
      "idx: 50, loss: 0.3964051306247711\n",
      "idx: 60, loss: 0.42622804641723633\n",
      "idx: 70, loss: 0.4509199559688568\n",
      "idx: 80, loss: 0.41802921891212463\n",
      "idx: 90, loss: 0.3338170051574707\n",
      "idx: 0, loss: 0.4585411846637726\n",
      "idx: 10, loss: 0.4797609746456146\n",
      "idx: 20, loss: 0.512680172920227\n",
      "idx: 30, loss: 0.3919904828071594\n",
      "idx: 40, loss: 0.4560410976409912\n",
      "idx: 50, loss: 0.38199692964553833\n",
      "idx: 60, loss: 0.4164186418056488\n",
      "idx: 70, loss: 0.43312254548072815\n",
      "idx: 80, loss: 0.4073672592639923\n",
      "idx: 90, loss: 0.3232764005661011\n",
      "idx: 0, loss: 0.435145765542984\n",
      "idx: 10, loss: 0.4655208885669708\n",
      "idx: 20, loss: 0.49604490399360657\n",
      "idx: 30, loss: 0.37758830189704895\n",
      "idx: 40, loss: 0.4381392300128937\n",
      "idx: 50, loss: 0.3687520921230316\n",
      "idx: 60, loss: 0.40529996156692505\n",
      "idx: 70, loss: 0.4174064099788666\n",
      "idx: 80, loss: 0.3959038555622101\n",
      "idx: 90, loss: 0.31035786867141724\n",
      "Epoch 9. LR: 0.01. Loss: 0.0209 Accuracy 0.4998\n",
      "idx: 0, loss: 0.6932880282402039\n",
      "idx: 10, loss: 0.979095995426178\n",
      "idx: 20, loss: 0.8513633012771606\n",
      "idx: 30, loss: 0.8461053371429443\n",
      "idx: 40, loss: 0.7509605288505554\n",
      "idx: 50, loss: 0.6584572792053223\n",
      "idx: 60, loss: 0.6658004522323608\n",
      "idx: 70, loss: 0.9049500226974487\n",
      "idx: 80, loss: 0.6116606593132019\n",
      "idx: 90, loss: 0.5087747573852539\n",
      "idx: 100, loss: 0.42593464255332947\n",
      "Epoch 0. LR: 0.01. Loss: 0.2503 Accuracy 0.4944\n",
      "idx: 0, loss: 0.664956271648407\n",
      "idx: 10, loss: 0.963046669960022\n",
      "idx: 20, loss: 0.8318185210227966\n",
      "idx: 30, loss: 0.8316039443016052\n",
      "idx: 40, loss: 0.7337682247161865\n",
      "idx: 50, loss: 0.6467533111572266\n",
      "idx: 60, loss: 0.6527391076087952\n",
      "idx: 70, loss: 0.891011118888855\n",
      "idx: 80, loss: 0.6018097400665283\n",
      "idx: 90, loss: 0.5028159618377686\n",
      "idx: 100, loss: 0.4173242747783661\n",
      "idx: 0, loss: 0.645237386226654\n",
      "idx: 10, loss: 0.9499629735946655\n",
      "idx: 20, loss: 0.8119625449180603\n",
      "idx: 30, loss: 0.8096418976783752\n",
      "idx: 40, loss: 0.7165565490722656\n",
      "idx: 50, loss: 0.6328706741333008\n",
      "idx: 60, loss: 0.6385812163352966\n",
      "idx: 70, loss: 0.8751983642578125\n",
      "idx: 80, loss: 0.5906878113746643\n",
      "idx: 90, loss: 0.49605560302734375\n",
      "idx: 100, loss: 0.4071166515350342\n",
      "idx: 0, loss: 0.6275425553321838\n",
      "idx: 10, loss: 0.9319310188293457\n",
      "idx: 20, loss: 0.8003309965133667\n",
      "idx: 30, loss: 0.7930079698562622\n",
      "idx: 40, loss: 0.6988524198532104\n",
      "idx: 50, loss: 0.6181787848472595\n",
      "idx: 60, loss: 0.6232819557189941\n",
      "idx: 70, loss: 0.8594067692756653\n",
      "idx: 80, loss: 0.5779987573623657\n",
      "idx: 90, loss: 0.49049413204193115\n",
      "idx: 100, loss: 0.3983677625656128\n",
      "idx: 0, loss: 0.611606776714325\n",
      "idx: 10, loss: 0.9163023233413696\n",
      "idx: 20, loss: 0.7847700715065002\n",
      "idx: 30, loss: 0.773634135723114\n",
      "idx: 40, loss: 0.6810781955718994\n",
      "idx: 50, loss: 0.6071367263793945\n",
      "idx: 60, loss: 0.6103196144104004\n",
      "idx: 70, loss: 0.843189537525177\n",
      "idx: 80, loss: 0.5639480352401733\n",
      "idx: 90, loss: 0.4829466640949249\n",
      "idx: 100, loss: 0.3887054920196533\n",
      "idx: 0, loss: 0.5950225591659546\n",
      "idx: 10, loss: 0.8992738723754883\n",
      "idx: 20, loss: 0.7708538174629211\n",
      "idx: 30, loss: 0.7590420842170715\n",
      "idx: 40, loss: 0.6633699536323547\n",
      "idx: 50, loss: 0.5953290462493896\n",
      "idx: 60, loss: 0.5973234176635742\n",
      "idx: 70, loss: 0.8269426822662354\n",
      "idx: 80, loss: 0.554572582244873\n",
      "idx: 90, loss: 0.47539371252059937\n",
      "idx: 100, loss: 0.37937095761299133\n",
      "idx: 0, loss: 0.5789198279380798\n",
      "idx: 10, loss: 0.8833656907081604\n",
      "idx: 20, loss: 0.7544981837272644\n",
      "idx: 30, loss: 0.7389448881149292\n",
      "idx: 40, loss: 0.6462938785552979\n",
      "idx: 50, loss: 0.584380030632019\n",
      "idx: 60, loss: 0.5825631618499756\n",
      "idx: 70, loss: 0.8104058504104614\n",
      "idx: 80, loss: 0.5447433590888977\n",
      "idx: 90, loss: 0.4659305214881897\n",
      "idx: 100, loss: 0.37279418110847473\n",
      "idx: 0, loss: 0.5649291276931763\n",
      "idx: 10, loss: 0.8725069761276245\n",
      "idx: 20, loss: 0.742579460144043\n",
      "idx: 30, loss: 0.724355161190033\n",
      "idx: 40, loss: 0.6302132606506348\n",
      "idx: 50, loss: 0.5705201029777527\n",
      "idx: 60, loss: 0.5657086372375488\n",
      "idx: 70, loss: 0.792963445186615\n",
      "idx: 80, loss: 0.5332943201065063\n",
      "idx: 90, loss: 0.4580710232257843\n",
      "idx: 100, loss: 0.3640248477458954\n",
      "idx: 0, loss: 0.5492664575576782\n",
      "idx: 10, loss: 0.8557091951370239\n",
      "idx: 20, loss: 0.7257357239723206\n",
      "idx: 30, loss: 0.7059480547904968\n",
      "idx: 40, loss: 0.6141718029975891\n",
      "idx: 50, loss: 0.556839644908905\n",
      "idx: 60, loss: 0.5522693991661072\n",
      "idx: 70, loss: 0.7750447392463684\n",
      "idx: 80, loss: 0.522686779499054\n",
      "idx: 90, loss: 0.4504348337650299\n",
      "idx: 100, loss: 0.35496267676353455\n",
      "idx: 0, loss: 0.5354480147361755\n",
      "idx: 10, loss: 0.8421914577484131\n",
      "idx: 20, loss: 0.7087884545326233\n",
      "idx: 30, loss: 0.6906837224960327\n",
      "idx: 40, loss: 0.6016610264778137\n",
      "idx: 50, loss: 0.5410485863685608\n",
      "idx: 60, loss: 0.5367734432220459\n",
      "idx: 70, loss: 0.7575377225875854\n",
      "idx: 80, loss: 0.5108370184898376\n",
      "idx: 90, loss: 0.4406180679798126\n",
      "idx: 100, loss: 0.34686383605003357\n",
      "Epoch 9. LR: 0.01. Loss: 0.1973 Accuracy 0.4929\n",
      "idx: 0, loss: 0.396655410528183\n",
      "idx: 10, loss: 0.39468634128570557\n",
      "idx: 20, loss: 0.32337966561317444\n",
      "idx: 30, loss: 0.4954105615615845\n",
      "idx: 40, loss: 0.4467218220233917\n",
      "idx: 50, loss: 0.3436654508113861\n",
      "idx: 60, loss: 0.35399797558784485\n",
      "idx: 70, loss: 0.5447299480438232\n",
      "idx: 80, loss: 0.3819337487220764\n",
      "idx: 90, loss: 0.4192558228969574\n",
      "idx: 100, loss: 0.41022396087646484\n",
      "Epoch 0. LR: 0.01. Loss: 0.0875 Accuracy 0.5306\n",
      "idx: 0, loss: 0.3655647933483124\n",
      "idx: 10, loss: 0.3786691129207611\n",
      "idx: 20, loss: 0.3079279661178589\n",
      "idx: 30, loss: 0.4732268750667572\n",
      "idx: 40, loss: 0.4144343137741089\n",
      "idx: 50, loss: 0.32640621066093445\n",
      "idx: 60, loss: 0.3440304398536682\n",
      "idx: 70, loss: 0.5171844363212585\n",
      "idx: 80, loss: 0.3714498281478882\n",
      "idx: 90, loss: 0.40634363889694214\n",
      "idx: 100, loss: 0.39941757917404175\n"
     ]
    },
    {
     "name": "stdout",
     "output_type": "stream",
     "text": [
      "idx: 0, loss: 0.34615376591682434\n",
      "idx: 10, loss: 0.3567200005054474\n",
      "idx: 20, loss: 0.29383838176727295\n",
      "idx: 30, loss: 0.44755232334136963\n",
      "idx: 40, loss: 0.3866872191429138\n",
      "idx: 50, loss: 0.3124746084213257\n",
      "idx: 60, loss: 0.3330642282962799\n",
      "idx: 70, loss: 0.4864886999130249\n",
      "idx: 80, loss: 0.36100339889526367\n",
      "idx: 90, loss: 0.39517542719841003\n",
      "idx: 100, loss: 0.3888612389564514\n",
      "idx: 0, loss: 0.3288997709751129\n",
      "idx: 10, loss: 0.3382546007633209\n",
      "idx: 20, loss: 0.28217172622680664\n",
      "idx: 30, loss: 0.4259466528892517\n",
      "idx: 40, loss: 0.36253076791763306\n",
      "idx: 50, loss: 0.29962295293807983\n",
      "idx: 60, loss: 0.3226347267627716\n",
      "idx: 70, loss: 0.46280887722969055\n",
      "idx: 80, loss: 0.34880927205085754\n",
      "idx: 90, loss: 0.38125431537628174\n",
      "idx: 100, loss: 0.37920618057250977\n",
      "idx: 0, loss: 0.31385016441345215\n",
      "idx: 10, loss: 0.32133087515830994\n",
      "idx: 20, loss: 0.26907503604888916\n",
      "idx: 30, loss: 0.40781593322753906\n",
      "idx: 40, loss: 0.34135353565216064\n",
      "idx: 50, loss: 0.2871224880218506\n",
      "idx: 60, loss: 0.31054365634918213\n",
      "idx: 70, loss: 0.4420629143714905\n",
      "idx: 80, loss: 0.33484095335006714\n",
      "idx: 90, loss: 0.36759114265441895\n",
      "idx: 100, loss: 0.3672448396682739\n",
      "idx: 0, loss: 0.29975637793540955\n",
      "idx: 10, loss: 0.3075827360153198\n",
      "idx: 20, loss: 0.25977519154548645\n",
      "idx: 30, loss: 0.38745254278182983\n",
      "idx: 40, loss: 0.3199869990348816\n",
      "idx: 50, loss: 0.2753238081932068\n",
      "idx: 60, loss: 0.3017289340496063\n",
      "idx: 70, loss: 0.41950491070747375\n",
      "idx: 80, loss: 0.31849801540374756\n",
      "idx: 90, loss: 0.35526883602142334\n",
      "idx: 100, loss: 0.35744473338127136\n",
      "idx: 0, loss: 0.28805702924728394\n",
      "idx: 10, loss: 0.29333117604255676\n",
      "idx: 20, loss: 0.24849142134189606\n",
      "idx: 30, loss: 0.3718482255935669\n",
      "idx: 40, loss: 0.3038298189640045\n",
      "idx: 50, loss: 0.26512089371681213\n",
      "idx: 60, loss: 0.29136210680007935\n",
      "idx: 70, loss: 0.3995930552482605\n",
      "idx: 80, loss: 0.3046908974647522\n",
      "idx: 90, loss: 0.3451642394065857\n",
      "idx: 100, loss: 0.346990168094635\n",
      "idx: 0, loss: 0.27625036239624023\n",
      "idx: 10, loss: 0.27782633900642395\n",
      "idx: 20, loss: 0.23862193524837494\n",
      "idx: 30, loss: 0.35134243965148926\n",
      "idx: 40, loss: 0.28546977043151855\n",
      "idx: 50, loss: 0.2567238509654999\n",
      "idx: 60, loss: 0.2825569212436676\n",
      "idx: 70, loss: 0.37994956970214844\n",
      "idx: 80, loss: 0.2911514639854431\n",
      "idx: 90, loss: 0.3340916633605957\n",
      "idx: 100, loss: 0.33465707302093506\n",
      "idx: 0, loss: 0.2627832293510437\n",
      "idx: 10, loss: 0.26456817984580994\n",
      "idx: 20, loss: 0.2273535281419754\n",
      "idx: 30, loss: 0.3332920968532562\n",
      "idx: 40, loss: 0.2677876949310303\n",
      "idx: 50, loss: 0.24702826142311096\n",
      "idx: 60, loss: 0.2718847393989563\n",
      "idx: 70, loss: 0.36340025067329407\n",
      "idx: 80, loss: 0.27926209568977356\n",
      "idx: 90, loss: 0.3239036798477173\n",
      "idx: 100, loss: 0.32395827770233154\n",
      "idx: 0, loss: 0.251006543636322\n",
      "idx: 10, loss: 0.25253844261169434\n",
      "idx: 20, loss: 0.21750739216804504\n",
      "idx: 30, loss: 0.3176548182964325\n",
      "idx: 40, loss: 0.2532084286212921\n",
      "idx: 50, loss: 0.2386312633752823\n",
      "idx: 60, loss: 0.260995477437973\n",
      "idx: 70, loss: 0.349247545003891\n",
      "idx: 80, loss: 0.26725178956985474\n",
      "idx: 90, loss: 0.3135562539100647\n",
      "idx: 100, loss: 0.3111514151096344\n",
      "Epoch 9. LR: 0.01. Loss: 0.0490 Accuracy 0.5267\n",
      "idx: 0, loss: 0.6329479217529297\n",
      "idx: 10, loss: 0.8191103935241699\n",
      "idx: 20, loss: 0.5811059474945068\n",
      "idx: 30, loss: 0.7253146767616272\n",
      "idx: 40, loss: 0.6985546350479126\n",
      "idx: 50, loss: 0.9432727694511414\n",
      "idx: 60, loss: 0.8595119714736938\n",
      "idx: 70, loss: 0.6311701536178589\n",
      "idx: 80, loss: 0.5739898085594177\n",
      "idx: 90, loss: 0.7534226179122925\n",
      "idx: 100, loss: 0.49930763244628906\n",
      "idx: 110, loss: 0.8150794506072998\n",
      "idx: 120, loss: 0.6518580317497253\n",
      "Epoch 0. LR: 0.01. Loss: 0.2572 Accuracy 0.5050\n",
      "idx: 0, loss: 0.6008602976799011\n",
      "idx: 10, loss: 0.7877472639083862\n",
      "idx: 20, loss: 0.5658801198005676\n",
      "idx: 30, loss: 0.7073814272880554\n",
      "idx: 40, loss: 0.681401789188385\n",
      "idx: 50, loss: 0.9231964945793152\n",
      "idx: 60, loss: 0.8451477885246277\n",
      "idx: 70, loss: 0.6129305958747864\n",
      "idx: 80, loss: 0.5551610589027405\n",
      "idx: 90, loss: 0.7318402528762817\n",
      "idx: 100, loss: 0.49111515283584595\n",
      "idx: 110, loss: 0.8036614656448364\n",
      "idx: 120, loss: 0.637533962726593\n",
      "idx: 0, loss: 0.5800570249557495\n",
      "idx: 10, loss: 0.764014482498169\n",
      "idx: 20, loss: 0.549667477607727\n",
      "idx: 30, loss: 0.6908254027366638\n",
      "idx: 40, loss: 0.6682247519493103\n",
      "idx: 50, loss: 0.9038152694702148\n",
      "idx: 60, loss: 0.8280720710754395\n",
      "idx: 70, loss: 0.6010436415672302\n",
      "idx: 80, loss: 0.5379505157470703\n",
      "idx: 90, loss: 0.7129541635513306\n",
      "idx: 100, loss: 0.48405519127845764\n",
      "idx: 110, loss: 0.7852123379707336\n",
      "idx: 120, loss: 0.6255690455436707\n",
      "idx: 0, loss: 0.5615086555480957\n",
      "idx: 10, loss: 0.7451606392860413\n",
      "idx: 20, loss: 0.5311577916145325\n",
      "idx: 30, loss: 0.6772130131721497\n",
      "idx: 40, loss: 0.6515306830406189\n",
      "idx: 50, loss: 0.8889580965042114\n",
      "idx: 60, loss: 0.8149382472038269\n",
      "idx: 70, loss: 0.5877805948257446\n",
      "idx: 80, loss: 0.524512529373169\n",
      "idx: 90, loss: 0.6943431496620178\n",
      "idx: 100, loss: 0.47587019205093384\n",
      "idx: 110, loss: 0.7684100866317749\n",
      "idx: 120, loss: 0.6129728555679321\n",
      "idx: 0, loss: 0.5416644215583801\n",
      "idx: 10, loss: 0.7265967726707458\n",
      "idx: 20, loss: 0.5149818658828735\n",
      "idx: 30, loss: 0.6631712913513184\n",
      "idx: 40, loss: 0.6342242956161499\n",
      "idx: 50, loss: 0.8755077123641968\n",
      "idx: 60, loss: 0.80035400390625\n",
      "idx: 70, loss: 0.5725741982460022\n",
      "idx: 80, loss: 0.5101398825645447\n",
      "idx: 90, loss: 0.677209198474884\n",
      "idx: 100, loss: 0.46887192130088806\n",
      "idx: 110, loss: 0.7565222382545471\n",
      "idx: 120, loss: 0.5989903211593628\n",
      "idx: 0, loss: 0.5255653858184814\n",
      "idx: 10, loss: 0.7072203159332275\n",
      "idx: 20, loss: 0.5031704902648926\n",
      "idx: 30, loss: 0.6476703882217407\n",
      "idx: 40, loss: 0.6196019053459167\n",
      "idx: 50, loss: 0.8621656894683838\n",
      "idx: 60, loss: 0.7860260009765625\n",
      "idx: 70, loss: 0.5605451464653015\n",
      "idx: 80, loss: 0.4933486580848694\n",
      "idx: 90, loss: 0.6578204035758972\n",
      "idx: 100, loss: 0.4615219831466675\n",
      "idx: 110, loss: 0.743006706237793\n",
      "idx: 120, loss: 0.5847607851028442\n",
      "idx: 0, loss: 0.5078975558280945\n",
      "idx: 10, loss: 0.6949607729911804\n",
      "idx: 20, loss: 0.4893496632575989\n",
      "idx: 30, loss: 0.6343896389007568\n",
      "idx: 40, loss: 0.6023285388946533\n",
      "idx: 50, loss: 0.8495259284973145\n",
      "idx: 60, loss: 0.7714476585388184\n",
      "idx: 70, loss: 0.5465730428695679\n",
      "idx: 80, loss: 0.47938627004623413\n",
      "idx: 90, loss: 0.6436764597892761\n",
      "idx: 100, loss: 0.4536592662334442\n",
      "idx: 110, loss: 0.7280665040016174\n",
      "idx: 120, loss: 0.5710500478744507\n",
      "idx: 0, loss: 0.4912034869194031\n",
      "idx: 10, loss: 0.6783410906791687\n",
      "idx: 20, loss: 0.47882187366485596\n",
      "idx: 30, loss: 0.6221361756324768\n",
      "idx: 40, loss: 0.5891478657722473\n",
      "idx: 50, loss: 0.8341294527053833\n",
      "idx: 60, loss: 0.7566017508506775\n",
      "idx: 70, loss: 0.5368714928627014\n",
      "idx: 80, loss: 0.4637356400489807\n",
      "idx: 90, loss: 0.6265835165977478\n",
      "idx: 100, loss: 0.4455370604991913\n",
      "idx: 110, loss: 0.7175887227058411\n",
      "idx: 120, loss: 0.5561156868934631\n",
      "idx: 0, loss: 0.47137436270713806\n",
      "idx: 10, loss: 0.660794198513031\n",
      "idx: 20, loss: 0.46343880891799927\n",
      "idx: 30, loss: 0.6082499623298645\n",
      "idx: 40, loss: 0.5743032693862915\n",
      "idx: 50, loss: 0.8237602114677429\n",
      "idx: 60, loss: 0.7408818006515503\n",
      "idx: 70, loss: 0.524390697479248\n",
      "idx: 80, loss: 0.45310017466545105\n",
      "idx: 90, loss: 0.612949788570404\n",
      "idx: 100, loss: 0.43969595432281494\n",
      "idx: 110, loss: 0.6971293687820435\n",
      "idx: 120, loss: 0.5445352792739868\n",
      "idx: 0, loss: 0.45687276124954224\n",
      "idx: 10, loss: 0.6397162079811096\n",
      "idx: 20, loss: 0.4512951672077179\n",
      "idx: 30, loss: 0.5939248204231262\n",
      "idx: 40, loss: 0.5578610301017761\n",
      "idx: 50, loss: 0.8110406994819641\n",
      "idx: 60, loss: 0.7280825972557068\n",
      "idx: 70, loss: 0.5138784050941467\n",
      "idx: 80, loss: 0.4407583773136139\n",
      "idx: 90, loss: 0.5979191660881042\n",
      "idx: 100, loss: 0.43148913979530334\n",
      "idx: 110, loss: 0.6810327172279358\n",
      "idx: 120, loss: 0.5326352715492249\n",
      "Epoch 9. LR: 0.01. Loss: 0.1730 Accuracy 0.5053\n",
      "idx: 0, loss: 0.38273778557777405\n",
      "idx: 10, loss: 0.4721960425376892\n",
      "idx: 20, loss: 0.39361050724983215\n",
      "idx: 30, loss: 0.48815155029296875\n",
      "idx: 40, loss: 0.44928357005119324\n",
      "idx: 50, loss: 0.5536651015281677\n",
      "idx: 60, loss: 0.45579448342323303\n",
      "idx: 70, loss: 0.522223711013794\n",
      "idx: 80, loss: 0.48417019844055176\n",
      "idx: 90, loss: 0.5059430599212646\n",
      "idx: 100, loss: 0.6276399493217468\n",
      "idx: 110, loss: 0.25299352407455444\n",
      "idx: 120, loss: 0.3551812469959259\n",
      "idx: 130, loss: 0.4144114553928375\n",
      "Epoch 0. LR: 0.01. Loss: 0.1019 Accuracy 0.5445\n",
      "idx: 0, loss: 0.36602988839149475\n",
      "idx: 10, loss: 0.460948646068573\n",
      "idx: 20, loss: 0.37710127234458923\n"
     ]
    },
    {
     "name": "stdout",
     "output_type": "stream",
     "text": [
      "idx: 30, loss: 0.476304829120636\n",
      "idx: 40, loss: 0.4208512604236603\n",
      "idx: 50, loss: 0.5333333015441895\n",
      "idx: 60, loss: 0.43820780515670776\n",
      "idx: 70, loss: 0.5015947222709656\n",
      "idx: 80, loss: 0.46536150574684143\n",
      "idx: 90, loss: 0.4861721098423004\n",
      "idx: 100, loss: 0.6150492429733276\n",
      "idx: 110, loss: 0.24479274451732635\n",
      "idx: 120, loss: 0.33895036578178406\n",
      "idx: 130, loss: 0.40376344323158264\n",
      "idx: 0, loss: 0.35040777921676636\n",
      "idx: 10, loss: 0.43983274698257446\n",
      "idx: 20, loss: 0.3644469380378723\n",
      "idx: 30, loss: 0.45615100860595703\n",
      "idx: 40, loss: 0.3963453769683838\n",
      "idx: 50, loss: 0.5078591704368591\n",
      "idx: 60, loss: 0.4212253987789154\n",
      "idx: 70, loss: 0.4851554036140442\n",
      "idx: 80, loss: 0.44750216603279114\n",
      "idx: 90, loss: 0.466229647397995\n",
      "idx: 100, loss: 0.5983686447143555\n",
      "idx: 110, loss: 0.23874732851982117\n",
      "idx: 120, loss: 0.32487088441848755\n",
      "idx: 130, loss: 0.3923630118370056\n",
      "idx: 0, loss: 0.3316485583782196\n",
      "idx: 10, loss: 0.4148848354816437\n",
      "idx: 20, loss: 0.35404112935066223\n",
      "idx: 30, loss: 0.4400322139263153\n",
      "idx: 40, loss: 0.37280094623565674\n",
      "idx: 50, loss: 0.4880569577217102\n",
      "idx: 60, loss: 0.40561914443969727\n",
      "idx: 70, loss: 0.47025471925735474\n",
      "idx: 80, loss: 0.42809996008872986\n",
      "idx: 90, loss: 0.4496954083442688\n",
      "idx: 100, loss: 0.5854256749153137\n",
      "idx: 110, loss: 0.23163531720638275\n",
      "idx: 120, loss: 0.31160932779312134\n",
      "idx: 130, loss: 0.38106483221054077\n",
      "idx: 0, loss: 0.3198350667953491\n",
      "idx: 10, loss: 0.39186492562294006\n",
      "idx: 20, loss: 0.34058859944343567\n",
      "idx: 30, loss: 0.42241910099983215\n",
      "idx: 40, loss: 0.3518510162830353\n",
      "idx: 50, loss: 0.4685076177120209\n",
      "idx: 60, loss: 0.3951292634010315\n",
      "idx: 70, loss: 0.45455795526504517\n",
      "idx: 80, loss: 0.41221821308135986\n",
      "idx: 90, loss: 0.4350910782814026\n",
      "idx: 100, loss: 0.5688608288764954\n",
      "idx: 110, loss: 0.2232380211353302\n",
      "idx: 120, loss: 0.3001197576522827\n",
      "idx: 130, loss: 0.3718463182449341\n",
      "idx: 0, loss: 0.3046875298023224\n",
      "idx: 10, loss: 0.3735813498497009\n",
      "idx: 20, loss: 0.3293796479701996\n",
      "idx: 30, loss: 0.40705886483192444\n",
      "idx: 40, loss: 0.3317399024963379\n",
      "idx: 50, loss: 0.4462384879589081\n",
      "idx: 60, loss: 0.3773963153362274\n",
      "idx: 70, loss: 0.4352254569530487\n",
      "idx: 80, loss: 0.3944786787033081\n",
      "idx: 90, loss: 0.4188644289970398\n",
      "idx: 100, loss: 0.5536377429962158\n",
      "idx: 110, loss: 0.21557392179965973\n",
      "idx: 120, loss: 0.2878177762031555\n",
      "idx: 130, loss: 0.36023396253585815\n",
      "idx: 0, loss: 0.2924843728542328\n",
      "idx: 10, loss: 0.3561924397945404\n",
      "idx: 20, loss: 0.31933748722076416\n",
      "idx: 30, loss: 0.3959819972515106\n",
      "idx: 40, loss: 0.3130071461200714\n",
      "idx: 50, loss: 0.4278063476085663\n",
      "idx: 60, loss: 0.35998252034187317\n",
      "idx: 70, loss: 0.41894784569740295\n",
      "idx: 80, loss: 0.3808959126472473\n",
      "idx: 90, loss: 0.4029037356376648\n",
      "idx: 100, loss: 0.5363667607307434\n",
      "idx: 110, loss: 0.20822525024414062\n",
      "idx: 120, loss: 0.2775237262248993\n",
      "idx: 130, loss: 0.35065993666648865\n",
      "idx: 0, loss: 0.27936142683029175\n",
      "idx: 10, loss: 0.3381619155406952\n",
      "idx: 20, loss: 0.30708643794059753\n",
      "idx: 30, loss: 0.38290396332740784\n",
      "idx: 40, loss: 0.29355788230895996\n",
      "idx: 50, loss: 0.4116443693637848\n",
      "idx: 60, loss: 0.34311679005622864\n",
      "idx: 70, loss: 0.40539616346359253\n",
      "idx: 80, loss: 0.36435452103614807\n",
      "idx: 90, loss: 0.384900838136673\n",
      "idx: 100, loss: 0.5196899175643921\n",
      "idx: 110, loss: 0.20119111239910126\n",
      "idx: 120, loss: 0.269714891910553\n",
      "idx: 130, loss: 0.3390500247478485\n",
      "idx: 0, loss: 0.2686309218406677\n",
      "idx: 10, loss: 0.3252778649330139\n",
      "idx: 20, loss: 0.29832494258880615\n",
      "idx: 30, loss: 0.3664984107017517\n",
      "idx: 40, loss: 0.2766847610473633\n",
      "idx: 50, loss: 0.39306437969207764\n",
      "idx: 60, loss: 0.3271857798099518\n",
      "idx: 70, loss: 0.3876214027404785\n",
      "idx: 80, loss: 0.3485247492790222\n",
      "idx: 90, loss: 0.3698643743991852\n",
      "idx: 100, loss: 0.5000553131103516\n",
      "idx: 110, loss: 0.195173978805542\n",
      "idx: 120, loss: 0.2586987316608429\n",
      "idx: 130, loss: 0.33261311054229736\n",
      "idx: 0, loss: 0.2598365545272827\n",
      "idx: 10, loss: 0.30711767077445984\n",
      "idx: 20, loss: 0.2861195504665375\n",
      "idx: 30, loss: 0.35234659910202026\n",
      "idx: 40, loss: 0.25885891914367676\n",
      "idx: 50, loss: 0.3784944415092468\n",
      "idx: 60, loss: 0.3122800588607788\n",
      "idx: 70, loss: 0.3727155327796936\n",
      "idx: 80, loss: 0.33586904406547546\n",
      "idx: 90, loss: 0.3537862300872803\n",
      "idx: 100, loss: 0.48126283288002014\n",
      "idx: 110, loss: 0.18856693804264069\n",
      "idx: 120, loss: 0.2505260407924652\n",
      "idx: 130, loss: 0.3252635598182678\n",
      "Epoch 9. LR: 0.01. Loss: 0.0591 Accuracy 0.5391\n"
     ]
    }
   ],
   "source": [
    "for i in range(n_clients):\n",
    "    lr_init = 1e-2\n",
    "    wd = 0.0\n",
    "    epochs=10\n",
    "    title_i = \"parametrized_preclient_\" + title + str(i)\n",
    "    new_title_i = \"swag_\" + title_i\n",
    "    \n",
    "    swag_model_i = clients[i]\n",
    "    loader_i = client_loaders[i]\n",
    "    model = model_cfg.base(*model_cfg.args, **model_cfg.kwargs)\n",
    "\n",
    "    model.load_state_dict(torch.load(\"ckpts/\" + title_i + \".pt\"))\n",
    "    optimizer = torch.optim.SGD(model.parameters(), lr=lr_init, weight_decay=wd)\n",
    "    \n",
    "    #test_loader is only included to display accuracy\n",
    "    train(model, loader_i, test_loader, optimizer, criterion, lr_init, epochs, title=new_title_i, print_freq=10, \n",
    "          swag=True, swag_model=swag_model_i, swag_start=2, swag_freq=3, swag_lr=1e-2)\n",
    "#     all_probs = model_averaging(swag_model_i, model=model_cfg.base(*model_cfg.args, **model_cfg.kwargs), loader=test_loader)\n",
    "#     probs.append(all_probs)"
   ]
  },
  {
   "cell_type": "code",
   "execution_count": 36,
   "metadata": {},
   "outputs": [],
   "source": [
    "Mu_s, Sigma_s = np.vstack([np.array(swag_model._get_mean_and_variance()[0]) for swag_model in clients]), np.vstack([np.array(swag_model._get_mean_and_variance()[1]) for swag_model in clients])"
   ]
  },
  {
   "cell_type": "code",
   "execution_count": 37,
   "metadata": {},
   "outputs": [],
   "source": [
    "Sigma_server = np.reciprocal(np.sum(np.reciprocal(Sigma_s), axis=0))"
   ]
  },
  {
   "cell_type": "code",
   "execution_count": 38,
   "metadata": {},
   "outputs": [],
   "source": [
    "Mu_server = np.multiply(Sigma_server, np.sum(np.multiply(Mu_s, np.reciprocal(Sigma_s)), axis=0))"
   ]
  },
  {
   "cell_type": "code",
   "execution_count": 39,
   "metadata": {},
   "outputs": [
    {
     "name": "stderr",
     "output_type": "stream",
     "text": [
      "100%|██████████████████████████████████████████████████████████████████████████████████| 40/40 [00:01<00:00, 23.24it/s]\n"
     ]
    },
    {
     "data": {
      "text/plain": [
       "25.33"
      ]
     },
     "execution_count": 39,
     "metadata": {},
     "output_type": "execute_result"
    }
   ],
   "source": [
    "model = model_cfg.base(*model_cfg.args, **model_cfg.kwargs)\n",
    "set_weights(model, torch.tensor(Mu_server))\n",
    "accuracy_model(model, test_loader, 'cpu')"
   ]
  },
  {
   "cell_type": "code",
   "execution_count": 42,
   "metadata": {
    "scrolled": true
   },
   "outputs": [
    {
     "name": "stderr",
     "output_type": "stream",
     "text": [
      "100%|██████████████████████████████████████████████████████████████████████████████████| 40/40 [00:01<00:00, 23.24it/s]\n",
      "  8%|██████▏                                                                            | 3/40 [00:00<00:01, 21.80it/s]"
     ]
    },
    {
     "name": "stdout",
     "output_type": "stream",
     "text": [
      "Mu 0: 36.65\n"
     ]
    },
    {
     "name": "stderr",
     "output_type": "stream",
     "text": [
      "100%|██████████████████████████████████████████████████████████████████████████████████| 40/40 [00:01<00:00, 22.68it/s]\n",
      "  8%|██████▏                                                                            | 3/40 [00:00<00:01, 23.14it/s]"
     ]
    },
    {
     "name": "stdout",
     "output_type": "stream",
     "text": [
      "Mu 1: 49.62\n"
     ]
    },
    {
     "name": "stderr",
     "output_type": "stream",
     "text": [
      "100%|██████████████████████████████████████████████████████████████████████████████████| 40/40 [00:01<00:00, 23.77it/s]\n",
      "  5%|████▏                                                                              | 2/40 [00:00<00:01, 19.66it/s]"
     ]
    },
    {
     "name": "stdout",
     "output_type": "stream",
     "text": [
      "Mu 2: 40.32\n"
     ]
    },
    {
     "name": "stderr",
     "output_type": "stream",
     "text": [
      "100%|██████████████████████████████████████████████████████████████████████████████████| 40/40 [00:01<00:00, 21.75it/s]\n",
      "  5%|████▏                                                                              | 2/40 [00:00<00:01, 19.47it/s]"
     ]
    },
    {
     "name": "stdout",
     "output_type": "stream",
     "text": [
      "Mu 3: 43.95\n"
     ]
    },
    {
     "name": "stderr",
     "output_type": "stream",
     "text": [
      "100%|██████████████████████████████████████████████████████████████████████████████████| 40/40 [00:01<00:00, 22.29it/s]\n",
      "  8%|██████▏                                                                            | 3/40 [00:00<00:01, 21.18it/s]"
     ]
    },
    {
     "name": "stdout",
     "output_type": "stream",
     "text": [
      "Mu 4: 50.84\n"
     ]
    },
    {
     "name": "stderr",
     "output_type": "stream",
     "text": [
      "100%|██████████████████████████████████████████████████████████████████████████████████| 40/40 [00:01<00:00, 22.93it/s]\n",
      "  8%|██████▏                                                                            | 3/40 [00:00<00:01, 23.14it/s]"
     ]
    },
    {
     "name": "stdout",
     "output_type": "stream",
     "text": [
      "Mu 5: 50.13\n"
     ]
    },
    {
     "name": "stderr",
     "output_type": "stream",
     "text": [
      "100%|██████████████████████████████████████████████████████████████████████████████████| 40/40 [00:01<00:00, 22.98it/s]\n",
      "  8%|██████▏                                                                            | 3/40 [00:00<00:01, 23.69it/s]"
     ]
    },
    {
     "name": "stdout",
     "output_type": "stream",
     "text": [
      "Mu 6: 49.32\n"
     ]
    },
    {
     "name": "stderr",
     "output_type": "stream",
     "text": [
      "100%|██████████████████████████████████████████████████████████████████████████████████| 40/40 [00:01<00:00, 22.92it/s]\n",
      "  8%|██████▏                                                                            | 3/40 [00:00<00:01, 23.87it/s]"
     ]
    },
    {
     "name": "stdout",
     "output_type": "stream",
     "text": [
      "Mu 7: 52.74\n"
     ]
    },
    {
     "name": "stderr",
     "output_type": "stream",
     "text": [
      "100%|██████████████████████████████████████████████████████████████████████████████████| 40/40 [00:01<00:00, 21.89it/s]\n",
      "  8%|██████▏                                                                            | 3/40 [00:00<00:01, 22.12it/s]"
     ]
    },
    {
     "name": "stdout",
     "output_type": "stream",
     "text": [
      "Mu 8: 50.76\n"
     ]
    },
    {
     "name": "stderr",
     "output_type": "stream",
     "text": [
      "100%|██████████████████████████████████████████████████████████████████████████████████| 40/40 [00:01<00:00, 22.46it/s]"
     ]
    },
    {
     "name": "stdout",
     "output_type": "stream",
     "text": [
      "Mu 9: 54.14\n"
     ]
    },
    {
     "name": "stderr",
     "output_type": "stream",
     "text": [
      "\n"
     ]
    }
   ],
   "source": [
    "model = model_cfg.base(*model_cfg.args, **model_cfg.kwargs)\n",
    "for i in range(10):\n",
    "    set_weights(model, torch.tensor(Mu_s[i]))\n",
    "    print(f\"Mu {i}:\" , accuracy_model(model, test_loader, 'cpu'))"
   ]
  },
  {
   "cell_type": "code",
   "execution_count": 47,
   "metadata": {},
   "outputs": [
    {
     "name": "stderr",
     "output_type": "stream",
     "text": [
      "100%|██████████████████████████████████████████████████████████████████████████████████| 40/40 [00:01<00:00, 23.37it/s]\n"
     ]
    },
    {
     "data": {
      "text/plain": [
       "41.23"
      ]
     },
     "execution_count": 47,
     "metadata": {},
     "output_type": "execute_result"
    }
   ],
   "source": [
    "new_mu_server = np.average(Mu_s[1:], weights=[len(client_loader.dataset) for client_loader in client_loaders.values()][1:], axis=0)\n",
    "model = model_cfg.base(*model_cfg.args, **model_cfg.kwargs)\n",
    "set_weights(model, torch.tensor(new_mu_server))\n",
    "accuracy_model(model, test_loader, 'cpu')"
   ]
  },
  {
   "cell_type": "code",
   "execution_count": 34,
   "metadata": {},
   "outputs": [
    {
     "data": {
      "text/plain": [
       "array([87.77])"
      ]
     },
     "execution_count": 34,
     "metadata": {},
     "output_type": "execute_result"
    }
   ],
   "source": [
    "all_probs = np.average(probs, weights=[len(client_loader.dataset) for client_loader in client_loaders.values()], axis=0)\n",
    "ytest = np.array(test_loader.dataset.targets)\n",
    "accuracy_all_probs(all_probs, ytest)"
   ]
  },
  {
   "cell_type": "code",
   "execution_count": 35,
   "metadata": {},
   "outputs": [
    {
     "name": "stderr",
     "output_type": "stream",
     "text": [
      "100%|██████████████████████████████████████████████████████████████████████████████████| 40/40 [00:01<00:00, 33.76it/s]\n"
     ]
    },
    {
     "data": {
      "text/plain": [
       "87.56"
      ]
     },
     "execution_count": 35,
     "metadata": {},
     "output_type": "execute_result"
    }
   ],
   "source": [
    "accuracy_model(general_model, test_loader, 'cpu')"
   ]
  },
  {
   "cell_type": "code",
   "execution_count": 142,
   "metadata": {},
   "outputs": [
    {
     "data": {
      "text/plain": [
       "array([87.42])"
      ]
     },
     "execution_count": 142,
     "metadata": {},
     "output_type": "execute_result"
    }
   ],
   "source": [
    "bayesian_swag_model = SWAG(model_cfg.base, subspace_type=\"pca\", *model_cfg.args, **model_cfg.kwargs, \n",
    "                  subspace_kwargs={\"max_rank\": 2, \"pca_rank\": 2})\n",
    "bayesian_swag_model.mean = torch.tensor(Mu_server)\n",
    "bayesian_swag_model.sq_mean = torch.tensor(Sigma_server) + bayesian_swag_model.mean ** 2\n",
    "all_probs_swag = diag_model_averaging(bayesian_swag_model, model=model_cfg.base(*model_cfg.args, **model_cfg.kwargs), loader=test_loader, S=5)\n",
    "accuracy_all_probs(all_probs_swag, ytest)"
   ]
  },
  {
   "cell_type": "code",
   "execution_count": 161,
   "metadata": {
    "scrolled": true
   },
   "outputs": [
    {
     "name": "stderr",
     "output_type": "stream",
     "text": [
      "168it [00:08, 21.15it/s]"
     ]
    },
    {
     "name": "stdout",
     "output_type": "stream",
     "text": [
      "Accuracy = 44.1%, Mean loss = 1.595\n"
     ]
    },
    {
     "name": "stderr",
     "output_type": "stream",
     "text": [
      "235it [00:11, 20.80it/s]\n",
      " 10%|████████▎                                                                          | 4/40 [00:00<00:01, 29.93it/s]"
     ]
    },
    {
     "name": "stdout",
     "output_type": "stream",
     "text": [
      "--- Train --- Epoch 1, Accuracy = 52.60%, Loss = 314.181\n",
      "\n"
     ]
    },
    {
     "name": "stderr",
     "output_type": "stream",
     "text": [
      "100%|██████████████████████████████████████████████████████████████████████████████████| 40/40 [00:01<00:00, 33.70it/s]\n",
      "3it [00:00, 21.96it/s]"
     ]
    },
    {
     "name": "stdout",
     "output_type": "stream",
     "text": [
      "--- Test --- Epoch: 1, Test accuracy: 76.36\n",
      "\n"
     ]
    },
    {
     "name": "stderr",
     "output_type": "stream",
     "text": [
      "167it [00:07, 22.00it/s]"
     ]
    },
    {
     "name": "stdout",
     "output_type": "stream",
     "text": [
      "Accuracy = 81.5%, Mean loss = 0.506\n"
     ]
    },
    {
     "name": "stderr",
     "output_type": "stream",
     "text": [
      "235it [00:10, 21.77it/s]\n",
      " 10%|████████▎                                                                          | 4/40 [00:00<00:01, 32.61it/s]"
     ]
    },
    {
     "name": "stdout",
     "output_type": "stream",
     "text": [
      "--- Train --- Epoch 2, Accuracy = 82.36%, Loss = 113.067\n",
      "\n"
     ]
    },
    {
     "name": "stderr",
     "output_type": "stream",
     "text": [
      "100%|██████████████████████████████████████████████████████████████████████████████████| 40/40 [00:01<00:00, 33.85it/s]\n",
      "3it [00:00, 22.28it/s]"
     ]
    },
    {
     "name": "stdout",
     "output_type": "stream",
     "text": [
      "--- Test --- Epoch: 2, Test accuracy: 84.9\n",
      "\n"
     ]
    },
    {
     "name": "stderr",
     "output_type": "stream",
     "text": [
      "168it [00:07, 22.88it/s]"
     ]
    },
    {
     "name": "stdout",
     "output_type": "stream",
     "text": [
      "Accuracy = 85.9%, Mean loss = 0.386\n"
     ]
    },
    {
     "name": "stderr",
     "output_type": "stream",
     "text": [
      "235it [00:10, 21.41it/s]\n",
      "  8%|██████▏                                                                            | 3/40 [00:00<00:01, 28.92it/s]"
     ]
    },
    {
     "name": "stdout",
     "output_type": "stream",
     "text": [
      "--- Train --- Epoch 3, Accuracy = 86.05%, Loss = 89.693\n",
      "\n"
     ]
    },
    {
     "name": "stderr",
     "output_type": "stream",
     "text": [
      "100%|██████████████████████████████████████████████████████████████████████████████████| 40/40 [00:01<00:00, 31.56it/s]\n",
      "3it [00:00, 22.96it/s]"
     ]
    },
    {
     "name": "stdout",
     "output_type": "stream",
     "text": [
      "--- Test --- Epoch: 3, Test accuracy: 85.38\n",
      "\n"
     ]
    },
    {
     "name": "stderr",
     "output_type": "stream",
     "text": [
      "168it [00:07, 21.49it/s]"
     ]
    },
    {
     "name": "stdout",
     "output_type": "stream",
     "text": [
      "Accuracy = 87.2%, Mean loss = 0.352\n"
     ]
    },
    {
     "name": "stderr",
     "output_type": "stream",
     "text": [
      "235it [00:10, 21.75it/s]\n",
      " 10%|████████▎                                                                          | 4/40 [00:00<00:01, 33.15it/s]"
     ]
    },
    {
     "name": "stdout",
     "output_type": "stream",
     "text": [
      "--- Train --- Epoch 4, Accuracy = 87.17%, Loss = 82.319\n",
      "\n"
     ]
    },
    {
     "name": "stderr",
     "output_type": "stream",
     "text": [
      "100%|██████████████████████████████████████████████████████████████████████████████████| 40/40 [00:01<00:00, 33.37it/s]\n",
      "3it [00:00, 20.19it/s]"
     ]
    },
    {
     "name": "stdout",
     "output_type": "stream",
     "text": [
      "--- Test --- Epoch: 4, Test accuracy: 86.39\n",
      "\n"
     ]
    },
    {
     "name": "stderr",
     "output_type": "stream",
     "text": [
      "169it [00:07, 22.36it/s]"
     ]
    },
    {
     "name": "stdout",
     "output_type": "stream",
     "text": [
      "Accuracy = 87.9%, Mean loss = 0.334\n"
     ]
    },
    {
     "name": "stderr",
     "output_type": "stream",
     "text": [
      "235it [00:10, 21.45it/s]\n",
      " 10%|████████▎                                                                          | 4/40 [00:00<00:01, 30.85it/s]"
     ]
    },
    {
     "name": "stdout",
     "output_type": "stream",
     "text": [
      "--- Train --- Epoch 5, Accuracy = 87.88%, Loss = 78.337\n",
      "\n"
     ]
    },
    {
     "name": "stderr",
     "output_type": "stream",
     "text": [
      "100%|██████████████████████████████████████████████████████████████████████████████████| 40/40 [00:01<00:00, 34.97it/s]\n",
      "3it [00:00, 20.19it/s]"
     ]
    },
    {
     "name": "stdout",
     "output_type": "stream",
     "text": [
      "--- Test --- Epoch: 5, Test accuracy: 86.31\n",
      "\n"
     ]
    },
    {
     "name": "stderr",
     "output_type": "stream",
     "text": [
      "168it [00:07, 22.84it/s]"
     ]
    },
    {
     "name": "stdout",
     "output_type": "stream",
     "text": [
      "Accuracy = 88.3%, Mean loss = 0.321\n"
     ]
    },
    {
     "name": "stderr",
     "output_type": "stream",
     "text": [
      "235it [00:10, 22.40it/s]\n",
      " 10%|████████▎                                                                          | 4/40 [00:00<00:01, 34.58it/s]"
     ]
    },
    {
     "name": "stdout",
     "output_type": "stream",
     "text": [
      "--- Train --- Epoch 6, Accuracy = 88.22%, Loss = 75.392\n",
      "\n"
     ]
    },
    {
     "name": "stderr",
     "output_type": "stream",
     "text": [
      "100%|██████████████████████████████████████████████████████████████████████████████████| 40/40 [00:01<00:00, 35.27it/s]\n",
      "3it [00:00, 21.49it/s]"
     ]
    },
    {
     "name": "stdout",
     "output_type": "stream",
     "text": [
      "--- Test --- Epoch: 6, Test accuracy: 86.87\n",
      "\n"
     ]
    },
    {
     "name": "stderr",
     "output_type": "stream",
     "text": [
      "168it [00:07, 22.75it/s]"
     ]
    },
    {
     "name": "stdout",
     "output_type": "stream",
     "text": [
      "Accuracy = 88.5%, Mean loss = 0.315\n"
     ]
    },
    {
     "name": "stderr",
     "output_type": "stream",
     "text": [
      "235it [00:10, 22.64it/s]\n",
      " 10%|████████▎                                                                          | 4/40 [00:00<00:01, 35.49it/s]"
     ]
    },
    {
     "name": "stdout",
     "output_type": "stream",
     "text": [
      "--- Train --- Epoch 7, Accuracy = 88.49%, Loss = 74.027\n",
      "\n"
     ]
    },
    {
     "name": "stderr",
     "output_type": "stream",
     "text": [
      "100%|██████████████████████████████████████████████████████████████████████████████████| 40/40 [00:01<00:00, 35.06it/s]\n",
      "3it [00:00, 22.45it/s]"
     ]
    },
    {
     "name": "stdout",
     "output_type": "stream",
     "text": [
      "--- Test --- Epoch: 7, Test accuracy: 87.17\n",
      "\n"
     ]
    },
    {
     "name": "stderr",
     "output_type": "stream",
     "text": [
      "168it [00:07, 21.24it/s]"
     ]
    },
    {
     "name": "stdout",
     "output_type": "stream",
     "text": [
      "Accuracy = 88.7%, Mean loss = 0.309\n"
     ]
    },
    {
     "name": "stderr",
     "output_type": "stream",
     "text": [
      "235it [00:10, 22.42it/s]\n",
      " 10%|████████▎                                                                          | 4/40 [00:00<00:01, 31.33it/s]"
     ]
    },
    {
     "name": "stdout",
     "output_type": "stream",
     "text": [
      "--- Train --- Epoch 8, Accuracy = 88.67%, Loss = 72.618\n",
      "\n"
     ]
    },
    {
     "name": "stderr",
     "output_type": "stream",
     "text": [
      "100%|██████████████████████████████████████████████████████████████████████████████████| 40/40 [00:01<00:00, 36.33it/s]\n",
      "3it [00:00, 24.66it/s]"
     ]
    },
    {
     "name": "stdout",
     "output_type": "stream",
     "text": [
      "--- Test --- Epoch: 8, Test accuracy: 87.36\n",
      "\n"
     ]
    },
    {
     "name": "stderr",
     "output_type": "stream",
     "text": [
      "168it [00:07, 22.71it/s]"
     ]
    },
    {
     "name": "stdout",
     "output_type": "stream",
     "text": [
      "Accuracy = 89.0%, Mean loss = 0.302\n"
     ]
    },
    {
     "name": "stderr",
     "output_type": "stream",
     "text": [
      "235it [00:10, 22.48it/s]\n",
      " 10%|████████▎                                                                          | 4/40 [00:00<00:00, 37.84it/s]"
     ]
    },
    {
     "name": "stdout",
     "output_type": "stream",
     "text": [
      "--- Train --- Epoch 9, Accuracy = 88.92%, Loss = 71.277\n",
      "\n"
     ]
    },
    {
     "name": "stderr",
     "output_type": "stream",
     "text": [
      "100%|██████████████████████████████████████████████████████████████████████████████████| 40/40 [00:01<00:00, 34.66it/s]\n",
      "3it [00:00, 22.96it/s]"
     ]
    },
    {
     "name": "stdout",
     "output_type": "stream",
     "text": [
      "--- Test --- Epoch: 9, Test accuracy: 87.11\n",
      "\n"
     ]
    },
    {
     "name": "stderr",
     "output_type": "stream",
     "text": [
      "167it [00:07, 22.93it/s]"
     ]
    },
    {
     "name": "stdout",
     "output_type": "stream",
     "text": [
      "Accuracy = 89.1%, Mean loss = 0.298\n"
     ]
    },
    {
     "name": "stderr",
     "output_type": "stream",
     "text": [
      "235it [00:10, 22.75it/s]\n",
      " 10%|████████▎                                                                          | 4/40 [00:00<00:01, 30.38it/s]"
     ]
    },
    {
     "name": "stdout",
     "output_type": "stream",
     "text": [
      "--- Train --- Epoch 10, Accuracy = 89.11%, Loss = 70.070\n",
      "\n"
     ]
    },
    {
     "name": "stderr",
     "output_type": "stream",
     "text": [
      "100%|██████████████████████████████████████████████████████████████████████████████████| 40/40 [00:01<00:00, 34.75it/s]\n"
     ]
    },
    {
     "name": "stdout",
     "output_type": "stream",
     "text": [
      "--- Test --- Epoch: 10, Test accuracy: 87.48\n",
      "\n"
     ]
    }
   ],
   "source": [
    "sgld = Sgld(model_cfg.base(*model_cfg.args, **model_cfg.kwargs))\n",
    "sgld_path = \"./ckpts/sgld_\" + title + \".pt\"\n",
    "state_dict, save_dict = sgld.run(train_loader, test_loader, 10, params_optimizer={'lr' : 1e-2}, weight_decay=0.0, t_burn_in=5, path_save_samples=sgld_path)\n",
    "sgld_all_probs = np.array(sgld_tools.predictions(test_loader, model, path=sgld_path, device='cpu'))"
   ]
  },
  {
   "cell_type": "code",
   "execution_count": 162,
   "metadata": {},
   "outputs": [
    {
     "name": "stderr",
     "output_type": "stream",
     "text": [
      "168it [00:07, 20.60it/s]"
     ]
    },
    {
     "name": "stdout",
     "output_type": "stream",
     "text": [
      "Accuracy = 90.1%, Mean loss = 0.269\n"
     ]
    },
    {
     "name": "stderr",
     "output_type": "stream",
     "text": [
      "235it [00:10, 21.82it/s]\n",
      "  8%|██████▏                                                                            | 3/40 [00:00<00:01, 29.49it/s]"
     ]
    },
    {
     "name": "stdout",
     "output_type": "stream",
     "text": [
      "--- Train --- Epoch 1, Accuracy = 90.16%, Loss = 63.269\n",
      "\n"
     ]
    },
    {
     "name": "stderr",
     "output_type": "stream",
     "text": [
      "100%|██████████████████████████████████████████████████████████████████████████████████| 40/40 [00:01<00:00, 31.96it/s]\n",
      "3it [00:00, 18.68it/s]"
     ]
    },
    {
     "name": "stdout",
     "output_type": "stream",
     "text": [
      "--- Test --- Epoch: 1, Test accuracy: 87.4\n",
      "\n"
     ]
    },
    {
     "name": "stderr",
     "output_type": "stream",
     "text": [
      "168it [00:08, 21.23it/s]"
     ]
    },
    {
     "name": "stdout",
     "output_type": "stream",
     "text": [
      "Accuracy = 89.4%, Mean loss = 0.293\n"
     ]
    },
    {
     "name": "stderr",
     "output_type": "stream",
     "text": [
      "235it [00:11, 20.75it/s]\n",
      " 10%|████████▎                                                                          | 4/40 [00:00<00:00, 37.48it/s]"
     ]
    },
    {
     "name": "stdout",
     "output_type": "stream",
     "text": [
      "--- Train --- Epoch 2, Accuracy = 89.30%, Loss = 68.587\n",
      "\n"
     ]
    },
    {
     "name": "stderr",
     "output_type": "stream",
     "text": [
      "100%|██████████████████████████████████████████████████████████████████████████████████| 40/40 [00:01<00:00, 34.97it/s]\n",
      "3it [00:00, 19.04it/s]"
     ]
    },
    {
     "name": "stdout",
     "output_type": "stream",
     "text": [
      "--- Test --- Epoch: 2, Test accuracy: 87.0\n",
      "\n"
     ]
    },
    {
     "name": "stderr",
     "output_type": "stream",
     "text": [
      "169it [00:08, 19.88it/s]"
     ]
    },
    {
     "name": "stdout",
     "output_type": "stream",
     "text": [
      "Accuracy = 89.3%, Mean loss = 0.293\n"
     ]
    },
    {
     "name": "stderr",
     "output_type": "stream",
     "text": [
      "235it [00:11, 21.03it/s]\n",
      " 10%|████████▎                                                                          | 4/40 [00:00<00:00, 37.14it/s]"
     ]
    },
    {
     "name": "stdout",
     "output_type": "stream",
     "text": [
      "--- Train --- Epoch 3, Accuracy = 89.20%, Loss = 68.859\n",
      "\n"
     ]
    },
    {
     "name": "stderr",
     "output_type": "stream",
     "text": [
      "100%|██████████████████████████████████████████████████████████████████████████████████| 40/40 [00:01<00:00, 32.82it/s]\n",
      "3it [00:00, 23.69it/s]"
     ]
    },
    {
     "name": "stdout",
     "output_type": "stream",
     "text": [
      "--- Test --- Epoch: 3, Test accuracy: 87.68\n",
      "\n"
     ]
    },
    {
     "name": "stderr",
     "output_type": "stream",
     "text": [
      "166it [00:07, 20.80it/s]"
     ]
    },
    {
     "name": "stdout",
     "output_type": "stream",
     "text": [
      "Accuracy = 89.3%, Mean loss = 0.287\n"
     ]
    },
    {
     "name": "stderr",
     "output_type": "stream",
     "text": [
      "235it [00:10, 21.43it/s]\n",
      " 10%|████████▎                                                                          | 4/40 [00:00<00:01, 31.58it/s]"
     ]
    },
    {
     "name": "stdout",
     "output_type": "stream",
     "text": [
      "--- Train --- Epoch 4, Accuracy = 89.39%, Loss = 67.352\n",
      "\n"
     ]
    },
    {
     "name": "stderr",
     "output_type": "stream",
     "text": [
      "100%|██████████████████████████████████████████████████████████████████████████████████| 40/40 [00:01<00:00, 33.23it/s]\n",
      "3it [00:00, 19.79it/s]"
     ]
    },
    {
     "name": "stdout",
     "output_type": "stream",
     "text": [
      "--- Test --- Epoch: 4, Test accuracy: 87.56\n",
      "\n"
     ]
    },
    {
     "name": "stderr",
     "output_type": "stream",
     "text": [
      "168it [00:08, 20.86it/s]"
     ]
    },
    {
     "name": "stdout",
     "output_type": "stream",
     "text": [
      "Accuracy = 89.5%, Mean loss = 0.287\n"
     ]
    },
    {
     "name": "stderr",
     "output_type": "stream",
     "text": [
      "235it [00:11, 20.69it/s]\n",
      " 10%|████████▎                                                                          | 4/40 [00:00<00:01, 30.16it/s]"
     ]
    },
    {
     "name": "stdout",
     "output_type": "stream",
     "text": [
      "--- Train --- Epoch 5, Accuracy = 89.40%, Loss = 67.700\n",
      "\n"
     ]
    },
    {
     "name": "stderr",
     "output_type": "stream",
     "text": [
      "100%|██████████████████████████████████████████████████████████████████████████████████| 40/40 [00:01<00:00, 31.56it/s]\n",
      "3it [00:00, 20.89it/s]"
     ]
    },
    {
     "name": "stdout",
     "output_type": "stream",
     "text": [
      "--- Test --- Epoch: 5, Test accuracy: 87.22\n",
      "\n"
     ]
    },
    {
     "name": "stderr",
     "output_type": "stream",
     "text": [
      "166it [00:07, 22.59it/s]"
     ]
    },
    {
     "name": "stdout",
     "output_type": "stream",
     "text": [
      "Accuracy = 89.6%, Mean loss = 0.284\n"
     ]
    },
    {
     "name": "stderr",
     "output_type": "stream",
     "text": [
      "235it [00:10, 21.38it/s]\n",
      " 10%|████████▎                                                                          | 4/40 [00:00<00:01, 32.87it/s]"
     ]
    },
    {
     "name": "stdout",
     "output_type": "stream",
     "text": [
      "--- Train --- Epoch 6, Accuracy = 89.53%, Loss = 66.942\n",
      "\n"
     ]
    },
    {
     "name": "stderr",
     "output_type": "stream",
     "text": [
      "100%|██████████████████████████████████████████████████████████████████████████████████| 40/40 [00:01<00:00, 33.59it/s]\n",
      "3it [00:00, 21.64it/s]"
     ]
    },
    {
     "name": "stdout",
     "output_type": "stream",
     "text": [
      "--- Test --- Epoch: 6, Test accuracy: 87.48\n",
      "\n"
     ]
    },
    {
     "name": "stderr",
     "output_type": "stream",
     "text": [
      "166it [00:08, 20.85it/s]"
     ]
    },
    {
     "name": "stdout",
     "output_type": "stream",
     "text": [
      "Accuracy = 89.8%, Mean loss = 0.279\n"
     ]
    },
    {
     "name": "stderr",
     "output_type": "stream",
     "text": [
      "235it [00:11, 20.02it/s]\n",
      " 10%|████████▎                                                                          | 4/40 [00:00<00:01, 34.28it/s]"
     ]
    },
    {
     "name": "stdout",
     "output_type": "stream",
     "text": [
      "--- Train --- Epoch 7, Accuracy = 89.72%, Loss = 65.896\n",
      "\n"
     ]
    },
    {
     "name": "stderr",
     "output_type": "stream",
     "text": [
      "100%|██████████████████████████████████████████████████████████████████████████████████| 40/40 [00:01<00:00, 34.49it/s]\n",
      "3it [00:00, 22.45it/s]"
     ]
    },
    {
     "name": "stdout",
     "output_type": "stream",
     "text": [
      "--- Test --- Epoch: 7, Test accuracy: 86.41\n",
      "\n"
     ]
    },
    {
     "name": "stderr",
     "output_type": "stream",
     "text": [
      "169it [00:08, 20.81it/s]"
     ]
    },
    {
     "name": "stdout",
     "output_type": "stream",
     "text": [
      "Accuracy = 89.8%, Mean loss = 0.280\n"
     ]
    },
    {
     "name": "stderr",
     "output_type": "stream",
     "text": [
      "235it [00:11, 20.81it/s]\n",
      " 10%|████████▎                                                                          | 4/40 [00:00<00:01, 35.49it/s]"
     ]
    },
    {
     "name": "stdout",
     "output_type": "stream",
     "text": [
      "--- Train --- Epoch 8, Accuracy = 89.75%, Loss = 65.781\n",
      "\n"
     ]
    },
    {
     "name": "stderr",
     "output_type": "stream",
     "text": [
      "100%|██████████████████████████████████████████████████████████████████████████████████| 40/40 [00:01<00:00, 32.90it/s]\n",
      "3it [00:00, 23.87it/s]"
     ]
    },
    {
     "name": "stdout",
     "output_type": "stream",
     "text": [
      "--- Test --- Epoch: 8, Test accuracy: 87.48\n",
      "\n"
     ]
    },
    {
     "name": "stderr",
     "output_type": "stream",
     "text": [
      "166it [00:08, 21.43it/s]"
     ]
    },
    {
     "name": "stdout",
     "output_type": "stream",
     "text": [
      "Accuracy = 89.8%, Mean loss = 0.278\n"
     ]
    },
    {
     "name": "stderr",
     "output_type": "stream",
     "text": [
      "235it [00:11, 20.61it/s]\n",
      " 10%|████████▎                                                                          | 4/40 [00:00<00:01, 35.49it/s]"
     ]
    },
    {
     "name": "stdout",
     "output_type": "stream",
     "text": [
      "--- Train --- Epoch 9, Accuracy = 89.75%, Loss = 65.495\n",
      "\n"
     ]
    },
    {
     "name": "stderr",
     "output_type": "stream",
     "text": [
      "100%|██████████████████████████████████████████████████████████████████████████████████| 40/40 [00:01<00:00, 33.04it/s]\n",
      "3it [00:00, 21.04it/s]"
     ]
    },
    {
     "name": "stdout",
     "output_type": "stream",
     "text": [
      "--- Test --- Epoch: 9, Test accuracy: 87.23\n",
      "\n"
     ]
    },
    {
     "name": "stderr",
     "output_type": "stream",
     "text": [
      "166it [00:08, 20.26it/s]"
     ]
    },
    {
     "name": "stdout",
     "output_type": "stream",
     "text": [
      "Accuracy = 89.9%, Mean loss = 0.276\n"
     ]
    },
    {
     "name": "stderr",
     "output_type": "stream",
     "text": [
      "235it [00:11, 20.71it/s]\n",
      " 10%|████████▎                                                                          | 4/40 [00:00<00:01, 33.42it/s]"
     ]
    },
    {
     "name": "stdout",
     "output_type": "stream",
     "text": [
      "--- Train --- Epoch 10, Accuracy = 89.75%, Loss = 65.351\n",
      "\n"
     ]
    },
    {
     "name": "stderr",
     "output_type": "stream",
     "text": [
      "100%|██████████████████████████████████████████████████████████████████████████████████| 40/40 [00:01<00:00, 32.06it/s]\n"
     ]
    },
    {
     "name": "stdout",
     "output_type": "stream",
     "text": [
      "--- Test --- Epoch: 10, Test accuracy: 87.07\n",
      "\n"
     ]
    }
   ],
   "source": [
    "psgld = Sgld(model_cfg.base(*model_cfg.args, **model_cfg.kwargs))\n",
    "psgld_path = \"./ckpts/psgld_\" + title + \".pt\"\n",
    "pstate_dict, psave_dict = sgld.run(train_loader, test_loader, 10, params_optimizer={'lr' : 1e-2, 'precondition_decay_rate' : 0.95}, weight_decay=0.0, t_burn_in=5, path_save_samples=psgld_path)\n",
    "psgld_all_probs = np.array(sgld_tools.predictions(test_loader, model, path=psgld_path, device='cpu'))"
   ]
  },
  {
   "cell_type": "code",
   "execution_count": 176,
   "metadata": {
    "scrolled": true
   },
   "outputs": [
    {
     "name": "stdout",
     "output_type": "stream",
     "text": [
      "ECE = 0.012781920509636314\n",
      "BS = 0.1842097312136829\n",
      "ECE = 0.019031228756904585\n",
      "BS = 0.18201571612087292\n",
      "ECE = 0.03195293451249596\n",
      "BS = 0.1857441779598165\n"
     ]
    }
   ],
   "source": [
    "save_calibration_scores(all_probs_swag, ytest, title=\"swag\")\n",
    "save_calibration_scores(sgld_all_probs, ytest, title=\"SGLD\")\n",
    "save_calibration_scores(psgld_all_probs, ytest, title=\"pSGLD\")"
   ]
  },
  {
   "cell_type": "code",
   "execution_count": null,
   "metadata": {},
   "outputs": [],
   "source": [
    "sns.set(rc={\"figure.dpi\":600, 'savefig.dpi':600})\n",
    "sns.set_style(\"darkgrid\")\n",
    "path_figures = path + \"/figures\"\n",
    "tau_list = np.linspace(0, 1, num=100)\n",
    "for name, all_probs in [('swag', swag_all_probs), ('sgld', sgld_all_probs), ('psgld', psgld_all_probs)]:\n",
    "  acc_conf = accuracy_confidence(all_probs, ytest, tau_list, num_bins = 20)\n",
    "  plt.plot(tau_list, acc_conf, label=name)\n",
    "plt.xlabel(r\"$\\tau$\", fontsize=18)\n",
    "plt.ylabel(r\"accuracy - confidence | confidence $\\geq \\tau$\", fontsize=12)\n",
    "plt.legend()\n",
    "plt.savefig(path_figures + '/acc_conf-' + title + '.pdf', bbox_inches='tight')\n",
    "plt.show()\n",
    "\n",
    "for name, all_probs in [('swag', swag_all_probs), ('sgld', sgld_all_probs), ('psgld', psgld_all_probs)]:\n",
    "  cal_curve = calibration_curve(all_probs, ytest, num_bins = 20)\n",
    "  plt.plot(cal_curve[1], cal_curve[0] - cal_curve[1], label=name)\n",
    "plt.xlabel(\"confidence\", fontsize=16)\n",
    "plt.ylabel(\"accuracy - confidence\", fontsize=12)\n",
    "plt.legend()\n",
    "plt.savefig(path_figures + '/cal_curve-' + title + '.pdf', bbox_inches='tight')\n",
    "plt.show()"
   ]
  }
 ],
 "metadata": {
  "kernelspec": {
   "display_name": "Python 3",
   "language": "python",
   "name": "python3"
  },
  "language_info": {
   "codemirror_mode": {
    "name": "ipython",
    "version": 3
   },
   "file_extension": ".py",
   "mimetype": "text/x-python",
   "name": "python",
   "nbconvert_exporter": "python",
   "pygments_lexer": "ipython3",
   "version": "3.8.5"
  }
 },
 "nbformat": 4,
 "nbformat_minor": 4
}
